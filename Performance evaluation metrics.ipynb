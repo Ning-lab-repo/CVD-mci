{
 "cells": [
  {
   "cell_type": "code",
   "execution_count": 1,
   "id": "aa18efc4",
   "metadata": {},
   "outputs": [],
   "source": [
    "import pandas as pd\n",
    "df1 = pd.read_csv(r\"D:\\临床数据\\NHANES数据清洗\\3年心因死亡数据.csv\", low_memory=False)\n",
    "selected_columns = [\n",
    "    \"SEQN\",\"Doctor told you have diabetes\", \"Education Level - Adults 20+\", \"Ever told you had a stroke\",\n",
    "    \"Ever told you had coronary heart disease\", \"Ever told you had high blood pressure\",\n",
    "    \"Had at least 12 alcohol drinks/1 yr?\", \"Marital Status\", \"Moderate recreational activities\",\n",
    "    \"Moderate work activity\", \"Race\", \"Smoked at least 100 cigarettes in life\", \n",
    "    \"Vigorous recreational activities\", \"Vigorous work activity\", \"Walk or bicycle\", \"Age\", \n",
    "    \"Minutes sedentary activity\", \"Ratio of family income to poverty\", \"Waist Circumference (cm)\", \n",
    "    \"Alanine Aminotransferase (ALT) (U/L)\", \"Albumin (g/L)\", \"Albumin_urine (mg/L)\", \n",
    "    \"Alkaline Phosphatase (ALP) (IU/L)\", \"Bicarbonate (mmol/L)\", \"Blood urea nitrogen (mmol/L)\", \n",
    "    \"Chloride (mmol/L)\", \"Cholesterol (mmol/L)\", \"Creatinine (umol/L)\", \"Creatinine_urine (umol/L)\", \n",
    "    \"Direct HDL-Cholesterol (mmol/L)\", \"Gamma Glutamyl Transferase (GGT) (U/L)\", \"Globulin (g/L)\", \n",
    "    \"Glucose_serum (mmol/L)\", \"Glycohemoglobin (%)\", \"Hematocrit (%)\", \"Hemoglobin (g/dL)\", \n",
    "    \"Iron_refigerated (umol/L)\", \"Lactate Dehydrogenase (LDH) (U/L)\", \"Lymphocyte number (1000 cells/uL)\", \n",
    "    \"Lymphocyte percent (%)\", \"Mean cell hemoglobin (pg)\", \"Mean cell hemoglobin concentration (g/dL)\", \n",
    "    \"Mean cell volume (fL)\", \"Monocyte number (1000 cells/uL)\", \"Monocyte percent (%)\", \n",
    "    \"Osmolality (mmol/Kg)\", \"Phosphorus (mmol/L)\", \"Platelet count (1000 cells/uL)\", \n",
    "    \"Potassium (mmol/L)\", \"Red blood cell count (million cells/uL)\", \"Red cell distribution width (%)\", \n",
    "    \"Segmented neutrophils num (1000 cell/uL)\", \"Segmented neutrophils percent (%)\", \n",
    "    \"Total protein (g/L)\", \"Uric acid (umol/L)\", \"3 year heart death\"\n",
    "]\n",
    "df2 = df1[selected_columns]"
   ]
  },
  {
   "cell_type": "code",
   "execution_count": 3,
   "id": "a042faa8",
   "metadata": {},
   "outputs": [
    {
     "name": "stderr",
     "output_type": "stream",
     "text": [
      "C:\\Users\\wzc\\AppData\\Local\\Temp\\ipykernel_22852\\1171126219.py:8: SettingWithCopyWarning: \n",
      "A value is trying to be set on a copy of a slice from a DataFrame.\n",
      "Try using .loc[row_indexer,col_indexer] = value instead\n",
      "\n",
      "See the caveats in the documentation: https://pandas.pydata.org/pandas-docs/stable/user_guide/indexing.html#returning-a-view-versus-a-copy\n",
      "  df2[col] = df2[col].astype('category')\n"
     ]
    }
   ],
   "source": [
    "from sklearn.preprocessing import StandardScaler\n",
    "first_col = df2.iloc[:, 0]\n",
    "last_col = df2.iloc[:, -1]\n",
    "for col in df2.columns[1:15]:\n",
    "    df2[col] = df2[col].astype('category')\n",
    "df_encoded = pd.get_dummies(df2.iloc[:, 1:15], drop_first=True)\n",
    "scaler = StandardScaler()\n",
    "df_standardized = pd.DataFrame(scaler.fit_transform(df2.iloc[:, 15:-1]), columns=df2.columns[15:-1])\n",
    "df3 = pd.concat([first_col, df_encoded, df_standardized, last_col], axis=1)"
   ]
  },
  {
   "cell_type": "code",
   "execution_count": 4,
   "id": "7dbbd642",
   "metadata": {},
   "outputs": [],
   "source": [
    "selected_columns = [\n",
    "    \"SEQN\",'Age', 'Ratio of family income to poverty', 'Alanine Aminotransferase (ALT) (U/L)', 'Race_2','Race_3','Race_4','Race_5', \n",
    "    'Chloride (mmol/L)',\n",
    "    'Minutes sedentary activity', 'Walk or bicycle_2', 'Glucose_serum (mmol/L)', 'Direct HDL-Cholesterol (mmol/L)', \n",
    "    'Mean cell volume (fL)', \n",
    "    \"3 year heart death\"\n",
    "]\n",
    "df4 = df3[selected_columns]"
   ]
  },
  {
   "cell_type": "code",
   "execution_count": 6,
   "id": "915bcba2",
   "metadata": {},
   "outputs": [
    {
     "data": {
      "text/plain": [
       "0.8841694001629651"
      ]
     },
     "execution_count": 6,
     "metadata": {},
     "output_type": "execute_result"
    }
   ],
   "source": [
    "x = df4.iloc[:, 1:14]\n",
    "y = df4['3 year heart death']\n",
    "from sklearn.model_selection import train_test_split\n",
    "x_train, x_test, y_train, y_test = train_test_split(x, y, test_size=0.3, random_state=42)\n",
    "from sklearn.linear_model import LogisticRegression\n",
    "estimator = LogisticRegression(max_iter=200)\n",
    "estimator.fit(x_train, y_train)\n",
    "from sklearn.metrics import roc_auc_score\n",
    "y_true = y_test\n",
    "probs1 = estimator.predict_proba(x_test)[:, 1]\n",
    "# 计算AUC\n",
    "auc_LR = roc_auc_score(y_true, probs1)\n",
    "auc_LR"
   ]
  },
  {
   "cell_type": "code",
   "execution_count": 1,
   "id": "0da47e3c",
   "metadata": {},
   "outputs": [
    {
     "ename": "NameError",
     "evalue": "name 'estimator' is not defined",
     "output_type": "error",
     "traceback": [
      "\u001b[1;31m---------------------------------------------------------------------------\u001b[0m",
      "\u001b[1;31mNameError\u001b[0m                                 Traceback (most recent call last)",
      "Cell \u001b[1;32mIn[1], line 5\u001b[0m\n\u001b[0;32m      3\u001b[0m \u001b[38;5;28;01mfrom\u001b[39;00m \u001b[38;5;21;01msklearn\u001b[39;00m\u001b[38;5;21;01m.\u001b[39;00m\u001b[38;5;21;01mutils\u001b[39;00m \u001b[38;5;28;01mimport\u001b[39;00m resample\n\u001b[0;32m      4\u001b[0m \u001b[38;5;28;01mfrom\u001b[39;00m \u001b[38;5;21;01msklearn\u001b[39;00m\u001b[38;5;21;01m.\u001b[39;00m\u001b[38;5;21;01mmetrics\u001b[39;00m \u001b[38;5;28;01mimport\u001b[39;00m precision_score, recall_score, accuracy_score\n\u001b[1;32m----> 5\u001b[0m y_probs \u001b[38;5;241m=\u001b[39m estimator\u001b[38;5;241m.\u001b[39mpredict_proba(x_test)[:, \u001b[38;5;241m1\u001b[39m]\n\u001b[0;32m      6\u001b[0m auc \u001b[38;5;241m=\u001b[39m roc_auc_score(y_test, y_probs)\n\u001b[0;32m      7\u001b[0m n_iterations \u001b[38;5;241m=\u001b[39m \u001b[38;5;241m1000\u001b[39m\n",
      "\u001b[1;31mNameError\u001b[0m: name 'estimator' is not defined"
     ]
    }
   ],
   "source": [
    "import numpy as np\n",
    "from sklearn.metrics import roc_auc_score, roc_curve, confusion_matrix, accuracy_score, precision_recall_curve, f1_score, matthews_corrcoef\n",
    "from sklearn.utils import resample\n",
    "from sklearn.metrics import precision_score, recall_score, accuracy_score\n",
    "y_probs = estimator.predict_proba(x_test)[:, 1]\n",
    "auc = roc_auc_score(y_test, y_probs)\n",
    "n_iterations = 1000\n",
    "auc_scores = []\n",
    "for i in range(n_iterations):\n",
    "    x_resampled, y_resampled = resample(x_test, y_test, random_state=i)\n",
    "    y_probs_resampled = estimator.predict_proba(x_resampled)[:, 1]\n",
    "    auc_scores.append(roc_auc_score(y_resampled, y_probs_resampled))\n",
    "auc_lower = np.percentile(auc_scores, 2.5)\n",
    "auc_upper = np.percentile(auc_scores, 97.5)\n",
    "fpr, tpr, thresholds = roc_curve(y_test, y_probs)\n",
    "youden_index = tpr - fpr\n",
    "best_threshold = thresholds[np.argmax(youden_index)]\n",
    "y_pred_best = (y_probs >= best_threshold).astype(int)\n",
    "cm = confusion_matrix(y_test, y_pred_best)\n",
    "accuracy = accuracy_score(y_test, y_pred_best)\n",
    "sensitivity = recall_score(y_test, y_pred_best)\n",
    "specificity = cm[0, 0] / (cm[0, 0] + cm[0, 1])\n",
    "ppv = precision_score(y_test, y_pred_best)\n",
    "npv = cm[1, 1] / (cm[1, 1] + cm[1, 0])\n",
    "mcc = matthews_corrcoef(y_test, y_pred_best)\n",
    "f1 = f1_score(y_test, y_pred_best)\n",
    "acc_scores, sn_scores, sp_scores, ppv_scores, npv_scores, mcc_scores, f1_scores = [], [], [], [], [], [], []\n",
    "for i in range(n_iterations):\n",
    "    x_resampled, y_resampled = resample(x_test, y_test, random_state=i)\n",
    "    y_probs_resampled = estimator.predict_proba(x_resampled)[:, 1]\n",
    "    y_pred_resampled = (y_probs_resampled >= best_threshold).astype(int)\n",
    "    cm_resampled = confusion_matrix(y_resampled, y_pred_resampled)\n",
    "    acc_scores.append(accuracy_score(y_resampled, y_pred_resampled))\n",
    "    sn_scores.append(recall_score(y_resampled, y_pred_resampled))\n",
    "    sp_scores.append(cm_resampled[0, 0] / (cm_resampled[0, 0] + cm_resampled[0, 1]))\n",
    "    ppv_scores.append(precision_score(y_resampled, y_pred_resampled))\n",
    "    npv_scores.append(cm_resampled[1, 1] / (cm_resampled[1, 1] + cm_resampled[1, 0]))\n",
    "    mcc_scores.append(matthews_corrcoef(y_resampled, y_pred_resampled))\n",
    "    f1_scores.append(f1_score(y_resampled, y_pred_resampled))\n",
    "def calculate_ci(scores):\n",
    "    return np.percentile(scores, 2.5), np.percentile(scores, 97.5)\n",
    "accuracy_ci = calculate_ci(acc_scores)\n",
    "sensitivity_ci = calculate_ci(sn_scores)\n",
    "specificity_ci = calculate_ci(sp_scores)\n",
    "ppv_ci = calculate_ci(ppv_scores)\n",
    "npv_ci = calculate_ci(npv_scores)\n",
    "mcc_ci = calculate_ci(mcc_scores)\n",
    "f1_ci = calculate_ci(f1_scores)\n",
    "print(f\"AUC: {auc:.3f} ({auc_lower:.3f} - {auc_upper:.3f})\")\n",
    "print(f\"Accuracy: {accuracy:.3f} ({accuracy_ci[0]:.3f} - {accuracy_ci[1]:.3f})\")\n",
    "print(f\"Sensitivity: {sensitivity:.3f} ({sensitivity_ci[0]:.3f} - {sensitivity_ci[1]:.3f})\")\n",
    "print(f\"Specificity: {specificity:.3f} ({specificity_ci[0]:.3f} - {specificity_ci[1]:.3f})\")\n",
    "print(f\"PPV: {ppv:.3f} ({ppv_ci[0]:.3f} - {ppv_ci[1]:.3f})\")\n",
    "print(f\"NPV: {npv:.3f} ({npv_ci[0]:.3f} - {npv_ci[1]:.3f})\")\n",
    "print(f\"MCC: {mcc:.3f} ({mcc_ci[0]:.3f} - {mcc_ci[1]:.3f})\")\n",
    "print(f\"F1 Score: {f1:.3f} ({f1_ci[0]:.3f} - {f1_ci[1]:.3f})\")"
   ]
  },
  {
   "cell_type": "code",
   "execution_count": null,
   "id": "2bda6580",
   "metadata": {},
   "outputs": [],
   "source": []
  }
 ],
 "metadata": {
  "kernelspec": {
   "display_name": "Python 3 (ipykernel)",
   "language": "python",
   "name": "python3"
  },
  "language_info": {
   "codemirror_mode": {
    "name": "ipython",
    "version": 3
   },
   "file_extension": ".py",
   "mimetype": "text/x-python",
   "name": "python",
   "nbconvert_exporter": "python",
   "pygments_lexer": "ipython3",
   "version": "3.11.5"
  }
 },
 "nbformat": 4,
 "nbformat_minor": 5
}
