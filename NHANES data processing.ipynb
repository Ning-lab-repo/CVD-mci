{
 "cells": [
  {
   "cell_type": "code",
   "execution_count": 1,
   "id": "4d2ae10f",
   "metadata": {},
   "outputs": [],
   "source": [
    "import os\n",
    "import pandas as pd\n",
    "import pyreadstat"
   ]
  },
  {
   "cell_type": "code",
   "execution_count": 5,
   "id": "4301da94",
   "metadata": {},
   "outputs": [
    {
     "name": "stdout",
     "output_type": "stream",
     "text": [
      "File D:\\临床数据\\NHANES数据清洗\\NHANES 2000-2020\\2013-2014\\2013-2014 Laboratory Data - Continuous NHANES\\Brominated Flame Retardants (BFRs) - Pooled Samples.XPT does not contain 'SEQN' column and will be skipped.\n",
      "File D:\\临床数据\\NHANES数据清洗\\NHANES 2000-2020\\2013-2014\\2013-2014 Laboratory Data - Continuous NHANES\\Non-dioxin-like Polychlorinated Biphenyls & Mono-ortho-substituted Polychlorinated Biphenyls - Serum - Pooled Samples.XPT does not contain 'SEQN' column and will be skipped.\n",
      "File D:\\临床数据\\NHANES数据清洗\\NHANES 2000-2020\\2013-2014\\2013-2014 Laboratory Data - Continuous NHANES\\Pesticides - Organochlorine Pesticides - Serum - Pooled Samples.XPT does not contain 'SEQN' column and will be skipped.\n",
      "Merged file saved as D:\\临床数据\\NHANES数据清洗\\2013-2014_merged_file.csv\n"
     ]
    }
   ],
   "source": [
    "root_path = r\"D:\\临床数据\\NHANES数据清洗\\NHANES 2000-2020\\2013-2014\"\n",
    "\n",
    "dfs = []\n",
    "\n",
    "for subdir, dirs, files in os.walk(root_path):\n",
    "    for file in files:\n",
    "        if file.endswith(\".XPT\"):\n",
    "            file_path = os.path.join(subdir, file)\n",
    "            try:\n",
    "                df, _ = pyreadstat.read_xport(file_path, encoding='latin1')\n",
    "                if 'SEQN' in df.columns:\n",
    "                    dfs.append(df)\n",
    "                else:\n",
    "                    print(f\"File {file_path} does not contain 'SEQN' column and will be skipped.\")\n",
    "            except UnicodeDecodeError as e:\n",
    "                print(f\"Unicode error reading {file_path}: {e}\")\n",
    "            except Exception as e:\n",
    "                print(f\"Error reading {file_path}: {e}\")\n",
    "\n",
    "if dfs:\n",
    "    merged_df = dfs.pop(0)\n",
    "    for i, df in enumerate(dfs):\n",
    "        common_cols = merged_df.columns.intersection(df.columns).tolist()\n",
    "        common_cols.remove('SEQN')\n",
    "        df = df.rename(columns={col: f\"{col}_{i}\" for col in common_cols})\n",
    "        merged_df = pd.merge(merged_df, df, on=\"SEQN\", how=\"outer\")\n",
    "\n",
    "    output_file = r\"D:\\临床数据\\NHANES数据清洗\\2013-2014_merged_file.csv\"\n",
    "    merged_df.to_csv(output_file, index=False)\n",
    "    print(f\"Merged file saved as {output_file}\")\n",
    "else:\n",
    "    print(\"No valid dataframes to merge.\")"
   ]
  },
  {
   "cell_type": "code",
   "execution_count": 6,
   "id": "3edf8ed8",
   "metadata": {},
   "outputs": [
    {
     "name": "stdout",
     "output_type": "stream",
     "text": [
      "<class 'pandas.core.frame.DataFrame'>\n",
      "RangeIndex: 40643 entries, 0 to 40642\n",
      "Columns: 1959 entries, SEQN to SMQ852U\n",
      "dtypes: float64(1957), object(2)\n",
      "memory usage: 607.4+ MB\n",
      "None\n",
      "数据已成功保存到 D:\\临床数据\\NHANES数据清洗\\merged_data.csv\n"
     ]
    }
   ],
   "source": [
    "directory_path = 'D:\\\\临床数据\\\\NHANES数据清洗\\\\2007-2014_merged_file'\n",
    "\n",
    "df_list = []\n",
    "\n",
    "for filename in os.listdir(directory_path):\n",
    "    if filename.endswith(\".csv\"):\n",
    "        file_path = os.path.join(directory_path, filename)\n",
    "        df = pd.read_csv(file_path, low_memory=False)\n",
    "        df_list.append(df)\n",
    "\n",
    "merged_df = pd.concat(df_list, ignore_index=True)\n",
    "\n",
    "print(merged_df.info())\n",
    "\n",
    "output_file_path = 'D:\\\\临床数据\\\\NHANES数据清洗\\\\merged_data.csv'\n",
    "merged_df.to_csv(output_file_path, index=False)\n",
    "\n",
    "print(f\"数据已成功保存到 {output_file_path}\")"
   ]
  },
  {
   "cell_type": "code",
   "execution_count": 7,
   "id": "59bf1c26",
   "metadata": {},
   "outputs": [
    {
     "name": "stdout",
     "output_type": "stream",
     "text": [
      "SEQN        0.000000\n",
      "SDDSRVYR    0.000000\n",
      "RIDSTATR    0.000000\n",
      "RIDEXMON    0.035701\n",
      "RIAGENDR    0.000000\n",
      "              ...   \n",
      "SMQ665C     0.999779\n",
      "SMQ665D     0.999951\n",
      "SMQ848      0.985656\n",
      "SMQ852Q     0.985729\n",
      "SMQ852U     0.985803\n",
      "Length: 1959, dtype: float64\n"
     ]
    }
   ],
   "source": [
    "file_path = 'D:\\\\临床数据\\\\NHANES数据清洗\\\\merged_data.csv'\n",
    "\n",
    "df = pd.read_csv(file_path, low_memory=False)\n",
    "\n",
    "missing_ratio = df.isnull().mean()\n",
    "\n",
    "print(missing_ratio)"
   ]
  },
  {
   "cell_type": "code",
   "execution_count": 9,
   "id": "255b4fe1",
   "metadata": {},
   "outputs": [],
   "source": [
    "columns_to_drop = missing_ratio[missing_ratio > 0.5].index\n",
    "df1 = df.drop(columns=columns_to_drop)"
   ]
  },
  {
   "cell_type": "code",
   "execution_count": 11,
   "id": "09db8919",
   "metadata": {},
   "outputs": [],
   "source": [
    "df2 = df1.drop_duplicates()"
   ]
  },
  {
   "cell_type": "code",
   "execution_count": 14,
   "id": "86e34898",
   "metadata": {},
   "outputs": [],
   "source": [
    "output_file_path = 'D:\\\\临床数据\\\\NHANES数据清洗\\\\删除缺失值列.csv'\n",
    "\n",
    "df2.to_csv(output_file_path, index=False)"
   ]
  },
  {
   "cell_type": "code",
   "execution_count": 30,
   "id": "57a379fc",
   "metadata": {},
   "outputs": [],
   "source": [
    "folder_path = \"D:/临床数据/NHANES数据清洗/死亡结局数据\"\n",
    "\n",
    "column_specs = [\n",
    "    (0, 6),\n",
    "    (14, 15), \n",
    "    (15, 16), \n",
    "    (16, 19), \n",
    "    (19, 20),\n",
    "    (20, 21), \n",
    "    (42, 45), \n",
    "    (45, 48)  \n",
    "]\n",
    "\n",
    "column_names = [\n",
    "    \"SEQN\", \"eligstat\", \"mortstat\", \"ucod_leading\", \n",
    "    \"diabetes\", \"hyperten\", \"permth_int\", \"permth_exm\"\n",
    "]\n",
    "\n",
    "all_data = []\n",
    "\n",
    "for file_name in os.listdir(folder_path):\n",
    "    if file_name.endswith(\".dat\"):\n",
    "        file_path = os.path.join(folder_path, file_name)\n",
    "        \n",
    "        data = pd.read_fwf(\n",
    "            file_path, \n",
    "            colspecs=column_specs, \n",
    "            names=column_names, \n",
    "            na_values=[\"\", \".\"]\n",
    "        )\n",
    "        \n",
    "        all_data.append(data)\n",
    "\n",
    "merged_data = pd.concat(all_data, ignore_index=True)"
   ]
  },
  {
   "cell_type": "code",
   "execution_count": 32,
   "id": "f6cc611f",
   "metadata": {},
   "outputs": [],
   "source": [
    "file_path = 'D:\\\\临床数据\\\\NHANES数据清洗\\\\删除缺失值列.csv'\n",
    "\n",
    "df = pd.read_csv(file_path, low_memory=False)"
   ]
  },
  {
   "cell_type": "code",
   "execution_count": 34,
   "id": "cfb21221",
   "metadata": {},
   "outputs": [],
   "source": [
    "merged_df = pd.merge(merged_data, df, on=\"SEQN\", how=\"outer\")"
   ]
  },
  {
   "cell_type": "code",
   "execution_count": 36,
   "id": "9e66a16a",
   "metadata": {},
   "outputs": [],
   "source": [
    "output_file = r\"D:\\临床数据\\NHANES数据清洗\\合并死亡数据.csv\"\n",
    "merged_df.to_csv(output_file, index=False)"
   ]
  },
  {
   "cell_type": "code",
   "execution_count": 39,
   "id": "aafe54fa",
   "metadata": {},
   "outputs": [],
   "source": [
    "file_path = 'D:\\\\临床数据\\\\NHANES数据清洗\\\\AGE=20+.csv'\n",
    "\n",
    "df = pd.read_csv(file_path, low_memory=False)"
   ]
  },
  {
   "cell_type": "code",
   "execution_count": 43,
   "id": "a0e95ea1",
   "metadata": {},
   "outputs": [],
   "source": [
    "missing_ratio = df.iloc[:, 6:62].isna().mean(axis=1)\n",
    "\n",
    "df_cleaned = df[missing_ratio <= 0.5].reset_index(drop=True)"
   ]
  },
  {
   "cell_type": "code",
   "execution_count": 45,
   "id": "ecf715d1",
   "metadata": {},
   "outputs": [],
   "source": [
    "missing_ratio_cols = df_cleaned.iloc[:, 6:62].isna().mean()"
   ]
  },
  {
   "cell_type": "code",
   "execution_count": 51,
   "id": "fda25f6a",
   "metadata": {},
   "outputs": [],
   "source": [
    "output_file = r\"D:\\临床数据\\NHANES数据清洗\\删除缺失值行.csv\"\n",
    "df_cleaned.to_csv(output_file, index=False)"
   ]
  },
  {
   "cell_type": "code",
   "execution_count": null,
   "id": "917ddc3a",
   "metadata": {},
   "outputs": [],
   "source": []
  }
 ],
 "metadata": {
  "kernelspec": {
   "display_name": "Python 3 (ipykernel)",
   "language": "python",
   "name": "python3"
  },
  "language_info": {
   "codemirror_mode": {
    "name": "ipython",
    "version": 3
   },
   "file_extension": ".py",
   "mimetype": "text/x-python",
   "name": "python",
   "nbconvert_exporter": "python",
   "pygments_lexer": "ipython3",
   "version": "3.11.5"
  }
 },
 "nbformat": 4,
 "nbformat_minor": 5
}
