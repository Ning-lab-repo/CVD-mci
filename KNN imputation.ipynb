{
 "cells": [
  {
   "cell_type": "code",
   "execution_count": 1,
   "id": "c22d1970",
   "metadata": {},
   "outputs": [],
   "source": [
    "import pandas as pd"
   ]
  },
  {
   "cell_type": "code",
   "execution_count": 2,
   "id": "dce8af0e",
   "metadata": {},
   "outputs": [],
   "source": [
    "file_path = 'D:\\\\临床数据\\\\NHANES数据清洗\\\\AGE=20+.csv'\n",
    "df1 = pd.read_csv(file_path, low_memory=False)"
   ]
  },
  {
   "cell_type": "code",
   "execution_count": 3,
   "id": "bc47bb98",
   "metadata": {},
   "outputs": [],
   "source": [
    "file_path = 'D:\\\\临床数据\\\\NHANES数据清洗\\\\删除缺失值列2007-2014.csv'\n",
    "df2 = pd.read_csv(file_path, low_memory=False)"
   ]
  },
  {
   "cell_type": "code",
   "execution_count": 12,
   "id": "e5c98594",
   "metadata": {},
   "outputs": [],
   "source": [
    "merged_df = pd.merge(df1, df2, on=\"SEQN\", how=\"inner\", suffixes=('', '_dup'))\n",
    "merged_df = merged_df.loc[:, ~merged_df.columns.str.endswith('_dup')]"
   ]
  },
  {
   "cell_type": "code",
   "execution_count": 14,
   "id": "9cb87a79",
   "metadata": {},
   "outputs": [],
   "source": [
    "output_file = r\"D:\\临床数据\\NHANES数据清洗\\合并1.csv\"\n",
    "merged_df.to_csv(output_file, index=False)"
   ]
  },
  {
   "cell_type": "code",
   "execution_count": 15,
   "id": "46246c34",
   "metadata": {},
   "outputs": [],
   "source": [
    "file_path = 'D:\\\\临床数据\\\\NHANES数据清洗\\\\合并1.csv'\n",
    "df1 = pd.read_csv(file_path, low_memory=False)"
   ]
  },
  {
   "cell_type": "code",
   "execution_count": 22,
   "id": "abf9a69a",
   "metadata": {},
   "outputs": [],
   "source": [
    "missing_ratio = df1.iloc[:, 1:68].isna().mean(axis=1)\n",
    "df_cleaned = df1[missing_ratio <= 0.5].reset_index(drop=True)"
   ]
  },
  {
   "cell_type": "code",
   "execution_count": 26,
   "id": "3c84c5ca",
   "metadata": {},
   "outputs": [],
   "source": [
    "output_file = r\"D:\\临床数据\\NHANES数据清洗\\合并2.csv\"\n",
    "df_cleaned.to_csv(output_file, index=False)"
   ]
  },
  {
   "cell_type": "code",
   "execution_count": 1,
   "id": "db31714f",
   "metadata": {},
   "outputs": [
    {
     "ename": "NameError",
     "evalue": "name 'pd' is not defined",
     "output_type": "error",
     "traceback": [
      "\u001b[1;31m---------------------------------------------------------------------------\u001b[0m",
      "\u001b[1;31mNameError\u001b[0m                                 Traceback (most recent call last)",
      "Cell \u001b[1;32mIn[1], line 5\u001b[0m\n\u001b[0;32m      2\u001b[0m file_path \u001b[38;5;241m=\u001b[39m \u001b[38;5;124m'\u001b[39m\u001b[38;5;124mD:\u001b[39m\u001b[38;5;130;01m\\\\\u001b[39;00m\u001b[38;5;124m临床数据\u001b[39m\u001b[38;5;130;01m\\\\\u001b[39;00m\u001b[38;5;124mNHANES数据清洗\u001b[39m\u001b[38;5;130;01m\\\\\u001b[39;00m\u001b[38;5;124m合并2.csv\u001b[39m\u001b[38;5;124m'\u001b[39m\n\u001b[0;32m      4\u001b[0m \u001b[38;5;66;03m# 读取CSV文件，设置low_memory=False避免警告\u001b[39;00m\n\u001b[1;32m----> 5\u001b[0m df1 \u001b[38;5;241m=\u001b[39m pd\u001b[38;5;241m.\u001b[39mread_csv(file_path, low_memory\u001b[38;5;241m=\u001b[39m\u001b[38;5;28;01mFalse\u001b[39;00m)\n",
      "\u001b[1;31mNameError\u001b[0m: name 'pd' is not defined"
     ]
    }
   ],
   "source": [
    "file_path = 'D:\\\\临床数据\\\\NHANES数据清洗\\\\合并2.csv'\n",
    "df1 = pd.read_csv(file_path, low_memory=False)"
   ]
  },
  {
   "cell_type": "code",
   "execution_count": 36,
   "id": "b043e2e1",
   "metadata": {},
   "outputs": [],
   "source": 
   ]
  },
  {
   "cell_type": "code",
   "execution_count": 40,
   "id": "1d78881b",
   "metadata": {},
   "outputs": [],
   "source": [
    "output_file = r\"D:\\临床数据\\NHANES数据清洗\\合并3.csv\"\n",
    "df1.to_csv(output_file, index=False)"
   ]
  },
  {
   "cell_type": "code",
   "execution_count": null,
   "id": "a2a3c052",
   "metadata": {},
   "outputs": [],
   "source": []
  }
 ],
 "metadata": {
  "kernelspec": {
   "display_name": "Python 3 (ipykernel)",
   "language": "python",
   "name": "python3"
  },
  "language_info": {
   "codemirror_mode": {
    "name": "ipython",
    "version": 3
   },
   "file_extension": ".py",
   "mimetype": "text/x-python",
   "name": "python",
   "nbconvert_exporter": "python",
   "pygments_lexer": "ipython3",
   "version": "3.11.5"
  }
 },
 "nbformat": 4,
 "nbformat_minor": 5
}
