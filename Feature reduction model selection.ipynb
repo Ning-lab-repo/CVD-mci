{
 "cells": [
  {
   "cell_type": "code",
   "execution_count": 1,
   "id": "d3a99fe2",
   "metadata": {},
   "outputs": [],
   "source": [
    "import pandas as pd"
   ]
  },
  {
   "cell_type": "code",
   "execution_count": 2,
   "id": "77b6a296",
   "metadata": {},
   "outputs": [],
   "source": [
    "df1 = pd.read_csv(r\"D:\\临床数据\\NHANES数据清洗\\3年心因死亡数据.csv\", low_memory=False)"
   ]
  },
  {
   "cell_type": "code",
   "execution_count": 6,
   "id": "4eb7a1e7",
   "metadata": {},
   "outputs": [],
   "source": [
    "selected_columns = [\n",
    "    \"SEQN\",\"Doctor told you have diabetes\", \"Education Level - Adults 20+\", \"Ever told you had a stroke\",\n",
    "    \"Ever told you had coronary heart disease\", \"Ever told you had high blood pressure\",\n",
    "    \"Had at least 12 alcohol drinks/1 yr?\", \"Marital Status\", \"Moderate recreational activities\",\n",
    "    \"Moderate work activity\", \"Race\", \"Smoked at least 100 cigarettes in life\", \n",
    "    \"Vigorous recreational activities\", \"Vigorous work activity\", \"Walk or bicycle\", \"Age\", \n",
    "    \"Minutes sedentary activity\", \"Ratio of family income to poverty\", \"Waist Circumference (cm)\", \n",
    "    \"Alanine Aminotransferase (ALT) (U/L)\", \"Albumin (g/L)\", \"Albumin_urine (mg/L)\", \n",
    "    \"Alkaline Phosphatase (ALP) (IU/L)\", \"Bicarbonate (mmol/L)\", \"Blood urea nitrogen (mmol/L)\", \n",
    "    \"Chloride (mmol/L)\", \"Cholesterol (mmol/L)\", \"Creatinine (umol/L)\", \"Creatinine_urine (umol/L)\", \n",
    "    \"Direct HDL-Cholesterol (mmol/L)\", \"Gamma Glutamyl Transferase (GGT) (U/L)\", \"Globulin (g/L)\", \n",
    "    \"Glucose_serum (mmol/L)\", \"Glycohemoglobin (%)\", \"Hematocrit (%)\", \"Hemoglobin (g/dL)\", \n",
    "    \"Iron_refigerated (umol/L)\", \"Lactate Dehydrogenase (LDH) (U/L)\", \"Lymphocyte number (1000 cells/uL)\", \n",
    "    \"Lymphocyte percent (%)\", \"Mean cell hemoglobin (pg)\", \"Mean cell hemoglobin concentration (g/dL)\", \n",
    "    \"Mean cell volume (fL)\", \"Monocyte number (1000 cells/uL)\", \"Monocyte percent (%)\", \n",
    "    \"Osmolality (mmol/Kg)\", \"Phosphorus (mmol/L)\", \"Platelet count (1000 cells/uL)\", \n",
    "    \"Potassium (mmol/L)\", \"Red blood cell count (million cells/uL)\", \"Red cell distribution width (%)\", \n",
    "    \"Segmented neutrophils num (1000 cell/uL)\", \"Segmented neutrophils percent (%)\", \n",
    "    \"Total protein (g/L)\", \"Uric acid (umol/L)\", \"3 year heart death\"\n",
    "]\n",
    "df2 = df1[selected_columns]"
   ]
  },
  {
   "cell_type": "code",
   "execution_count": 9,
   "id": "4791eaa1",
   "metadata": {},
   "outputs": [
    {
     "name": "stderr",
     "output_type": "stream",
     "text": [
      "C:\\Users\\wzc\\AppData\\Local\\Temp\\ipykernel_32228\\1171126219.py:8: SettingWithCopyWarning: \n",
      "A value is trying to be set on a copy of a slice from a DataFrame.\n",
      "Try using .loc[row_indexer,col_indexer] = value instead\n",
      "\n",
      "See the caveats in the documentation: https://pandas.pydata.org/pandas-docs/stable/user_guide/indexing.html#returning-a-view-versus-a-copy\n",
      "  df2[col] = df2[col].astype('category')\n"
     ]
    }
   ],
   "source": [
    "from sklearn.preprocessing import StandardScaler\n",
    "first_col = df2.iloc[:, 0]\n",
    "last_col = df2.iloc[:, -1]\n",
    "for col in df2.columns[1:15]:\n",
    "    df2[col] = df2[col].astype('category')\n",
    "df_encoded = pd.get_dummies(df2.iloc[:, 1:15], drop_first=True)\n",
    "scaler = StandardScaler()\n",
    "df_standardized = pd.DataFrame(scaler.fit_transform(df2.iloc[:, 15:-1]), columns=df2.columns[15:-1])\n",
    "df3 = pd.concat([first_col, df_encoded, df_standardized, last_col], axis=1)"
   ]
  },
  {
   "cell_type": "code",
   "execution_count": 11,
   "id": "8b230c6c",
   "metadata": {},
   "outputs": [],
   "source": [
    "selected_columns = [\n",
    "    \"SEQN\",'Age', 'Ratio of family income to poverty', 'Alanine Aminotransferase (ALT) (U/L)', 'Race_2','Race_3','Race_4','Race_5', \n",
    "    'Chloride (mmol/L)',\n",
    "    'Minutes sedentary activity', 'Walk or bicycle_2', 'Glucose_serum (mmol/L)', 'Direct HDL-Cholesterol (mmol/L)', \n",
    "    'Mean cell volume (fL)', 'Red cell distribution width (%)', 'Moderate recreational activities_2', \n",
    "    'Glycohemoglobin (%)', 'Waist Circumference (cm)', 'Marital Status_2','Marital Status_3','Marital Status_4','Marital Status_5','Marital Status_6',\n",
    "    'Lymphocyte number (1000 cells/uL)', \n",
    "    'Albumin (g/L)', 'Education Level - Adults 20+_2','Education Level - Adults 20+_3','Education Level - Adults 20+_4','Education Level - Adults 20+_5', 'Vigorous recreational activities_2', 'Osmolality (mmol/Kg)', \n",
    "    'Had at least 12 alcohol drinks/1 yr?_2', 'Cholesterol (mmol/L)', 'Segmented neutrophils num (1000 cell/uL)', \n",
    "    'Blood urea nitrogen (mmol/L)', 'Uric acid (umol/L)', 'Segmented neutrophils percent (%)', \n",
    "    'Moderate work activity_2', 'Hemoglobin (g/dL)', 'Platelet count (1000 cells/uL)', 'Lactate Dehydrogenase (LDH) (U/L)', \n",
    "    'Creatinine_urine (umol/L)', 'Alkaline Phosphatase (ALP) (IU/L)', 'Gamma Glutamyl Transferase (GGT) (U/L)', \n",
    "    'Ever told you had a stroke_2', 'Monocyte number (1000 cells/uL)', 'Globulin (g/L)', \n",
    "    'Ever told you had coronary heart disease_2', 'Mean cell hemoglobin concentration (g/dL)', \n",
    "    'Iron_refigerated (umol/L)', 'Bicarbonate (mmol/L)', 'Creatinine (umol/L)', 'Phosphorus (mmol/L)', \n",
    "    'Doctor told you have diabetes_2','Doctor told you have diabetes_3', 'Vigorous work activity_2', 'Potassium (mmol/L)', \n",
    "    'Smoked at least 100 cigarettes in life_2', 'Ever told you had high blood pressure_2', \n",
    "    'Albumin_urine (mg/L)', 'Monocyte percent (%)', 'Mean cell hemoglobin (pg)', \"3 year heart death\"\n",
    "]\n",
    "df4 = df3[selected_columns]"
   ]
  },
  {
   "cell_type": "code",
   "execution_count": 15,
   "id": "53812d78",
   "metadata": {},
   "outputs": [],
   "source": [
    "x = df4.iloc[:, 1:62]\n",
    "y = df4['3 year heart death']"
   ]
  },
  {
   "cell_type": "code",
   "execution_count": 1,
   "id": "aaee01bb",
   "metadata": {},
   "outputs": [
    {
     "ename": "NameError",
     "evalue": "name 'x' is not defined",
     "output_type": "error",
     "traceback": [
      "\u001b[1;31m---------------------------------------------------------------------------\u001b[0m",
      "\u001b[1;31mNameError\u001b[0m                                 Traceback (most recent call last)",
      "Cell \u001b[1;32mIn[1], line 2\u001b[0m\n\u001b[0;32m      1\u001b[0m \u001b[38;5;28;01mfrom\u001b[39;00m \u001b[38;5;21;01msklearn\u001b[39;00m\u001b[38;5;21;01m.\u001b[39;00m\u001b[38;5;21;01mmodel_selection\u001b[39;00m \u001b[38;5;28;01mimport\u001b[39;00m train_test_split\n\u001b[1;32m----> 2\u001b[0m x_train, x_test, y_train, y_test \u001b[38;5;241m=\u001b[39m train_test_split(x, y, test_size\u001b[38;5;241m=\u001b[39m\u001b[38;5;241m0.3\u001b[39m, random_state\u001b[38;5;241m=\u001b[39m\u001b[38;5;241m42\u001b[39m)\n\u001b[0;32m      3\u001b[0m \u001b[38;5;28;01mfrom\u001b[39;00m \u001b[38;5;21;01msklearn\u001b[39;00m\u001b[38;5;21;01m.\u001b[39;00m\u001b[38;5;21;01mlinear_model\u001b[39;00m \u001b[38;5;28;01mimport\u001b[39;00m LogisticRegression\n\u001b[0;32m      4\u001b[0m estimator \u001b[38;5;241m=\u001b[39m LogisticRegression(max_iter\u001b[38;5;241m=\u001b[39m\u001b[38;5;241m200\u001b[39m)\n",
      "\u001b[1;31mNameError\u001b[0m: name 'x' is not defined"
     ]
    }
   ],
   "source": [
    "from sklearn.model_selection import train_test_split\n",
    "x_train, x_test, y_train, y_test = train_test_split(x, y, test_size=0.3, random_state=42)\n",
    "from sklearn.linear_model import LogisticRegression\n",
    "estimator = LogisticRegression(max_iter=200)\n",
    "estimator.fit(x_train, y_train)\n",
    "from sklearn.metrics import roc_auc_score\n",
    "y_true = y_test\n",
    "probs1 = estimator.predict_proba(x_test)[:, 1]\n",
    "auc_LR = roc_auc_score(y_true, probs1)\n",
    "auc_LR"
   ]
  },
  {
   "cell_type": "code",
   "execution_count": 24,
   "id": "ae3aaa3f",
   "metadata": {},
   "outputs": [],
   "source": [
    "selected_columns = [\n",
    "    \"SEQN\",'Age', 'Ratio of family income to poverty', 'Alanine Aminotransferase (ALT) (U/L)', 'Race_2','Race_3','Race_4','Race_5', \n",
    "    'Chloride (mmol/L)',\n",
    "    'Minutes sedentary activity', 'Walk or bicycle_2', 'Glucose_serum (mmol/L)', 'Direct HDL-Cholesterol (mmol/L)', \n",
    "    'Mean cell volume (fL)', 'Red cell distribution width (%)', 'Moderate recreational activities_2', \n",
    "    'Glycohemoglobin (%)', 'Waist Circumference (cm)', 'Marital Status_2','Marital Status_3','Marital Status_4','Marital Status_5','Marital Status_6',\n",
    "    'Lymphocyte number (1000 cells/uL)', \n",
    "    'Albumin (g/L)', 'Education Level - Adults 20+_2','Education Level - Adults 20+_3','Education Level - Adults 20+_4','Education Level - Adults 20+_5', 'Vigorous recreational activities_2', 'Osmolality (mmol/Kg)', \n",
    "    'Had at least 12 alcohol drinks/1 yr?_2', 'Cholesterol (mmol/L)', 'Segmented neutrophils num (1000 cell/uL)', \n",
    "    'Blood urea nitrogen (mmol/L)', 'Uric acid (umol/L)', 'Segmented neutrophils percent (%)', \n",
    "    'Moderate work activity_2', 'Hemoglobin (g/dL)', 'Platelet count (1000 cells/uL)', 'Lactate Dehydrogenase (LDH) (U/L)', \n",
    "    'Creatinine_urine (umol/L)', 'Alkaline Phosphatase (ALP) (IU/L)', 'Gamma Glutamyl Transferase (GGT) (U/L)', \n",
    "    'Ever told you had a stroke_2', 'Monocyte number (1000 cells/uL)', 'Globulin (g/L)', \n",
    "    'Ever told you had coronary heart disease_2', 'Mean cell hemoglobin concentration (g/dL)', \n",
    "    'Iron_refigerated (umol/L)', 'Bicarbonate (mmol/L)',\"3 year heart death\"\n",
    "]\n",
    "df4 = df3[selected_columns]"
   ]
  },
  {
   "cell_type": "code",
   "execution_count": 26,
   "id": "5a7d9dc1",
   "metadata": {},
   "outputs": [],
   "source": [
    "x = df4.iloc[:, 1:51]\n",
    "y = df4['3 year heart death']"
   ]
  },
  {
   "cell_type": "code",
   "execution_count": 2,
   "id": "67581324",
   "metadata": {},
   "outputs": [
    {
     "ename": "NameError",
     "evalue": "name 'x' is not defined",
     "output_type": "error",
     "traceback": [
      "\u001b[1;31m---------------------------------------------------------------------------\u001b[0m",
      "\u001b[1;31mNameError\u001b[0m                                 Traceback (most recent call last)",
      "Cell \u001b[1;32mIn[2], line 2\u001b[0m\n\u001b[0;32m      1\u001b[0m \u001b[38;5;28;01mfrom\u001b[39;00m \u001b[38;5;21;01msklearn\u001b[39;00m\u001b[38;5;21;01m.\u001b[39;00m\u001b[38;5;21;01mmodel_selection\u001b[39;00m \u001b[38;5;28;01mimport\u001b[39;00m train_test_split\n\u001b[1;32m----> 2\u001b[0m x_train, x_test, y_train, y_test \u001b[38;5;241m=\u001b[39m train_test_split(x, y, test_size\u001b[38;5;241m=\u001b[39m\u001b[38;5;241m0.3\u001b[39m, random_state\u001b[38;5;241m=\u001b[39m\u001b[38;5;241m42\u001b[39m)\n\u001b[0;32m      3\u001b[0m \u001b[38;5;28;01mfrom\u001b[39;00m \u001b[38;5;21;01msklearn\u001b[39;00m\u001b[38;5;21;01m.\u001b[39;00m\u001b[38;5;21;01mlinear_model\u001b[39;00m \u001b[38;5;28;01mimport\u001b[39;00m LogisticRegression\n\u001b[0;32m      4\u001b[0m estimator \u001b[38;5;241m=\u001b[39m LogisticRegression(max_iter\u001b[38;5;241m=\u001b[39m\u001b[38;5;241m200\u001b[39m)\n",
      "\u001b[1;31mNameError\u001b[0m: name 'x' is not defined"
     ]
    }
   ],
   "source": [
    "from sklearn.model_selection import train_test_split\n",
    "x_train, x_test, y_train, y_test = train_test_split(x, y, test_size=0.3, random_state=42)\n",
    "from sklearn.linear_model import LogisticRegression\n",
    "estimator = LogisticRegression(max_iter=200)\n",
    "estimator.fit(x_train, y_train)\n",
    "from sklearn.metrics import roc_auc_score\n",
    "y_true = y_test\n",
    "probs1 = estimator.predict_proba(x_test)[:, 1]\n",
    "auc_LR = roc_auc_score(y_true, probs1)\n",
    "auc_LR"
   ]
  },
  {
   "cell_type": "code",
   "execution_count": 28,
   "id": "148f8d67",
   "metadata": {},
   "outputs": [],
   "source": [
    "selected_columns = [\n",
    "    \"SEQN\",'Age', 'Ratio of family income to poverty', 'Alanine Aminotransferase (ALT) (U/L)', 'Race_2','Race_3','Race_4','Race_5', \n",
    "    'Chloride (mmol/L)',\n",
    "    'Minutes sedentary activity', 'Walk or bicycle_2', 'Glucose_serum (mmol/L)', 'Direct HDL-Cholesterol (mmol/L)', \n",
    "    'Mean cell volume (fL)', 'Red cell distribution width (%)', 'Moderate recreational activities_2', \n",
    "    'Glycohemoglobin (%)', 'Waist Circumference (cm)', 'Marital Status_2','Marital Status_3','Marital Status_4','Marital Status_5','Marital Status_6',\n",
    "    'Lymphocyte number (1000 cells/uL)', \n",
    "    'Albumin (g/L)', 'Education Level - Adults 20+_2','Education Level - Adults 20+_3','Education Level - Adults 20+_4','Education Level - Adults 20+_5', 'Vigorous recreational activities_2', 'Osmolality (mmol/Kg)', \n",
    "    'Had at least 12 alcohol drinks/1 yr?_2', 'Cholesterol (mmol/L)', 'Segmented neutrophils num (1000 cell/uL)', \n",
    "    'Blood urea nitrogen (mmol/L)', 'Uric acid (umol/L)', 'Segmented neutrophils percent (%)', \n",
    "    'Moderate work activity_2', 'Hemoglobin (g/dL)', 'Platelet count (1000 cells/uL)', 'Lactate Dehydrogenase (LDH) (U/L)', \n",
    "    \"3 year heart death\"\n",
    "]\n",
    "df4 = df3[selected_columns]"
   ]
  },
  {
   "cell_type": "code",
   "execution_count": 30,
   "id": "3a32190d",
   "metadata": {},
   "outputs": [],
   "source": [
    "x = df4.iloc[:, 1:41]\n",
    "y = df4['3 year heart death']"
   ]
  },
  {
   "cell_type": "code",
   "execution_count": 3,
   "id": "69f7e3d6",
   "metadata": {},
   "outputs": [
    {
     "ename": "NameError",
     "evalue": "name 'x' is not defined",
     "output_type": "error",
     "traceback": [
      "\u001b[1;31m---------------------------------------------------------------------------\u001b[0m",
      "\u001b[1;31mNameError\u001b[0m                                 Traceback (most recent call last)",
      "Cell \u001b[1;32mIn[3], line 2\u001b[0m\n\u001b[0;32m      1\u001b[0m \u001b[38;5;28;01mfrom\u001b[39;00m \u001b[38;5;21;01msklearn\u001b[39;00m\u001b[38;5;21;01m.\u001b[39;00m\u001b[38;5;21;01mmodel_selection\u001b[39;00m \u001b[38;5;28;01mimport\u001b[39;00m train_test_split\n\u001b[1;32m----> 2\u001b[0m x_train, x_test, y_train, y_test \u001b[38;5;241m=\u001b[39m train_test_split(x, y, test_size\u001b[38;5;241m=\u001b[39m\u001b[38;5;241m0.3\u001b[39m, random_state\u001b[38;5;241m=\u001b[39m\u001b[38;5;241m42\u001b[39m)\n\u001b[0;32m      3\u001b[0m \u001b[38;5;28;01mfrom\u001b[39;00m \u001b[38;5;21;01msklearn\u001b[39;00m\u001b[38;5;21;01m.\u001b[39;00m\u001b[38;5;21;01mlinear_model\u001b[39;00m \u001b[38;5;28;01mimport\u001b[39;00m LogisticRegression\n\u001b[0;32m      4\u001b[0m estimator \u001b[38;5;241m=\u001b[39m LogisticRegression(max_iter\u001b[38;5;241m=\u001b[39m\u001b[38;5;241m200\u001b[39m)\n",
      "\u001b[1;31mNameError\u001b[0m: name 'x' is not defined"
     ]
    }
   ],
   "source": [
    "from sklearn.model_selection import train_test_split\n",
    "x_train, x_test, y_train, y_test = train_test_split(x, y, test_size=0.3, random_state=42)\n",
    "from sklearn.linear_model import LogisticRegression\n",
    "estimator = LogisticRegression(max_iter=200)\n",
    "estimator.fit(x_train, y_train)\n",
    "from sklearn.metrics import roc_auc_score\n",
    "y_true = y_test\n",
    "probs1 = estimator.predict_proba(x_test)[:, 1]\n",
    "auc_LR = roc_auc_score(y_true, probs1)\n",
    "auc_LR"
   ]
  },
  {
   "cell_type": "code",
   "execution_count": 32,
   "id": "bdb16f23",
   "metadata": {},
   "outputs": [],
   "source": [
    "selected_columns = [\n",
    "    \"SEQN\",'Age', 'Ratio of family income to poverty', 'Alanine Aminotransferase (ALT) (U/L)', 'Race_2','Race_3','Race_4','Race_5', \n",
    "    'Chloride (mmol/L)',\n",
    "    'Minutes sedentary activity', 'Walk or bicycle_2', 'Glucose_serum (mmol/L)', 'Direct HDL-Cholesterol (mmol/L)', \n",
    "    'Mean cell volume (fL)', 'Red cell distribution width (%)', 'Moderate recreational activities_2', \n",
    "    'Glycohemoglobin (%)', 'Waist Circumference (cm)', 'Marital Status_2','Marital Status_3','Marital Status_4','Marital Status_5','Marital Status_6',\n",
    "    'Lymphocyte number (1000 cells/uL)', \n",
    "    'Albumin (g/L)', 'Education Level - Adults 20+_2','Education Level - Adults 20+_3','Education Level - Adults 20+_4','Education Level - Adults 20+_5',\n",
    "    'Vigorous recreational activities_2', 'Osmolality (mmol/Kg)', \n",
    "    \"3 year heart death\"\n",
    "]\n",
    "df4 = df3[selected_columns]"
   ]
  },
  {
   "cell_type": "code",
   "execution_count": 34,
   "id": "e7b1d8cf",
   "metadata": {},
   "outputs": [],
   "source": [
    "x = df4.iloc[:, 1:31]\n",
    "y = df4['3 year heart death']"
   ]
  },
  {
   "cell_type": "code",
   "execution_count": 35,
   "id": "5b355b81",
   "metadata": {},
   "outputs": [
    {
     "data": {
      "text/plain": [
       "0.9062207643575296"
      ]
     },
     "execution_count": 35,
     "metadata": {},
     "output_type": "execute_result"
    }
   ],
   "source": [
    "from sklearn.model_selection import train_test_split\n",
    "x_train, x_test, y_train, y_test = train_test_split(x, y, test_size=0.3, random_state=42)\n",
    "from sklearn.linear_model import LogisticRegression\n",
    "estimator = LogisticRegression(max_iter=200)\n",
    "estimator.fit(x_train, y_train)\n",
    "from sklearn.metrics import roc_auc_score\n",
    "y_true = y_test\n",
    "probs1 = estimator.predict_proba(x_test)[:, 1]\n",
    "auc_LR = roc_auc_score(y_true, probs1)\n",
    "auc_LR"
   ]
  },
  {
   "cell_type": "code",
   "execution_count": 36,
   "id": "b551a81b",
   "metadata": {},
   "outputs": [],
   "source": [
    "selected_columns = [\n",
    "    \"SEQN\",'Age', 'Ratio of family income to poverty', 'Alanine Aminotransferase (ALT) (U/L)', 'Race_2','Race_3','Race_4','Race_5', \n",
    "    'Chloride (mmol/L)',\n",
    "    'Minutes sedentary activity', 'Walk or bicycle_2', 'Glucose_serum (mmol/L)', 'Direct HDL-Cholesterol (mmol/L)', \n",
    "    'Mean cell volume (fL)', \n",
    "    \"3 year heart death\"\n",
    "]\n",
    "df4 = df3[selected_columns]"
   ]
  },
  {
   "cell_type": "code",
   "execution_count": 38,
   "id": "ead20813",
   "metadata": {},
   "outputs": [],
   "source": [
    "x = df4.iloc[:, 1:14]\n",
    "y = df4['3 year heart death']"
   ]
  },
  {
   "cell_type": "code",
   "execution_count": 39,
   "id": "b01eed6f",
   "metadata": {},
   "outputs": [
    {
     "data": {
      "text/plain": [
       "0.8841694001629651"
      ]
     },
     "execution_count": 39,
     "metadata": {},
     "output_type": "execute_result"
    }
   ],
   "source": [
    "from sklearn.model_selection import train_test_split\n",
    "x_train, x_test, y_train, y_test = train_test_split(x, y, test_size=0.3, random_state=42)\n",
    "from sklearn.linear_model import LogisticRegression\n",
    "estimator = LogisticRegression(max_iter=200)\n",
    "estimator.fit(x_train, y_train)\n",
    "from sklearn.metrics import roc_auc_score\n",
    "y_true = y_test\n",
    "probs1 = estimator.predict_proba(x_test)[:, 1]\n",
    "auc_LR = roc_auc_score(y_true, probs1)\n",
    "auc_LR"
   ]
  },
  {
   "cell_type": "code",
   "execution_count": 40,
   "id": "bcdfd07f",
   "metadata": {},
   "outputs": [],
   "source": [
    "selected_columns = [\n",
    "    \"SEQN\",'Age', 'Ratio of family income to poverty', 'Alanine Aminotransferase (ALT) (U/L)', 'Race_2','Race_3','Race_4','Race_5', \n",
    "    'Chloride (mmol/L)',\n",
    "    \"3 year heart death\"\n",
    "]\n",
    "df4 = df3[selected_columns]"
   ]
  },
  {
   "cell_type": "code",
   "execution_count": 42,
   "id": "6add53a0",
   "metadata": {},
   "outputs": [],
   "source": [
    "x = df4.iloc[:, 1:9]\n",
    "y = df4['3 year heart death']"
   ]
  },
  {
   "cell_type": "code",
   "execution_count": 43,
   "id": "bd973315",
   "metadata": {},
   "outputs": [
    {
     "data": {
      "text/plain": [
       "0.8733352369146197"
      ]
     },
     "execution_count": 43,
     "metadata": {},
     "output_type": "execute_result"
    }
   ],
   "source": [
    "from sklearn.model_selection import train_test_split\n",
    "x_train, x_test, y_train, y_test = train_test_split(x, y, test_size=0.3, random_state=42)\n",
    "from sklearn.linear_model import LogisticRegression\n",
    "estimator = LogisticRegression(max_iter=200)\n",
    "estimator.fit(x_train, y_train)\n",
    "from sklearn.metrics import roc_auc_score\n",
    "y_true = y_test\n",
    "probs1 = estimator.predict_proba(x_test)[:, 1]\n",
    "auc_LR = roc_auc_score(y_true, probs1)\n",
    "auc_LR"
   ]
  },
  {
   "cell_type": "code",
   "execution_count": null,
   "id": "026fea9a",
   "metadata": {},
   "outputs": [],
   "source": []
  }
 ],
 "metadata": {
  "kernelspec": {
   "display_name": "Python 3 (ipykernel)",
   "language": "python",
   "name": "python3"
  },
  "language_info": {
   "codemirror_mode": {
    "name": "ipython",
    "version": 3
   },
   "file_extension": ".py",
   "mimetype": "text/x-python",
   "name": "python",
   "nbconvert_exporter": "python",
   "pygments_lexer": "ipython3",
   "version": "3.11.5"
  }
 },
 "nbformat": 4,
 "nbformat_minor": 5
}
