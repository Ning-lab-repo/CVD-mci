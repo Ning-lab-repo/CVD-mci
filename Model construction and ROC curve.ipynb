{
 "cells": [
  {
   "cell_type": "code",
   "execution_count": 1,
   "id": "3b71fa9f",
   "metadata": {},
   "outputs": [],
   "source": [
    "import pandas as pd"
   ]
  },
  {
   "cell_type": "code",
   "execution_count": 2,
   "id": "1890c9ad",
   "metadata": {},
   "outputs": [],
   "source": [
    "df1 = pd.read_csv(r\"D:\\临床数据\\NHANES数据清洗\\3年心因死亡数据.csv\", low_memory=False)"
   ]
  },
  {
   "cell_type": "code",
   "execution_count": 4,
   "id": "ac78ed02",
   "metadata": {},
   "outputs": [],
   "source": [
    "selected_columns = [\n",
    "    \"SEQN\",\"Doctor told you have diabetes\", \"Education Level - Adults 20+\", \"Ever told you had a stroke\",\n",
    "    \"Ever told you had coronary heart disease\", \"Ever told you had high blood pressure\",\n",
    "    \"Had at least 12 alcohol drinks/1 yr?\", \"Marital Status\", \"Moderate recreational activities\",\n",
    "    \"Moderate work activity\", \"Race\", \"Smoked at least 100 cigarettes in life\", \n",
    "    \"Vigorous recreational activities\", \"Vigorous work activity\", \"Walk or bicycle\", \"Age\", \n",
    "    \"Minutes sedentary activity\", \"Ratio of family income to poverty\", \"Waist Circumference (cm)\", \n",
    "    \"Alanine Aminotransferase (ALT) (U/L)\", \"Albumin (g/L)\", \"Albumin_urine (mg/L)\", \n",
    "    \"Alkaline Phosphatase (ALP) (IU/L)\", \"Bicarbonate (mmol/L)\", \"Blood urea nitrogen (mmol/L)\", \n",
    "    \"Chloride (mmol/L)\", \"Cholesterol (mmol/L)\", \"Creatinine (umol/L)\", \"Creatinine_urine (umol/L)\", \n",
    "    \"Direct HDL-Cholesterol (mmol/L)\", \"Gamma Glutamyl Transferase (GGT) (U/L)\", \"Globulin (g/L)\", \n",
    "    \"Glucose_serum (mmol/L)\", \"Glycohemoglobin (%)\", \"Hematocrit (%)\", \"Hemoglobin (g/dL)\", \n",
    "    \"Iron_refigerated (umol/L)\", \"Lactate Dehydrogenase (LDH) (U/L)\", \"Lymphocyte number (1000 cells/uL)\", \n",
    "    \"Lymphocyte percent (%)\", \"Mean cell hemoglobin (pg)\", \"Mean cell hemoglobin concentration (g/dL)\", \n",
    "    \"Mean cell volume (fL)\", \"Monocyte number (1000 cells/uL)\", \"Monocyte percent (%)\", \n",
    "    \"Osmolality (mmol/Kg)\", \"Phosphorus (mmol/L)\", \"Platelet count (1000 cells/uL)\", \n",
    "    \"Potassium (mmol/L)\", \"Red blood cell count (million cells/uL)\", \"Red cell distribution width (%)\", \n",
    "    \"Segmented neutrophils num (1000 cell/uL)\", \"Segmented neutrophils percent (%)\", \n",
    "    \"Total protein (g/L)\", \"Uric acid (umol/L)\", \"3 year heart death\"\n",
    "]\n",
    "df2 = df1[selected_columns]"
   ]
  },
  {
   "cell_type": "code",
   "execution_count": 5,
   "id": "9dbb309e",
   "metadata": {},
   "outputs": [],
   "source": [
    "from sklearn.preprocessing import StandardScaler"
   ]
  },
  {
   "cell_type": "code",
   "execution_count": 6,
   "id": "64d8b561",
   "metadata": {},
   "outputs": [
    {
     "name": "stderr",
     "output_type": "stream",
     "text": [
      "C:\\Users\\wzc\\AppData\\Local\\Temp\\ipykernel_13812\\3438547318.py:7: SettingWithCopyWarning: \n",
      "A value is trying to be set on a copy of a slice from a DataFrame.\n",
      "Try using .loc[row_indexer,col_indexer] = value instead\n",
      "\n",
      "See the caveats in the documentation: https://pandas.pydata.org/pandas-docs/stable/user_guide/indexing.html#returning-a-view-versus-a-copy\n",
      "  df2[col] = df2[col].astype('category')\n"
     ]
    }
   ],
   "source": [
    "first_col = df2.iloc[:, 0]\n",
    "last_col = df2.iloc[:, -1]\n",
    "for col in df2.columns[1:15]:\n",
    "    df2[col] = df2[col].astype('category')\n",
    "df_encoded = pd.get_dummies(df2.iloc[:, 1:15], drop_first=True)\n",
    "scaler = StandardScaler()\n",
    "df_standardized = pd.DataFrame(scaler.fit_transform(df2.iloc[:, 15:-1]), columns=df2.columns[15:-1])\n",
    "df3 = pd.concat([first_col, df_encoded, df_standardized, last_col], axis=1)"
   ]
  },
  {
   "cell_type": "code",
   "execution_count": 8,
   "id": "5bf7416d",
   "metadata": {},
   "outputs": [],
   "source": [
    "x = df3.iloc[:, 1:66]\n",
    "y = df3['3 year heart death']"
   ]
  },
  {
   "cell_type": "code",
   "execution_count": 1,
   "id": "fa2247d5",
   "metadata": {},
   "outputs": [
    {
     "ename": "NameError",
     "evalue": "name 'x' is not defined",
     "output_type": "error",
     "traceback": [
      "\u001b[1;31m---------------------------------------------------------------------------\u001b[0m",
      "\u001b[1;31mNameError\u001b[0m                                 Traceback (most recent call last)",
      "Cell \u001b[1;32mIn[1], line 2\u001b[0m\n\u001b[0;32m      1\u001b[0m \u001b[38;5;28;01mfrom\u001b[39;00m \u001b[38;5;21;01msklearn\u001b[39;00m\u001b[38;5;21;01m.\u001b[39;00m\u001b[38;5;21;01mmodel_selection\u001b[39;00m \u001b[38;5;28;01mimport\u001b[39;00m train_test_split\n\u001b[1;32m----> 2\u001b[0m x_train, x_test, y_train, y_test \u001b[38;5;241m=\u001b[39m train_test_split(x, y, test_size\u001b[38;5;241m=\u001b[39m\u001b[38;5;241m0.3\u001b[39m, random_state\u001b[38;5;241m=\u001b[39m\u001b[38;5;241m42\u001b[39m)\n\u001b[0;32m      3\u001b[0m \u001b[38;5;28;01mfrom\u001b[39;00m \u001b[38;5;21;01msklearn\u001b[39;00m\u001b[38;5;21;01m.\u001b[39;00m\u001b[38;5;21;01mlinear_model\u001b[39;00m \u001b[38;5;28;01mimport\u001b[39;00m LogisticRegression\n\u001b[0;32m      4\u001b[0m estimator \u001b[38;5;241m=\u001b[39m LogisticRegression(max_iter\u001b[38;5;241m=\u001b[39m\u001b[38;5;241m200\u001b[39m)\n",
      "\u001b[1;31mNameError\u001b[0m: name 'x' is not defined"
     ]
    }
   ],
   "source": [
    "from sklearn.model_selection import train_test_split\n",
    "x_train, x_test, y_train, y_test = train_test_split(x, y, test_size=0.3, random_state=42)\n",
    "from sklearn.linear_model import LogisticRegression\n",
    "estimator = LogisticRegression(max_iter=200)\n",
    "estimator.fit(x_train, y_train)\n",
    "from sklearn.metrics import roc_auc_score\n",
    "y_true = y_test\n",
    "probs1 = estimator.predict_proba(x_test)[:, 1]\n",
    "auc_LR = roc_auc_score(y_true, probs1)\n",
    "auc_LR"
   ]
  },
  {
   "cell_type": "code",
   "execution_count": 21,
   "id": "7da005bd",
   "metadata": {},
   "outputs": [
    {
     "data": {
      "text/plain": [
       "['LR-生活方式+检验学指标-3年心因死亡.joblib']"
      ]
     },
     "execution_count": 21,
     "metadata": {},
     "output_type": "execute_result"
    }
   ],
   "source": [
    "import joblib\n",
    "joblib.dump(estimator, 'LR-生活方式+检验学指标-3年心因死亡.joblib')"
   ]
  },
  {
   "cell_type": "code",
   "execution_count": 2,
   "id": "ff4ac1b2",
   "metadata": {},
   "outputs": [
    {
     "ename": "NameError",
     "evalue": "name 'x_train' is not defined",
     "output_type": "error",
     "traceback": [
      "\u001b[1;31m---------------------------------------------------------------------------\u001b[0m",
      "\u001b[1;31mNameError\u001b[0m                                 Traceback (most recent call last)",
      "Cell \u001b[1;32mIn[2], line 3\u001b[0m\n\u001b[0;32m      1\u001b[0m \u001b[38;5;28;01mfrom\u001b[39;00m \u001b[38;5;21;01msklearn\u001b[39;00m\u001b[38;5;21;01m.\u001b[39;00m\u001b[38;5;21;01mensemble\u001b[39;00m \u001b[38;5;28;01mimport\u001b[39;00m RandomForestClassifier\n\u001b[0;32m      2\u001b[0m estimator \u001b[38;5;241m=\u001b[39m RandomForestClassifier()\n\u001b[1;32m----> 3\u001b[0m estimator\u001b[38;5;241m.\u001b[39mfit(x_train, y_train)\n\u001b[0;32m      4\u001b[0m probs2 \u001b[38;5;241m=\u001b[39m estimator\u001b[38;5;241m.\u001b[39mpredict_proba(x_test)[:, \u001b[38;5;241m1\u001b[39m]\n\u001b[0;32m      5\u001b[0m auc_RF \u001b[38;5;241m=\u001b[39m roc_auc_score(y_true, probs2)\n",
      "\u001b[1;31mNameError\u001b[0m: name 'x_train' is not defined"
     ]
    }
   ],
   "source": [
    "from sklearn.ensemble import RandomForestClassifier\n",
    "estimator = RandomForestClassifier()\n",
    "estimator.fit(x_train, y_train)\n",
    "probs2 = estimator.predict_proba(x_test)[:, 1]\n",
    "auc_RF = roc_auc_score(y_true, probs2)\n",
    "auc_RF"
   ]
  },
  {
   "cell_type": "code",
   "execution_count": 3,
   "id": "b048ceb8",
   "metadata": {},
   "outputs": [
    {
     "ename": "NameError",
     "evalue": "name 'x' is not defined",
     "output_type": "error",
     "traceback": [
      "\u001b[1;31m---------------------------------------------------------------------------\u001b[0m",
      "\u001b[1;31mNameError\u001b[0m                                 Traceback (most recent call last)",
      "Cell \u001b[1;32mIn[3], line 4\u001b[0m\n\u001b[0;32m      2\u001b[0m \u001b[38;5;28;01mfrom\u001b[39;00m \u001b[38;5;21;01msklearn\u001b[39;00m\u001b[38;5;21;01m.\u001b[39;00m\u001b[38;5;21;01mmetrics\u001b[39;00m \u001b[38;5;28;01mimport\u001b[39;00m roc_auc_score\n\u001b[0;32m      3\u001b[0m \u001b[38;5;28;01mfrom\u001b[39;00m \u001b[38;5;21;01msklearn\u001b[39;00m\u001b[38;5;21;01m.\u001b[39;00m\u001b[38;5;21;01mensemble\u001b[39;00m \u001b[38;5;28;01mimport\u001b[39;00m RandomForestClassifier\n\u001b[1;32m----> 4\u001b[0m x_train, x_test, y_train, y_test \u001b[38;5;241m=\u001b[39m train_test_split(x, y, test_size\u001b[38;5;241m=\u001b[39m\u001b[38;5;241m0.3\u001b[39m, random_state\u001b[38;5;241m=\u001b[39m\u001b[38;5;241m42\u001b[39m)\n\u001b[0;32m      5\u001b[0m param_grid \u001b[38;5;241m=\u001b[39m {\n\u001b[0;32m      6\u001b[0m     \u001b[38;5;124m'\u001b[39m\u001b[38;5;124mn_estimators\u001b[39m\u001b[38;5;124m'\u001b[39m: [\u001b[38;5;241m50\u001b[39m, \u001b[38;5;241m100\u001b[39m, \u001b[38;5;241m200\u001b[39m],\n\u001b[0;32m      7\u001b[0m     \u001b[38;5;124m'\u001b[39m\u001b[38;5;124mmax_depth\u001b[39m\u001b[38;5;124m'\u001b[39m: [\u001b[38;5;28;01mNone\u001b[39;00m, \u001b[38;5;241m10\u001b[39m, \u001b[38;5;241m20\u001b[39m, \u001b[38;5;241m30\u001b[39m],\n\u001b[1;32m   (...)\u001b[0m\n\u001b[0;32m     10\u001b[0m     \u001b[38;5;124m'\u001b[39m\u001b[38;5;124mbootstrap\u001b[39m\u001b[38;5;124m'\u001b[39m: [\u001b[38;5;28;01mTrue\u001b[39;00m, \u001b[38;5;28;01mFalse\u001b[39;00m]\n\u001b[0;32m     11\u001b[0m }\n\u001b[0;32m     12\u001b[0m estimator \u001b[38;5;241m=\u001b[39m RandomForestClassifier()\n",
      "\u001b[1;31mNameError\u001b[0m: name 'x' is not defined"
     ]
    }
   ],
   "source": [
    "from sklearn.model_selection import GridSearchCV, train_test_split\n",
    "from sklearn.metrics import roc_auc_score\n",
    "from sklearn.ensemble import RandomForestClassifier\n",
    "x_train, x_test, y_train, y_test = train_test_split(x, y, test_size=0.3, random_state=42)\n",
    "param_grid = {\n",
    "    'n_estimators': [50, 100, 200],\n",
    "    'max_depth': [None, 10, 20, 30],\n",
    "    'min_samples_split': [2, 5, 10],\n",
    "    'min_samples_leaf': [1, 2, 4],\n",
    "    'bootstrap': [True, False]\n",
    "}\n",
    "estimator = RandomForestClassifier()\n",
    "grid_search = GridSearchCV(estimator, param_grid, scoring='roc_auc', cv=5, n_jobs=-1)\n",
    "grid_search.fit(x_train, y_train)\n",
    "best_params = grid_search.best_params_\n",
    "best_score = grid_search.best_score_\n",
    "print(\"最佳参数:\", best_params)\n",
    "print(\"最佳交叉验证AUC得分:\", best_score)\n",
    "best_estimator = grid_search.best_estimator_\n",
    "probs2 = best_estimator.predict_proba(x_test)[:, 1]\n",
    "auc_RF = roc_auc_score(y_test, probs2)\n",
    "print(\"测试集AUC得分:\", auc_RF)"
   ]
  },
  {
   "cell_type": "code",
   "execution_count": 23,
   "id": "e10fa5fe",
   "metadata": {},
   "outputs": [
    {
     "data": {
      "text/plain": [
       "['RF-生活方式+检验学指标-3年心因死亡.joblib']"
      ]
     },
     "execution_count": 23,
     "metadata": {},
     "output_type": "execute_result"
    }
   ],
   "source": [
    "joblib.dump(estimator, 'RF-生活方式+检验学指标-3年心因死亡.joblib')"
   ]
  },
  {
   "cell_type": "code",
   "execution_count": 4,
   "id": "ba300561",
   "metadata": {},
   "outputs": [
    {
     "ename": "NameError",
     "evalue": "name 'x_train' is not defined",
     "output_type": "error",
     "traceback": [
      "\u001b[1;31m---------------------------------------------------------------------------\u001b[0m",
      "\u001b[1;31mNameError\u001b[0m                                 Traceback (most recent call last)",
      "Cell \u001b[1;32mIn[4], line 3\u001b[0m\n\u001b[0;32m      1\u001b[0m \u001b[38;5;28;01mfrom\u001b[39;00m \u001b[38;5;21;01msklearn\u001b[39;00m\u001b[38;5;21;01m.\u001b[39;00m\u001b[38;5;21;01msvm\u001b[39;00m \u001b[38;5;28;01mimport\u001b[39;00m SVC\n\u001b[0;32m      2\u001b[0m estimator \u001b[38;5;241m=\u001b[39m SVC(probability\u001b[38;5;241m=\u001b[39m\u001b[38;5;28;01mTrue\u001b[39;00m)\n\u001b[1;32m----> 3\u001b[0m estimator\u001b[38;5;241m.\u001b[39mfit(x_train, y_train)\n\u001b[0;32m      4\u001b[0m probs3 \u001b[38;5;241m=\u001b[39m estimator\u001b[38;5;241m.\u001b[39mpredict_proba(x_test)[:, \u001b[38;5;241m1\u001b[39m]\n\u001b[0;32m      5\u001b[0m auc_SVM \u001b[38;5;241m=\u001b[39m roc_auc_score(y_true, probs3)\n",
      "\u001b[1;31mNameError\u001b[0m: name 'x_train' is not defined"
     ]
    }
   ],
   "source": [
    "from sklearn.svm import SVC\n",
    "estimator = SVC(probability=True)\n",
    "estimator.fit(x_train, y_train)\n",
    "probs3 = estimator.predict_proba(x_test)[:, 1]\n",
    "auc_SVM = roc_auc_score(y_true, probs3)\n",
    "auc_SVM"
   ]
  },
  {
   "cell_type": "code",
   "execution_count": 25,
   "id": "babb1ce1",
   "metadata": {},
   "outputs": [
    {
     "data": {
      "text/plain": [
       "['SVM-生活方式+检验学指标-3年心因死亡.joblib']"
      ]
     },
     "execution_count": 25,
     "metadata": {},
     "output_type": "execute_result"
    }
   ],
   "source": [
    "joblib.dump(estimator, 'SVM-生活方式+检验学指标-3年心因死亡.joblib')"
   ]
  },
  {
   "cell_type": "code",
   "execution_count": 5,
   "id": "075fdecc",
   "metadata": {},
   "outputs": [
    {
     "ename": "NameError",
     "evalue": "name 'x_train' is not defined",
     "output_type": "error",
     "traceback": [
      "\u001b[1;31m---------------------------------------------------------------------------\u001b[0m",
      "\u001b[1;31mNameError\u001b[0m                                 Traceback (most recent call last)",
      "Cell \u001b[1;32mIn[5], line 3\u001b[0m\n\u001b[0;32m      1\u001b[0m \u001b[38;5;28;01mimport\u001b[39;00m \u001b[38;5;21;01mxgboost\u001b[39;00m \u001b[38;5;28;01mas\u001b[39;00m \u001b[38;5;21;01mxgb\u001b[39;00m\n\u001b[0;32m      2\u001b[0m estimator \u001b[38;5;241m=\u001b[39m xgb\u001b[38;5;241m.\u001b[39mXGBClassifier()\n\u001b[1;32m----> 3\u001b[0m estimator\u001b[38;5;241m.\u001b[39mfit(x_train, y_train)\n\u001b[0;32m      4\u001b[0m probs4 \u001b[38;5;241m=\u001b[39m estimator\u001b[38;5;241m.\u001b[39mpredict_proba(x_test)[:, \u001b[38;5;241m1\u001b[39m]\n\u001b[0;32m      5\u001b[0m auc_XGBoost \u001b[38;5;241m=\u001b[39m roc_auc_score(y_true, probs4)\n",
      "\u001b[1;31mNameError\u001b[0m: name 'x_train' is not defined"
     ]
    }
   ],
   "source": [
    "import xgboost as xgb\n",
    "estimator = xgb.XGBClassifier()\n",
    "estimator.fit(x_train, y_train)\n",
    "probs4 = estimator.predict_proba(x_test)[:, 1]\n",
    "auc_XGBoost = roc_auc_score(y_true, probs4)\n",
    "auc_XGBoost"
   ]
  },
  {
   "cell_type": "code",
   "execution_count": 6,
   "id": "3eda889a",
   "metadata": {},
   "outputs": [
    {
     "ename": "NameError",
     "evalue": "name 'x_train' is not defined",
     "output_type": "error",
     "traceback": [
      "\u001b[1;31m---------------------------------------------------------------------------\u001b[0m",
      "\u001b[1;31mNameError\u001b[0m                                 Traceback (most recent call last)",
      "Cell \u001b[1;32mIn[6], line 12\u001b[0m\n\u001b[0;32m     10\u001b[0m estimator \u001b[38;5;241m=\u001b[39m xgb\u001b[38;5;241m.\u001b[39mXGBClassifier()\n\u001b[0;32m     11\u001b[0m grid_search \u001b[38;5;241m=\u001b[39m GridSearchCV(estimator, param_grid, scoring\u001b[38;5;241m=\u001b[39m\u001b[38;5;124m'\u001b[39m\u001b[38;5;124mroc_auc\u001b[39m\u001b[38;5;124m'\u001b[39m, cv\u001b[38;5;241m=\u001b[39m\u001b[38;5;241m5\u001b[39m, n_jobs\u001b[38;5;241m=\u001b[39m\u001b[38;5;241m-\u001b[39m\u001b[38;5;241m1\u001b[39m)\n\u001b[1;32m---> 12\u001b[0m grid_search\u001b[38;5;241m.\u001b[39mfit(x_train, y_train)\n",
      "\u001b[1;31mNameError\u001b[0m: name 'x_train' is not defined"
     ]
    }
   ],
   "source": [
    "from sklearn.model_selection import GridSearchCV\n",
    "import xgboost as xgb\n",
    "param_grid = {\n",
    "    'n_estimators': [100, 200, 300],\n",
    "    'max_depth': [3, 4, 5],\n",
    "    'learning_rate': [0.01, 0.1, 0.2],\n",
    "    'subsample': [0.8, 0.9, 1.0],\n",
    "    'colsample_bytree': [0.8, 0.9, 1.0]\n",
    "}\n",
    "estimator = xgb.XGBClassifier()\n",
    "grid_search = GridSearchCV(estimator, param_grid, scoring='roc_auc', cv=5, n_jobs=-1)\n",
    "grid_search.fit(x_train, y_train)"
   ]
  },
  {
   "cell_type": "code",
   "execution_count": 7,
   "id": "195b525d",
   "metadata": {},
   "outputs": [
    {
     "ename": "AttributeError",
     "evalue": "'GridSearchCV' object has no attribute 'best_params_'",
     "output_type": "error",
     "traceback": [
      "\u001b[1;31m---------------------------------------------------------------------------\u001b[0m",
      "\u001b[1;31mAttributeError\u001b[0m                            Traceback (most recent call last)",
      "Cell \u001b[1;32mIn[7], line 1\u001b[0m\n\u001b[1;32m----> 1\u001b[0m best_params \u001b[38;5;241m=\u001b[39m grid_search\u001b[38;5;241m.\u001b[39mbest_params_\n\u001b[0;32m      2\u001b[0m best_score \u001b[38;5;241m=\u001b[39m grid_search\u001b[38;5;241m.\u001b[39mbest_score_\n\u001b[0;32m      3\u001b[0m \u001b[38;5;28mprint\u001b[39m(\u001b[38;5;124m\"\u001b[39m\u001b[38;5;124m最佳参数:\u001b[39m\u001b[38;5;124m\"\u001b[39m, best_params)\n",
      "\u001b[1;31mAttributeError\u001b[0m: 'GridSearchCV' object has no attribute 'best_params_'"
     ]
    }
   ],
   "source": [
    "best_params = grid_search.best_params_\n",
    "best_score = grid_search.best_score_\n",
    "print(\"最佳参数:\", best_params)\n",
    "print(\"最佳交叉验证AUC得分:\", best_score)\n",
    "best_estimator = grid_search.best_estimator_\n",
    "probs4 = best_estimator.predict_proba(x_test)[:, 1]\n",
    "auc_XGBoost = roc_auc_score(y_test, probs4)\n",
    "print(\"测试集AUC得分:\", auc_XGBoost)"
   ]
  },
  {
   "cell_type": "code",
   "execution_count": 29,
   "id": "be4ea41c",
   "metadata": {},
   "outputs": [
    {
     "data": {
      "text/plain": [
       "['XGBoost-生活方式+检验学指标-3年心因死亡.joblib']"
      ]
     },
     "execution_count": 29,
     "metadata": {},
     "output_type": "execute_result"
    }
   ],
   "source": [
    "joblib.dump(best_estimator, 'XGBoost-生活方式+检验学指标-3年心因死亡.joblib')"
   ]
  },
  {
   "cell_type": "code",
   "execution_count": 8,
   "id": "0b5219ed",
   "metadata": {},
   "outputs": [
    {
     "ename": "NameError",
     "evalue": "name 'x_train' is not defined",
     "output_type": "error",
     "traceback": [
      "\u001b[1;31m---------------------------------------------------------------------------\u001b[0m",
      "\u001b[1;31mNameError\u001b[0m                                 Traceback (most recent call last)",
      "Cell \u001b[1;32mIn[8], line 9\u001b[0m\n\u001b[0;32m      7\u001b[0m estimator \u001b[38;5;241m=\u001b[39m LogisticRegression(max_iter\u001b[38;5;241m=\u001b[39m\u001b[38;5;241m200\u001b[39m)\n\u001b[0;32m      8\u001b[0m grid_search \u001b[38;5;241m=\u001b[39m GridSearchCV(estimator, param_grid, scoring\u001b[38;5;241m=\u001b[39m\u001b[38;5;124m'\u001b[39m\u001b[38;5;124mroc_auc\u001b[39m\u001b[38;5;124m'\u001b[39m, cv\u001b[38;5;241m=\u001b[39m\u001b[38;5;241m5\u001b[39m, n_jobs\u001b[38;5;241m=\u001b[39m\u001b[38;5;241m-\u001b[39m\u001b[38;5;241m1\u001b[39m)\n\u001b[1;32m----> 9\u001b[0m grid_search\u001b[38;5;241m.\u001b[39mfit(x_train, y_train)\n\u001b[0;32m     10\u001b[0m best_params \u001b[38;5;241m=\u001b[39m grid_search\u001b[38;5;241m.\u001b[39mbest_params_\n\u001b[0;32m     11\u001b[0m best_score \u001b[38;5;241m=\u001b[39m grid_search\u001b[38;5;241m.\u001b[39mbest_score_\n",
      "\u001b[1;31mNameError\u001b[0m: name 'x_train' is not defined"
     ]
    }
   ],
   "source": [
    "from sklearn.linear_model import LogisticRegression\n",
    "param_grid = {\n",
    "    'C': [0.001, 0.01, 0.1, 1, 10, 100],\n",
    "    'penalty': ['l1', 'l2'],          \n",
    "    'solver': ['liblinear', 'saga'],\n",
    "}\n",
    "estimator = LogisticRegression(max_iter=200)\n",
    "grid_search = GridSearchCV(estimator, param_grid, scoring='roc_auc', cv=5, n_jobs=-1)\n",
    "grid_search.fit(x_train, y_train)\n",
    "best_params = grid_search.best_params_\n",
    "best_score = grid_search.best_score_\n",
    "print(\"最佳参数:\", best_params)\n",
    "print(\"最佳交叉验证AUC得分:\", best_score)\n",
    "best_estimator = grid_search.best_estimator_\n",
    "probs1 = best_estimator.predict_proba(x_test)[:, 1]\n",
    "auc_LR = roc_auc_score(y_test, probs1)\n",
    "print(\"测试集AUC得分:\", auc_LR)"
   ]
  },
  {
   "cell_type": "code",
   "execution_count": 31,
   "id": "b1407d8a",
   "metadata": {},
   "outputs": [
    {
     "data": {
      "text/plain": [
       "['LR-生活方式+检验学指标-3年心因死亡.joblib']"
      ]
     },
     "execution_count": 31,
     "metadata": {},
     "output_type": "execute_result"
    }
   ],
   "source": [
    "joblib.dump(best_estimator, 'LR-生活方式+检验学指标-3年心因死亡.joblib')"
   ]
  },
  {
   "cell_type": "code",
   "execution_count": 9,
   "id": "82e8827a",
   "metadata": {},
   "outputs": [
    {
     "ename": "NameError",
     "evalue": "name 'joblib' is not defined",
     "output_type": "error",
     "traceback": [
      "\u001b[1;31m---------------------------------------------------------------------------\u001b[0m",
      "\u001b[1;31mNameError\u001b[0m                                 Traceback (most recent call last)",
      "Cell \u001b[1;32mIn[9], line 1\u001b[0m\n\u001b[1;32m----> 1\u001b[0m estimator1 \u001b[38;5;241m=\u001b[39m joblib\u001b[38;5;241m.\u001b[39mload(\u001b[38;5;124m'\u001b[39m\u001b[38;5;124mLR-生活方式+检验学指标-3年心因死亡.joblib\u001b[39m\u001b[38;5;124m'\u001b[39m)\n\u001b[0;32m      2\u001b[0m probs1 \u001b[38;5;241m=\u001b[39m estimator1\u001b[38;5;241m.\u001b[39mpredict_proba(x_test)[:, \u001b[38;5;241m1\u001b[39m]\n\u001b[0;32m      3\u001b[0m auc_LR \u001b[38;5;241m=\u001b[39m roc_auc_score(y_test, probs1)\n",
      "\u001b[1;31mNameError\u001b[0m: name 'joblib' is not defined"
     ]
    }
   ],
   "source": [
    "estimator1 = joblib.load('LR-生活方式+检验学指标-3年心因死亡.joblib')\n",
    "probs1 = estimator1.predict_proba(x_test)[:, 1]\n",
    "auc_LR = roc_auc_score(y_test, probs1)\n",
    "print(\"加载模型的测试集AUC得分:\", auc_LR)"
   ]
  },
  {
   "cell_type": "code",
   "execution_count": 10,
   "id": "6241cb37",
   "metadata": {},
   "outputs": [
    {
     "ename": "NameError",
     "evalue": "name 'x_test' is not defined",
     "output_type": "error",
     "traceback": [
      "\u001b[1;31m---------------------------------------------------------------------------\u001b[0m",
      "\u001b[1;31mNameError\u001b[0m                                 Traceback (most recent call last)",
      "Cell \u001b[1;32mIn[10], line 6\u001b[0m\n\u001b[0;32m      4\u001b[0m auc_scores \u001b[38;5;241m=\u001b[39m []\n\u001b[0;32m      5\u001b[0m \u001b[38;5;28;01mfor\u001b[39;00m i \u001b[38;5;129;01min\u001b[39;00m \u001b[38;5;28mrange\u001b[39m(n_iterations):\n\u001b[1;32m----> 6\u001b[0m     x_test_resampled, y_test_resampled \u001b[38;5;241m=\u001b[39m resample(x_test, y_test, replace\u001b[38;5;241m=\u001b[39m\u001b[38;5;28;01mTrue\u001b[39;00m)\n\u001b[0;32m      7\u001b[0m     y_pred_resampled \u001b[38;5;241m=\u001b[39m estimator1\u001b[38;5;241m.\u001b[39mpredict_proba(x_test_resampled)[:, \u001b[38;5;241m1\u001b[39m]\n\u001b[0;32m      8\u001b[0m     auc_resampled \u001b[38;5;241m=\u001b[39m roc_auc_score(y_test_resampled, y_pred_resampled)\n",
      "\u001b[1;31mNameError\u001b[0m: name 'x_test' is not defined"
     ]
    }
   ],
   "source": [
    "from sklearn.utils import resample\n",
    "import numpy as np\n",
    "n_iterations = 1000\n",
    "auc_scores = []\n",
    "for i in range(n_iterations):\n",
    "    x_test_resampled, y_test_resampled = resample(x_test, y_test, replace=True)\n",
    "    y_pred_resampled = estimator1.predict_proba(x_test_resampled)[:, 1]\n",
    "    auc_resampled = roc_auc_score(y_test_resampled, y_pred_resampled)\n",
    "    auc_scores.append(auc_resampled)\n",
    "alpha = 0.95\n",
    "lower1 = np.percentile(auc_scores, (1 - alpha) / 2 * 100)\n",
    "upper1 = np.percentile(auc_scores, (1 + alpha) / 2 * 100)\n",
    "print(f\"AUC: {auc_LR:.3f} ({lower1:.3f}-{upper1:.3f})\")"
   ]
  },
  {
   "cell_type": "code",
   "execution_count": 11,
   "id": "921ae84a",
   "metadata": {},
   "outputs": [
    {
     "ename": "NameError",
     "evalue": "name 'joblib' is not defined",
     "output_type": "error",
     "traceback": [
      "\u001b[1;31m---------------------------------------------------------------------------\u001b[0m",
      "\u001b[1;31mNameError\u001b[0m                                 Traceback (most recent call last)",
      "Cell \u001b[1;32mIn[11], line 1\u001b[0m\n\u001b[1;32m----> 1\u001b[0m estimator2 \u001b[38;5;241m=\u001b[39m joblib\u001b[38;5;241m.\u001b[39mload(\u001b[38;5;124m'\u001b[39m\u001b[38;5;124mRF-生活方式+检验学指标-3年心因死亡.joblib\u001b[39m\u001b[38;5;124m'\u001b[39m)\n\u001b[0;32m      2\u001b[0m probs2 \u001b[38;5;241m=\u001b[39m estimator2\u001b[38;5;241m.\u001b[39mpredict_proba(x_test)[:, \u001b[38;5;241m1\u001b[39m]\n\u001b[0;32m      3\u001b[0m auc_RF \u001b[38;5;241m=\u001b[39m roc_auc_score(y_test, probs2)\n",
      "\u001b[1;31mNameError\u001b[0m: name 'joblib' is not defined"
     ]
    }
   ],
   "source": [
    "estimator2 = joblib.load('RF-生活方式+检验学指标-3年心因死亡.joblib')\n",
    "probs2 = estimator2.predict_proba(x_test)[:, 1]\n",
    "auc_RF = roc_auc_score(y_test, probs2)\n",
    "print(\"加载模型的测试集AUC得分:\", auc_RF)\n",
    "n_iterations = 1000\n",
    "auc_scores = []\n",
    "for i in range(n_iterations):\n",
    "    x_test_resampled, y_test_resampled = resample(x_test, y_test, replace=True)\n",
    "    y_pred_resampled = estimator2.predict_proba(x_test_resampled)[:, 1]\n",
    "    auc_resampled = roc_auc_score(y_test_resampled, y_pred_resampled)\n",
    "    auc_scores.append(auc_resampled)\n",
    "alpha = 0.95\n",
    "lower2 = np.percentile(auc_scores, (1 - alpha) / 2 * 100)\n",
    "upper2 = np.percentile(auc_scores, (1 + alpha) / 2 * 100)\n",
    "print(f\"AUC: {auc_RF:.3f} ({lower2:.3f}-{upper2:.3f})\")"
   ]
  },
  {
   "cell_type": "code",
   "execution_count": 12,
   "id": "e1f35bb5",
   "metadata": {},
   "outputs": [
    {
     "ename": "NameError",
     "evalue": "name 'joblib' is not defined",
     "output_type": "error",
     "traceback": [
      "\u001b[1;31m---------------------------------------------------------------------------\u001b[0m",
      "\u001b[1;31mNameError\u001b[0m                                 Traceback (most recent call last)",
      "Cell \u001b[1;32mIn[12], line 1\u001b[0m\n\u001b[1;32m----> 1\u001b[0m estimator3 \u001b[38;5;241m=\u001b[39m joblib\u001b[38;5;241m.\u001b[39mload(\u001b[38;5;124m'\u001b[39m\u001b[38;5;124mSVM-生活方式+检验学指标-3年心因死亡.joblib\u001b[39m\u001b[38;5;124m'\u001b[39m)\n\u001b[0;32m      2\u001b[0m probs3 \u001b[38;5;241m=\u001b[39m estimator3\u001b[38;5;241m.\u001b[39mpredict_proba(x_test)[:, \u001b[38;5;241m1\u001b[39m]\n\u001b[0;32m      3\u001b[0m auc_SVM \u001b[38;5;241m=\u001b[39m roc_auc_score(y_test, probs3)\n",
      "\u001b[1;31mNameError\u001b[0m: name 'joblib' is not defined"
     ]
    }
   ],
   "source": [
    "estimator3 = joblib.load('SVM-生活方式+检验学指标-3年心因死亡.joblib')\n",
    "probs3 = estimator3.predict_proba(x_test)[:, 1]\n",
    "auc_SVM = roc_auc_score(y_test, probs3)\n",
    "print(\"加载模型的测试集AUC得分:\", auc_SVM)\n",
    "n_iterations = 1000\n",
    "auc_scores = []\n",
    "for i in range(n_iterations):\n",
    "    x_test_resampled, y_test_resampled = resample(x_test, y_test, replace=True)\n",
    "    y_pred_resampled = estimator3.predict_proba(x_test_resampled)[:, 1]\n",
    "    auc_resampled = roc_auc_score(y_test_resampled, y_pred_resampled)\n",
    "    auc_scores.append(auc_resampled)\n",
    "alpha = 0.95\n",
    "lower3 = np.percentile(auc_scores, (1 - alpha) / 2 * 100)\n",
    "upper3 = np.percentile(auc_scores, (1 + alpha) / 2 * 100)\n",
    "print(f\"AUC: {auc_SVM:.3f} ({lower3:.3f}-{upper3:.3f})\")"
   ]
  },
  {
   "cell_type": "code",
   "execution_count": 13,
   "id": "b5e2974c",
   "metadata": {},
   "outputs": [
    {
     "ename": "NameError",
     "evalue": "name 'joblib' is not defined",
     "output_type": "error",
     "traceback": [
      "\u001b[1;31m---------------------------------------------------------------------------\u001b[0m",
      "\u001b[1;31mNameError\u001b[0m                                 Traceback (most recent call last)",
      "Cell \u001b[1;32mIn[13], line 1\u001b[0m\n\u001b[1;32m----> 1\u001b[0m estimator4 \u001b[38;5;241m=\u001b[39m joblib\u001b[38;5;241m.\u001b[39mload(\u001b[38;5;124m'\u001b[39m\u001b[38;5;124mXGBoost-生活方式+检验学指标-3年心因死亡.joblib\u001b[39m\u001b[38;5;124m'\u001b[39m)\n\u001b[0;32m      2\u001b[0m probs4 \u001b[38;5;241m=\u001b[39m estimator4\u001b[38;5;241m.\u001b[39mpredict_proba(x_test)[:, \u001b[38;5;241m1\u001b[39m]\n\u001b[0;32m      3\u001b[0m auc_XGBoost \u001b[38;5;241m=\u001b[39m roc_auc_score(y_test, probs4)\n",
      "\u001b[1;31mNameError\u001b[0m: name 'joblib' is not defined"
     ]
    }
   ],
   "source": [
    "estimator4 = joblib.load('XGBoost-生活方式+检验学指标-3年心因死亡.joblib')\n",
    "probs4 = estimator4.predict_proba(x_test)[:, 1]\n",
    "auc_XGBoost = roc_auc_score(y_test, probs4)\n",
    "print(\"加载模型的测试集AUC得分:\", auc_XGBoost)\n",
    "n_iterations = 1000\n",
    "auc_scores = []\n",
    "for i in range(n_iterations):\n",
    "    x_test_resampled, y_test_resampled = resample(x_test, y_test, replace=True)\n",
    "    y_pred_resampled = estimator4.predict_proba(x_test_resampled)[:, 1]\n",
    "    auc_resampled = roc_auc_score(y_test_resampled, y_pred_resampled)\n",
    "    auc_scores.append(auc_resampled)\n",
    "alpha = 0.95\n",
    "lower4 = np.percentile(auc_scores, (1 - alpha) / 2 * 100)\n",
    "upper4 = np.percentile(auc_scores, (1 + alpha) / 2 * 100)\n",
    "print(f\"AUC: {auc_XGBoost:.3f} ({lower4:.3f}-{upper4:.3f})\")"
   ]
  },
  {
   "cell_type": "code",
   "execution_count": 45,
   "id": "6215555e",
   "metadata": {},
   "outputs": [
    {
     "name": "stdout",
     "output_type": "stream",
     "text": [
      "当前字体设置：\n",
      "字体系列： ['Arial']\n",
      "字体名称： DejaVu Sans\n"
     ]
    },
    {
     "data": {
      "text/plain": [
       "<matplotlib.legend.Legend at 0x22a5b2d6e10>"
      ]
     },
     "execution_count": 45,
     "metadata": {},
     "output_type": "execute_result"
    },
    {
     "data": {
      "image/png": "[encoded data removed]",
      "text/plain": [
       "<Figure size 640x480 with 1 Axes>"
      ]
     },
     "metadata": {},
     "output_type": "display_data"
    }
   ],
   "source": [
    "import matplotlib.pyplot as plt\n",
    "from sklearn.metrics import roc_curve\n",
    "fpr1, tpr1, thresholds = roc_curve(y_true, probs1)\n",
    "fpr2, tpr2, thresholds = roc_curve(y_true, probs2)\n",
    "fpr3, tpr3, thresholds = roc_curve(y_true, probs3)\n",
    "fpr4, tpr4, thresholds = roc_curve(y_true, probs4)\n",
    "plt.rcParams['font.family'] = 'Arial'\n",
    "params = plt.rcParams\n",
    "font_family = params['font.family']\n",
    "font_name = params['font.sans-serif'][0]\n",
    "print(\"当前字体设置：\")\n",
    "print(\"字体系列：\", font_family)\n",
    "print(\"字体名称：\", font_name)\n",
    "from sklearn.metrics import roc_curve, auc\n",
    "roc_auc1 = auc(fpr1, tpr1)\n",
    "roc_auc2 = auc(fpr2, tpr2)\n",
    "roc_auc3 = auc(fpr3, tpr3)\n",
    "roc_auc4 = auc(fpr4, tpr4)\n",
    "fig1 = plt.figure()\n",
    "plt.plot([0, 1], [0, 1], 'k--')\n",
    "plt.plot(fpr1, tpr1, label='LR (AUC = %0.3f, 95%% CI: %0.3f-%0.3f)' % (roc_auc1, lower1, upper1))\n",
    "plt.plot(fpr2, tpr2, label='RF (AUC = %0.3f, 95%% CI: %0.3f-%0.3f)' % (roc_auc2, lower2, upper2))\n",
    "plt.plot(fpr3, tpr3, label='SVM (AUC = %0.3f, 95%% CI: %0.3f-%0.3f)' % (roc_auc3, lower3, upper3))\n",
    "plt.plot(fpr4, tpr4, label='XGBoost (AUC = %0.3f, 95%% CI: %0.3f-%0.3f)' % (roc_auc4, lower4, upper4))\n",
    "plt.xlim([-0.05, 1.05])\n",
    "plt.ylim([-0.05, 1.05])\n",
    "plt.xlabel('False positive rate')\n",
    "plt.ylabel('True positive rate')\n",
    "plt.title('Receiver operating characteristic curve')\n",
    "plt.legend(loc=\"lower right\")"
   ]
  },
  {
   "cell_type": "code",
   "execution_count": 46,
   "id": "b5a296af",
   "metadata": {},
   "outputs": [],
   "source": [
    "from matplotlib.backends.backend_pdf import PdfPages\n",
    "# 保存为PDF格式\n",
    "with PdfPages('roc_curve-生活方式+检验学指标-3年心因死亡.pdf') as pdf:\n",
    "    pdf.savefig(fig1)\n",
    "    plt.close()"
   ]
  },
  {
   "cell_type": "code",
   "execution_count": 47,
   "id": "6db42cc8",
   "metadata": {},
   "outputs": [],
   "source": [
    "selected_columns = [\n",
    "    \"SEQN\",\"Doctor told you have diabetes\", \"Education Level - Adults 20+\", \"Ever told you had a stroke\",\n",
    "    \"Ever told you had coronary heart disease\", \"Ever told you had high blood pressure\",\n",
    "    \"Had at least 12 alcohol drinks/1 yr?\", \"Marital Status\", \"Moderate recreational activities\",\n",
    "    \"Moderate work activity\", \"Race\", \"Smoked at least 100 cigarettes in life\", \n",
    "    \"Vigorous recreational activities\", \"Vigorous work activity\", \"Walk or bicycle\", \"Age\", \n",
    "    \"Minutes sedentary activity\", \"Ratio of family income to poverty\", \"Waist Circumference (cm)\", \n",
    "    \"3 year heart death\"\n",
    "]\n",
    "df2 = df1[selected_columns]"
   ]
  },
  {
   "cell_type": "code",
   "execution_count": 49,
   "id": "5dcdfba3",
   "metadata": {},
   "outputs": [
    {
     "name": "stderr",
     "output_type": "stream",
     "text": [
      "C:\\Users\\wzc\\AppData\\Local\\Temp\\ipykernel_23972\\3438547318.py:7: SettingWithCopyWarning: \n",
      "A value is trying to be set on a copy of a slice from a DataFrame.\n",
      "Try using .loc[row_indexer,col_indexer] = value instead\n",
      "\n",
      "See the caveats in the documentation: https://pandas.pydata.org/pandas-docs/stable/user_guide/indexing.html#returning-a-view-versus-a-copy\n",
      "  df2[col] = df2[col].astype('category')\n"
     ]
    }
   ],
   "source": [
    "first_col = df2.iloc[:, 0]\n",
    "last_col = df2.iloc[:, -1]\n",
    "for col in df2.columns[1:15]:\n",
    "    df2[col] = df2[col].astype('category')\n",
    "df_encoded = pd.get_dummies(df2.iloc[:, 1:15], drop_first=True)\n",
    "scaler = StandardScaler()\n",
    "df_standardized = pd.DataFrame(scaler.fit_transform(df2.iloc[:, 15:-1]), columns=df2.columns[15:-1])\n",
    "df3 = pd.concat([first_col, df_encoded, df_standardized, last_col], axis=1)"
   ]
  },
  {
   "cell_type": "code",
   "execution_count": 51,
   "id": "cd5af756",
   "metadata": {},
   "outputs": [],
   "source": [
    "x = df3.iloc[:, 1:30]\n",
    "y = df3['3 year heart death']"
   ]
  },
  {
   "cell_type": "code",
   "execution_count": 14,
   "id": "c348ac88",
   "metadata": {},
   "outputs": [
    {
     "ename": "NameError",
     "evalue": "name 'x' is not defined",
     "output_type": "error",
     "traceback": [
      "\u001b[1;31m---------------------------------------------------------------------------\u001b[0m",
      "\u001b[1;31mNameError\u001b[0m                                 Traceback (most recent call last)",
      "Cell \u001b[1;32mIn[14], line 2\u001b[0m\n\u001b[0;32m      1\u001b[0m \u001b[38;5;28;01mfrom\u001b[39;00m \u001b[38;5;21;01msklearn\u001b[39;00m\u001b[38;5;21;01m.\u001b[39;00m\u001b[38;5;21;01mmodel_selection\u001b[39;00m \u001b[38;5;28;01mimport\u001b[39;00m train_test_split\n\u001b[1;32m----> 2\u001b[0m x_train, x_test, y_train, y_test \u001b[38;5;241m=\u001b[39m train_test_split(x, y, test_size\u001b[38;5;241m=\u001b[39m\u001b[38;5;241m0.3\u001b[39m, random_state\u001b[38;5;241m=\u001b[39m\u001b[38;5;241m42\u001b[39m)\n\u001b[0;32m      3\u001b[0m \u001b[38;5;28;01mfrom\u001b[39;00m \u001b[38;5;21;01msklearn\u001b[39;00m\u001b[38;5;21;01m.\u001b[39;00m\u001b[38;5;21;01mlinear_model\u001b[39;00m \u001b[38;5;28;01mimport\u001b[39;00m LogisticRegression\n\u001b[0;32m      4\u001b[0m estimator \u001b[38;5;241m=\u001b[39m LogisticRegression(max_iter\u001b[38;5;241m=\u001b[39m\u001b[38;5;241m200\u001b[39m)\n",
      "\u001b[1;31mNameError\u001b[0m: name 'x' is not defined"
     ]
    }
   ],
   "source": [
    "from sklearn.model_selection import train_test_split\n",
    "x_train, x_test, y_train, y_test = train_test_split(x, y, test_size=0.3, random_state=42)\n",
    "from sklearn.linear_model import LogisticRegression\n",
    "estimator = LogisticRegression(max_iter=200)\n",
    "estimator.fit(x_train, y_train)\n",
    "from sklearn.metrics import roc_auc_score\n",
    "y_true = y_test\n",
    "probs1 = estimator.predict_proba(x_test)[:, 1]\n",
    "auc_LR = roc_auc_score(y_true, probs1)\n",
    "from sklearn.utils import resample\n",
    "import numpy as np\n",
    "n_iterations = 1000\n",
    "auc_scores = []\n",
    "\n",
    "for i in range(n_iterations):\n",
    "    x_test_resampled, y_test_resampled = resample(x_test, y_test, replace=True)\n",
    "    y_pred_resampled = estimator.predict_proba(x_test_resampled)[:, 1]\n",
    "    auc_resampled = roc_auc_score(y_test_resampled, y_pred_resampled)\n",
    "    auc_scores.append(auc_resampled)\n",
    "alpha = 0.95\n",
    "lower1 = np.percentile(auc_scores, (1 - alpha) / 2 * 100)\n",
    "upper1 = np.percentile(auc_scores, (1 + alpha) / 2 * 100)\n",
    "print(f\"AUC: {auc_LR:.3f} ({lower1:.3f}-{upper1:.3f})\")"
   ]
  },
  {
   "cell_type": "code",
   "execution_count": 55,
   "id": "9703be9e",
   "metadata": {},
   "outputs": [
    {
     "data": {
      "text/plain": [
       "['LR-生活方式-3年心因死亡.joblib']"
      ]
     },
     "execution_count": 55,
     "metadata": {},
     "output_type": "execute_result"
    }
   ],
   "source": [
    "import joblib\n",
    "joblib.dump(estimator, 'LR-生活方式-3年心因死亡.joblib')"
   ]
  },
  {
   "cell_type": "code",
   "execution_count": 15,
   "id": "82c1ee78",
   "metadata": {},
   "outputs": [
    {
     "ename": "NameError",
     "evalue": "name 'x_train' is not defined",
     "output_type": "error",
     "traceback": [
      "\u001b[1;31m---------------------------------------------------------------------------\u001b[0m",
      "\u001b[1;31mNameError\u001b[0m                                 Traceback (most recent call last)",
      "Cell \u001b[1;32mIn[15], line 3\u001b[0m\n\u001b[0;32m      1\u001b[0m \u001b[38;5;28;01mfrom\u001b[39;00m \u001b[38;5;21;01msklearn\u001b[39;00m\u001b[38;5;21;01m.\u001b[39;00m\u001b[38;5;21;01mensemble\u001b[39;00m \u001b[38;5;28;01mimport\u001b[39;00m RandomForestClassifier\n\u001b[0;32m      2\u001b[0m estimator \u001b[38;5;241m=\u001b[39m RandomForestClassifier()\n\u001b[1;32m----> 3\u001b[0m estimator\u001b[38;5;241m.\u001b[39mfit(x_train, y_train)\n\u001b[0;32m      4\u001b[0m probs2 \u001b[38;5;241m=\u001b[39m estimator\u001b[38;5;241m.\u001b[39mpredict_proba(x_test)[:, \u001b[38;5;241m1\u001b[39m]\n\u001b[0;32m      5\u001b[0m auc_RF \u001b[38;5;241m=\u001b[39m roc_auc_score(y_true, probs2)\n",
      "\u001b[1;31mNameError\u001b[0m: name 'x_train' is not defined"
     ]
    }
   ],
   "source": [
    "from sklearn.ensemble import RandomForestClassifier\n",
    "estimator = RandomForestClassifier()\n",
    "estimator.fit(x_train, y_train)\n",
    "probs2 = estimator.predict_proba(x_test)[:, 1]\n",
    "auc_RF = roc_auc_score(y_true, probs2)\n",
    "n_iterations = 1000\n",
    "auc_scores = []\n",
    "\n",
    "for i in range(n_iterations):\n",
    "    x_test_resampled, y_test_resampled = resample(x_test, y_test, replace=True)\n",
    "    y_pred_resampled = estimator.predict_proba(x_test_resampled)[:, 1]\n",
    "    auc_resampled = roc_auc_score(y_test_resampled, y_pred_resampled)\n",
    "    auc_scores.append(auc_resampled)\n",
    "alpha = 0.95\n",
    "lower2 = np.percentile(auc_scores, (1 - alpha) / 2 * 100)\n",
    "upper2 = np.percentile(auc_scores, (1 + alpha) / 2 * 100)\n",
    "print(f\"AUC: {auc_RF:.3f} ({lower2:.3f}-{upper2:.3f})\")"
   ]
  },
  {
   "cell_type": "code",
   "execution_count": 57,
   "id": "cdb795b0",
   "metadata": {},
   "outputs": [
    {
     "data": {
      "text/plain": [
       "['RF-生活方式-3年心因死亡.joblib']"
      ]
     },
     "execution_count": 57,
     "metadata": {},
     "output_type": "execute_result"
    }
   ],
   "source": [
    "import joblib\n",
    "joblib.dump(estimator, 'RF-生活方式-3年心因死亡.joblib')"
   ]
  },
  {
   "cell_type": "code",
   "execution_count": 58,
   "id": "fc43f38e",
   "metadata": {},
   "outputs": [
    {
     "name": "stdout",
     "output_type": "stream",
     "text": [
      "AUC: 0.797 (0.742-0.848)\n"
     ]
    }
   ],
   "source": [
    "from sklearn.svm import SVC\n",
    "estimator = SVC(probability=True)\n",
    "estimator.fit(x_train, y_train)\n",
    "probs3 = estimator.predict_proba(x_test)[:, 1]\n",
    "auc_SVM = roc_auc_score(y_true, probs3)\n",
    "n_iterations = 1000\n",
    "auc_scores = []\n",
    "\n",
    "for i in range(n_iterations):\n",
    "    x_test_resampled, y_test_resampled = resample(x_test, y_test, replace=True)\n",
    "    y_pred_resampled = estimator.predict_proba(x_test_resampled)[:, 1]\n",
    "    auc_resampled = roc_auc_score(y_test_resampled, y_pred_resampled)\n",
    "    auc_scores.append(auc_resampled)\n",
    "alpha = 0.95\n",
    "lower3 = np.percentile(auc_scores, (1 - alpha) / 2 * 100)\n",
    "upper3 = np.percentile(auc_scores, (1 + alpha) / 2 * 100)\n",
    "print(f\"AUC: {auc_SVM:.3f} ({lower3:.3f}-{upper3:.3f})\")"
   ]
  },
  {
   "cell_type": "code",
   "execution_count": 59,
   "id": "ef34c368",
   "metadata": {},
   "outputs": [
    {
     "data": {
      "text/plain": [
       "['SVM-生活方式-3年心因死亡.joblib']"
      ]
     },
     "execution_count": 59,
     "metadata": {},
     "output_type": "execute_result"
    }
   ],
   "source": [
    "import joblib\n",
    "joblib.dump(estimator, 'SVM-生活方式-3年心因死亡.joblib')"
   ]
  },
  {
   "cell_type": "code",
   "execution_count": 60,
   "id": "dfdf42da",
   "metadata": {},
   "outputs": [
    {
     "name": "stdout",
     "output_type": "stream",
     "text": [
      "AUC: 0.842 (0.799-0.878)\n"
     ]
    }
   ],
   "source": [
    "import xgboost as xgb\n",
    "estimator = xgb.XGBClassifier()\n",
    "estimator.fit(x_train, y_train)\n",
    "probs4 = estimator.predict_proba(x_test)[:, 1]\n",
    "auc_XGBoost = roc_auc_score(y_true, probs4)\n",
    "n_iterations = 1000\n",
    "auc_scores = []\n",
    "\n",
    "for i in range(n_iterations):\n",
    "    x_test_resampled, y_test_resampled = resample(x_test, y_test, replace=True)\n",
    "    y_pred_resampled = estimator.predict_proba(x_test_resampled)[:, 1]\n",
    "    auc_resampled = roc_auc_score(y_test_resampled, y_pred_resampled)\n",
    "    auc_scores.append(auc_resampled)\n",
    "alpha = 0.95\n",
    "lower4 = np.percentile(auc_scores, (1 - alpha) / 2 * 100)\n",
    "upper4 = np.percentile(auc_scores, (1 + alpha) / 2 * 100)\n",
    "print(f\"AUC: {auc_XGBoost:.3f} ({lower4:.3f}-{upper4:.3f})\")"
   ]
  },
  {
   "cell_type": "code",
   "execution_count": 61,
   "id": "fc50ca5f",
   "metadata": {},
   "outputs": [
    {
     "data": {
      "text/plain": [
       "['XGBoost-生活方式-3年心因死亡.joblib']"
      ]
     },
     "execution_count": 61,
     "metadata": {},
     "output_type": "execute_result"
    }
   ],
   "source": [
    "import joblib\n",
    "joblib.dump(estimator, 'XGBoost-生活方式-3年心因死亡.joblib')"
   ]
  },
  {
   "cell_type": "code",
   "execution_count": 62,
   "id": "7428390d",
   "metadata": {},
   "outputs": [
    {
     "name": "stdout",
     "output_type": "stream",
     "text": [
      "当前字体设置：\n",
      "字体系列： ['Arial']\n",
      "字体名称： DejaVu Sans\n"
     ]
    },
    {
     "data": {
      "text/plain": [
       "<matplotlib.legend.Legend at 0x22a5a556e10>"
      ]
     },
     "execution_count": 62,
     "metadata": {},
     "output_type": "execute_result"
    },
    {
     "data": {
      "image/png": "[encoded data removed]",
      "text/plain": [
       "<Figure size 640x480 with 1 Axes>"
      ]
     },
     "metadata": {},
     "output_type": "display_data"
    }
   ],
   "source": [
    "import matplotlib.pyplot as plt\n",
    "from sklearn.metrics import roc_curve\n",
    "fpr1, tpr1, thresholds = roc_curve(y_true, probs1)\n",
    "fpr2, tpr2, thresholds = roc_curve(y_true, probs2)\n",
    "fpr3, tpr3, thresholds = roc_curve(y_true, probs3)\n",
    "fpr4, tpr4, thresholds = roc_curve(y_true, probs4)\n",
    "plt.rcParams['font.family'] = 'Arial'\n",
    "params = plt.rcParams\n",
    "font_family = params['font.family']\n",
    "font_name = params['font.sans-serif'][0]\n",
    "print(\"当前字体设置：\")\n",
    "print(\"字体系列：\", font_family)\n",
    "print(\"字体名称：\", font_name)\n",
    "from sklearn.metrics import roc_curve, auc\n",
    "roc_auc1 = auc(fpr1, tpr1)\n",
    "roc_auc2 = auc(fpr2, tpr2)\n",
    "roc_auc3 = auc(fpr3, tpr3)\n",
    "roc_auc4 = auc(fpr4, tpr4)\n",
    "fig1 = plt.figure()\n",
    "plt.plot([0, 1], [0, 1], 'k--')\n",
    "plt.plot(fpr1, tpr1, label='LR (AUC = %0.3f, 95%% CI: %0.3f-%0.3f)' % (roc_auc1, lower1, upper1))\n",
    "plt.plot(fpr2, tpr2, label='RF (AUC = %0.3f, 95%% CI: %0.3f-%0.3f)' % (roc_auc2, lower2, upper2))\n",
    "plt.plot(fpr3, tpr3, label='SVM (AUC = %0.3f, 95%% CI: %0.3f-%0.3f)' % (roc_auc3, lower3, upper3))\n",
    "plt.plot(fpr4, tpr4, label='XGBoost (AUC = %0.3f, 95%% CI: %0.3f-%0.3f)' % (roc_auc4, lower4, upper4))\n",
    "plt.xlim([-0.05, 1.05])\n",
    "plt.ylim([-0.05, 1.05])\n",
    "plt.xlabel('False positive rate')\n",
    "plt.ylabel('True positive rate')\n",
    "plt.title('Receiver operating characteristic curve')\n",
    "plt.legend(loc=\"lower right\")"
   ]
  },
  {
   "cell_type": "code",
   "execution_count": 63,
   "id": "33661fc4",
   "metadata": {},
   "outputs": [],
   "source": [
    "from matplotlib.backends.backend_pdf import PdfPages\n",
    "with PdfPages('roc_curve-生活方式-3年心因死亡.pdf') as pdf:\n",
    "    pdf.savefig(fig1)\n",
    "    plt.close()"
   ]
  },
  {
   "cell_type": "code",
   "execution_count": 64,
   "id": "cd39baf0",
   "metadata": {},
   "outputs": [],
   "source": [
    "selected_columns = [\n",
    "    \"SEQN\", \"Alanine Aminotransferase (ALT) (U/L)\", \"Albumin (g/L)\", \"Albumin_urine (mg/L)\", \n",
    "    \"Alkaline Phosphatase (ALP) (IU/L)\", \"Bicarbonate (mmol/L)\", \"Blood urea nitrogen (mmol/L)\", \n",
    "    \"Chloride (mmol/L)\", \"Cholesterol (mmol/L)\", \"Creatinine (?mol/L)\", \"Creatinine_urine (umol/L)\", \n",
    "    \"Direct HDL-Cholesterol (mmol/L)\", \"Gamma Glutamyl Transferase (GGT) (U/L)\", \"Globulin (g/L)\", \n",
    "    \"Glucose_serum (mmol/L)\", \"Glycohemoglobin (%)\", \"Hematocrit (%)\", \"Hemoglobin (g/dL)\", \n",
    "    \"Iron_refigerated (umol/L)\", \"Lactate Dehydrogenase (LDH) (U/L)\", \"Lymphocyte number (1000 cells/uL)\", \n",
    "    \"Lymphocyte percent (%)\", \"Mean cell hemoglobin (pg)\", \"Mean cell hemoglobin concentration (g/dL)\", \n",
    "    \"Mean cell volume (fL)\", \"Monocyte number (1000 cells/uL)\", \"Monocyte percent (%)\", \n",
    "    \"Osmolality (mmol/Kg)\", \"Phosphorus (mmol/L)\", \"Platelet count (1000 cells/uL)\", \n",
    "    \"Potassium (mmol/L)\", \"Red blood cell count (million cells/uL)\", \"Red cell distribution width (%)\", \n",
    "    \"Segmented neutrophils num (1000 cell/uL)\", \"Segmented neutrophils percent (%)\", \n",
    "    \"Total protein (g/L)\", \"Uric acid (umol/L)\", \"3 year heart death\"\n",
    "]\n",
    "df2 = df1[selected_columns]"
   ]
  },
  {
   "cell_type": "code",
   "execution_count": 66,
   "id": "a64df4d8",
   "metadata": {},
   "outputs": [],
   "source": [
    "first_col = df2.iloc[:, 0]\n",
    "last_col = df2.iloc[:, -1]\n",
    "scaler = StandardScaler()\n",
    "df_standardized = pd.DataFrame(scaler.fit_transform(df2.iloc[:, 1:37]), columns=df2.columns[1:37])\n",
    "df3 = pd.concat([first_col, df_standardized, last_col], axis=1)"
   ]
  },
  {
   "cell_type": "code",
   "execution_count": 68,
   "id": "859fcd88",
   "metadata": {},
   "outputs": [],
   "source": [
    "x = df3.iloc[:, 1:37]\n",
    "y = df3['3 year heart death']"
   ]
  },
  {
   "cell_type": "code",
   "execution_count": 71,
   "id": "fdbfd2d7",
   "metadata": {},
   "outputs": [
    {
     "name": "stdout",
     "output_type": "stream",
     "text": [
      "AUC: 0.886 (0.846-0.920)\n"
     ]
    }
   ],
   "source": [
    "from sklearn.model_selection import train_test_split\n",
    "x_train, x_test, y_train, y_test = train_test_split(x, y, test_size=0.3, random_state=42)\n",
    "from sklearn.linear_model import LogisticRegression\n",
    "estimator = LogisticRegression(max_iter=200)\n",
    "estimator.fit(x_train, y_train)\n",
    "from sklearn.metrics import roc_auc_score\n",
    "y_true = y_test\n",
    "probs1 = estimator.predict_proba(x_test)[:, 1]\n",
    "auc_LR = roc_auc_score(y_true, probs1)\n",
    "from sklearn.utils import resample\n",
    "import numpy as np\n",
    "n_iterations = 1000\n",
    "auc_scores = []\n",
    "\n",
    "for i in range(n_iterations):\n",
    "    x_test_resampled, y_test_resampled = resample(x_test, y_test, replace=True)\n",
    "    y_pred_resampled = estimator.predict_proba(x_test_resampled)[:, 1]\n",
    "    auc_resampled = roc_auc_score(y_test_resampled, y_pred_resampled)\n",
    "    auc_scores.append(auc_resampled)\n",
    "alpha = 0.95\n",
    "lower1 = np.percentile(auc_scores, (1 - alpha) / 2 * 100)\n",
    "upper1 = np.percentile(auc_scores, (1 + alpha) / 2 * 100)\n",
    "print(f\"AUC: {auc_LR:.3f} ({lower1:.3f}-{upper1:.3f})\")"
   ]
  },
  {
   "cell_type": "code",
   "execution_count": 72,
   "id": "494ed924",
   "metadata": {},
   "outputs": [
    {
     "data": {
      "text/plain": [
       "['LR-检验学指标-3年心因死亡.joblib']"
      ]
     },
     "execution_count": 72,
     "metadata": {},
     "output_type": "execute_result"
    }
   ],
   "source": [
    "import joblib\n",
    "joblib.dump(estimator, 'LR-检验学指标-3年心因死亡.joblib')"
   ]
  },
  {
   "cell_type": "code",
   "execution_count": 73,
   "id": "20eb456e",
   "metadata": {},
   "outputs": [
    {
     "name": "stdout",
     "output_type": "stream",
     "text": [
      "AUC: 0.783 (0.722-0.840)\n"
     ]
    }
   ],
   "source": [
    "from sklearn.ensemble import RandomForestClassifier\n",
    "estimator = RandomForestClassifier()\n",
    "estimator.fit(x_train, y_train)\n",
    "probs2 = estimator.predict_proba(x_test)[:, 1]\n",
    "auc_RF = roc_auc_score(y_true, probs2)\n",
    "n_iterations = 1000\n",
    "auc_scores = []\n",
    "\n",
    "for i in range(n_iterations):\n",
    "    x_test_resampled, y_test_resampled = resample(x_test, y_test, replace=True)\n",
    "    y_pred_resampled = estimator.predict_proba(x_test_resampled)[:, 1]\n",
    "    auc_resampled = roc_auc_score(y_test_resampled, y_pred_resampled)\n",
    "    auc_scores.append(auc_resampled)\n",
    "alpha = 0.95\n",
    "lower2 = np.percentile(auc_scores, (1 - alpha) / 2 * 100)\n",
    "upper2 = np.percentile(auc_scores, (1 + alpha) / 2 * 100)\n",
    "print(f\"AUC: {auc_RF:.3f} ({lower2:.3f}-{upper2:.3f})\")"
   ]
  },
  {
   "cell_type": "code",
   "execution_count": 74,
   "id": "20e60a24",
   "metadata": {},
   "outputs": [
    {
     "data": {
      "text/plain": [
       "['RF-检验学指标-3年心因死亡.joblib']"
      ]
     },
     "execution_count": 74,
     "metadata": {},
     "output_type": "execute_result"
    }
   ],
   "source": [
    "import joblib\n",
    "joblib.dump(estimator, 'RF-检验学指标-3年心因死亡.joblib')"
   ]
  },
  {
   "cell_type": "code",
   "execution_count": 75,
   "id": "c8ef281e",
   "metadata": {},
   "outputs": [
    {
     "name": "stdout",
     "output_type": "stream",
     "text": [
      "AUC: 0.782 (0.725-0.835)\n"
     ]
    }
   ],
   "source": [
    "from sklearn.svm import SVC\n",
    "estimator = SVC(probability=True)\n",
    "estimator.fit(x_train, y_train)\n",
    "probs3 = estimator.predict_proba(x_test)[:, 1]\n",
    "auc_SVM = roc_auc_score(y_true, probs3)\n",
    "n_iterations = 1000\n",
    "auc_scores = []\n",
    "\n",
    "for i in range(n_iterations):\n",
    "    x_test_resampled, y_test_resampled = resample(x_test, y_test, replace=True)\n",
    "    y_pred_resampled = estimator.predict_proba(x_test_resampled)[:, 1]\n",
    "    auc_resampled = roc_auc_score(y_test_resampled, y_pred_resampled)\n",
    "    auc_scores.append(auc_resampled)\n",
    "alpha = 0.95\n",
    "lower3 = np.percentile(auc_scores, (1 - alpha) / 2 * 100)\n",
    "upper3 = np.percentile(auc_scores, (1 + alpha) / 2 * 100)\n",
    "print(f\"AUC: {auc_SVM:.3f} ({lower3:.3f}-{upper3:.3f})\")"
   ]
  },
  {
   "cell_type": "code",
   "execution_count": 76,
   "id": "e2e27c90",
   "metadata": {},
   "outputs": [
    {
     "data": {
      "text/plain": [
       "['SVM-检验学指标-3年心因死亡.joblib']"
      ]
     },
     "execution_count": 76,
     "metadata": {},
     "output_type": "execute_result"
    }
   ],
   "source": [
    "import joblib\n",
    "joblib.dump(estimator, 'SVM-检验学指标-3年心因死亡.joblib')"
   ]
  },
  {
   "cell_type": "code",
   "execution_count": 77,
   "id": "d01c339e",
   "metadata": {},
   "outputs": [
    {
     "name": "stdout",
     "output_type": "stream",
     "text": [
      "AUC: 0.860 (0.820-0.898)\n"
     ]
    }
   ],
   "source": [
    "import xgboost as xgb\n",
    "estimator = xgb.XGBClassifier()\n",
    "estimator.fit(x_train, y_train)\n",
    "probs4 = estimator.predict_proba(x_test)[:, 1]\n",
    "auc_XGBoost = roc_auc_score(y_true, probs4)\n",
    "n_iterations = 1000\n",
    "auc_scores = []\n",
    "\n",
    "for i in range(n_iterations):\n",
    "    x_test_resampled, y_test_resampled = resample(x_test, y_test, replace=True)\n",
    "    y_pred_resampled = estimator.predict_proba(x_test_resampled)[:, 1]\n",
    "    auc_resampled = roc_auc_score(y_test_resampled, y_pred_resampled)\n",
    "    auc_scores.append(auc_resampled)\n",
    "alpha = 0.95\n",
    "lower4 = np.percentile(auc_scores, (1 - alpha) / 2 * 100)\n",
    "upper4 = np.percentile(auc_scores, (1 + alpha) / 2 * 100)\n",
    "print(f\"AUC: {auc_XGBoost:.3f} ({lower4:.3f}-{upper4:.3f})\")"
   ]
  },
  {
   "cell_type": "code",
   "execution_count": 78,
   "id": "4f624ff3",
   "metadata": {},
   "outputs": [
    {
     "data": {
      "text/plain": [
       "['XGBoost-检验学指标-3年心因死亡.joblib']"
      ]
     },
     "execution_count": 78,
     "metadata": {},
     "output_type": "execute_result"
    }
   ],
   "source": [
    "import joblib\n",
    "joblib.dump(estimator, 'XGBoost-检验学指标-3年心因死亡.joblib')"
   ]
  },
  {
   "cell_type": "code",
   "execution_count": 79,
   "id": "6b1b25df",
   "metadata": {},
   "outputs": [
    {
     "name": "stdout",
     "output_type": "stream",
     "text": [
      "当前字体设置：\n",
      "字体系列： ['Arial']\n",
      "字体名称： DejaVu Sans\n"
     ]
    },
    {
     "data": {
      "text/plain": [
       "<matplotlib.legend.Legend at 0x22a5b5bac50>"
      ]
     },
     "execution_count": 79,
     "metadata": {},
     "output_type": "execute_result"
    },
    {
     "data": {
      "image/png": "[encoded data removed]",
      "text/plain": [
       "<Figure size 640x480 with 1 Axes>"
      ]
     },
     "metadata": {},
     "output_type": "display_data"
    }
   ],
   "source": [
    "import matplotlib.pyplot as plt\n",
    "from sklearn.metrics import roc_curve\n",
    "fpr1, tpr1, thresholds = roc_curve(y_true, probs1)\n",
    "fpr2, tpr2, thresholds = roc_curve(y_true, probs2)\n",
    "fpr3, tpr3, thresholds = roc_curve(y_true, probs3)\n",
    "fpr4, tpr4, thresholds = roc_curve(y_true, probs4)\n",
    "plt.rcParams['font.family'] = 'Arial'\n",
    "params = plt.rcParams\n",
    "font_family = params['font.family']\n",
    "font_name = params['font.sans-serif'][0]\n",
    "print(\"当前字体设置：\")\n",
    "print(\"字体系列：\", font_family)\n",
    "print(\"字体名称：\", font_name)\n",
    "from sklearn.metrics import roc_curve, auc\n",
    "roc_auc1 = auc(fpr1, tpr1)\n",
    "roc_auc2 = auc(fpr2, tpr2)\n",
    "roc_auc3 = auc(fpr3, tpr3)\n",
    "roc_auc4 = auc(fpr4, tpr4)\n",
    "fig1 = plt.figure()\n",
    "plt.plot([0, 1], [0, 1], 'k--')\n",
    "plt.plot(fpr1, tpr1, label='LR (AUC = %0.3f, 95%% CI: %0.3f-%0.3f)' % (roc_auc1, lower1, upper1))\n",
    "plt.plot(fpr2, tpr2, label='RF (AUC = %0.3f, 95%% CI: %0.3f-%0.3f)' % (roc_auc2, lower2, upper2))\n",
    "plt.plot(fpr3, tpr3, label='SVM (AUC = %0.3f, 95%% CI: %0.3f-%0.3f)' % (roc_auc3, lower3, upper3))\n",
    "plt.plot(fpr4, tpr4, label='XGBoost (AUC = %0.3f, 95%% CI: %0.3f-%0.3f)' % (roc_auc4, lower4, upper4))\n",
    "plt.xlim([-0.05, 1.05])\n",
    "plt.ylim([-0.05, 1.05])\n",
    "plt.xlabel('False positive rate')\n",
    "plt.ylabel('True positive rate')\n",
    "plt.title('Receiver operating characteristic curve')\n",
    "plt.legend(loc=\"lower right\")"
   ]
  },
  {
   "cell_type": "code",
   "execution_count": 80,
   "id": "22fa7f50",
   "metadata": {},
   "outputs": [],
   "source": [
    "from matplotlib.backends.backend_pdf import PdfPages\n",
    "with PdfPages('roc_curve-检验学指标-3年心因死亡.pdf') as pdf:\n",
    "    pdf.savefig(fig1)\n",
    "    plt.close()"
   ]
  },
  {
   "cell_type": "code",
   "execution_count": 2,
   "id": "f71488b1",
   "metadata": {},
   "outputs": [],
   "source": [
    "df1 = pd.read_csv(r\"D:\\临床数据\\NHANES数据清洗\\5年心因死亡数据2.csv\", low_memory=False)"
   ]
  },
  {
   "cell_type": "code",
   "execution_count": 4,
   "id": "363a794e",
   "metadata": {},
   "outputs": [],
   "source": [
    "selected_columns = [\n",
    "    \"SEQN\",\"Gender\",\"Doctor told you have diabetes\", \"Education Level - Adults 20+\", \"Ever told you had a stroke\",\n",
    "    \"Ever told you had coronary heart disease\", \"Ever told you had high blood pressure\",\n",
    "    \"Had at least 12 alcohol drinks/1 yr?\", \"Marital Status\", \"Moderate recreational activities\",\n",
    "    \"Moderate work activity\", \"Race\", \"Smoked at least 100 cigarettes in life\", \n",
    "    \"Vigorous recreational activities\", \"Vigorous work activity\", \"Walk or bicycle\", \"Age\", \n",
    "    \"Minutes sedentary activity\", \"Ratio of family income to poverty\", \"Waist Circumference (cm)\", \n",
    "    \"Alanine Aminotransferase (ALT) (U/L)\", \"Albumin (g/L)\", \"Albumin_urine (mg/L)\", \n",
    "    \"Alkaline Phosphatase (ALP) (IU/L)\", \"Bicarbonate (mmol/L)\", \"Blood urea nitrogen (mmol/L)\", \n",
    "    \"Chloride (mmol/L)\", \"Cholesterol (mmol/L)\", \"Creatinine (?mol/L)\", \"Creatinine_urine (umol/L)\", \n",
    "    \"Direct HDL-Cholesterol (mmol/L)\", \"Gamma Glutamyl Transferase (GGT) (U/L)\", \"Globulin (g/L)\", \n",
    "    \"Glucose_serum (mmol/L)\", \"Glycohemoglobin (%)\", \"Hematocrit (%)\", \"Hemoglobin (g/dL)\", \n",
    "    \"Iron_refigerated (umol/L)\", \"Lactate Dehydrogenase (LDH) (U/L)\", \"Lymphocyte number (1000 cells/uL)\", \n",
    "    \"Lymphocyte percent (%)\", \"Mean cell hemoglobin (pg)\", \"Mean cell hemoglobin concentration (g/dL)\", \n",
    "    \"Mean cell volume (fL)\", \"Monocyte number (1000 cells/uL)\", \"Monocyte percent (%)\", \n",
    "    \"Osmolality (mmol/Kg)\", \"Phosphorus (mmol/L)\", \"Platelet count (1000 cells/uL)\", \n",
    "    \"Potassium (mmol/L)\", \"Red blood cell count (million cells/uL)\", \"Red cell distribution width (%)\", \n",
    "    \"Segmented neutrophils num (1000 cell/uL)\", \"Segmented neutrophils percent (%)\", \n",
    "    \"Total protein (g/L)\", \"Uric acid (umol/L)\",\"Sodium (mmol/L)\",\"Total bilirubin (umol/L)\",\"Total calcium (mmol/L)\",\"Triglycerides (mmol/L)\",\n",
    "    \"5 year heart death\"\n",
    "]\n",
    "df2 = df1[selected_columns]"
   ]
  },
  {
   "cell_type": "code",
   "execution_count": 8,
   "id": "e9857698",
   "metadata": {},
   "outputs": [
    {
     "name": "stderr",
     "output_type": "stream",
     "text": [
      "C:\\Users\\wzc\\AppData\\Local\\Temp\\ipykernel_22108\\1245546008.py:7: SettingWithCopyWarning: \n",
      "A value is trying to be set on a copy of a slice from a DataFrame.\n",
      "Try using .loc[row_indexer,col_indexer] = value instead\n",
      "\n",
      "See the caveats in the documentation: https://pandas.pydata.org/pandas-docs/stable/user_guide/indexing.html#returning-a-view-versus-a-copy\n",
      "  df2[col] = df2[col].astype('category')\n"
     ]
    }
   ],
   "source": [
    "first_col = df2.iloc[:, 0]\n",
    "last_col = df2.iloc[:, -1]\n",
    "for col in df2.columns[1:16]:\n",
    "    df2[col] = df2[col].astype('category')\n",
    "df_encoded = pd.get_dummies(df2.iloc[:, 1:16], drop_first=True)\n",
    "scaler = StandardScaler()\n",
    "df_standardized = pd.DataFrame(scaler.fit_transform(df2.iloc[:, 16:-1]), columns=df2.columns[16:-1])\n",
    "df3 = pd.concat([first_col, df_encoded, df_standardized, last_col], axis=1)"
   ]
  },
  {
   "cell_type": "code",
   "execution_count": 10,
   "id": "cc4b448a",
   "metadata": {},
   "outputs": [],
   "source": [
    "x = df3.iloc[:, 1:71]\n",
    "y = df3['5 year heart death']"
   ]
  },
  {
   "cell_type": "code",
   "execution_count": 12,
   "id": "47f80593",
   "metadata": {},
   "outputs": [
    {
     "name": "stdout",
     "output_type": "stream",
     "text": [
      "AUC: 0.923 (0.895-0.946)\n"
     ]
    }
   ],
   "source": [
    "from sklearn.model_selection import train_test_split\n",
    "x_train, x_test, y_train, y_test = train_test_split(x, y, test_size=0.3, random_state=42)\n",
    "from sklearn.linear_model import LogisticRegression\n",
    "estimator = LogisticRegression(max_iter=200)\n",
    "estimator.fit(x_train, y_train)\n",
    "from sklearn.metrics import roc_auc_score\n",
    "y_true = y_test\n",
    "probs1 = estimator.predict_proba(x_test)[:, 1]\n",
    "auc_LR = roc_auc_score(y_true, probs1)\n",
    "from sklearn.utils import resample\n",
    "import numpy as np\n",
    "n_iterations = 1000\n",
    "auc_scores = []\n",
    "\n",
    "for i in range(n_iterations):\n",
    "    x_test_resampled, y_test_resampled = resample(x_test, y_test, replace=True)\n",
    "    y_pred_resampled = estimator.predict_proba(x_test_resampled)[:, 1]\n",
    "    auc_resampled = roc_auc_score(y_test_resampled, y_pred_resampled)\n",
    "    auc_scores.append(auc_resampled)\n",
    "alpha = 0.95\n",
    "lower1 = np.percentile(auc_scores, (1 - alpha) / 2 * 100)\n",
    "upper1 = np.percentile(auc_scores, (1 + alpha) / 2 * 100)\n",
    "print(f\"AUC: {auc_LR:.3f} ({lower1:.3f}-{upper1:.3f})\")"
   ]
  },
  {
   "cell_type": "code",
   "execution_count": 13,
   "id": "553fd097",
   "metadata": {},
   "outputs": [
    {
     "data": {
      "text/plain": [
       "['LR-生活方式+检验学指标-5年心因死亡.joblib']"
      ]
     },
     "execution_count": 13,
     "metadata": {},
     "output_type": "execute_result"
    }
   ],
   "source": [
    "import joblib\n",
    "joblib.dump(estimator, 'LR-生活方式+检验学指标-5年心因死亡.joblib')"
   ]
  },
  {
   "cell_type": "code",
   "execution_count": 14,
   "id": "d4418bfa",
   "metadata": {},
   "outputs": [
    {
     "name": "stdout",
     "output_type": "stream",
     "text": [
      "AUC: 0.895 (0.861-0.925)\n"
     ]
    }
   ],
   "source": [
    "from sklearn.ensemble import RandomForestClassifier\n",
    "estimator = RandomForestClassifier()\n",
    "estimator.fit(x_train, y_train)\n",
    "probs2 = estimator.predict_proba(x_test)[:, 1]\n",
    "auc_RF = roc_auc_score(y_true, probs2)\n",
    "n_iterations = 1000\n",
    "auc_scores = []\n",
    "\n",
    "for i in range(n_iterations):\n",
    "    x_test_resampled, y_test_resampled = resample(x_test, y_test, replace=True)\n",
    "    y_pred_resampled = estimator.predict_proba(x_test_resampled)[:, 1]\n",
    "    auc_resampled = roc_auc_score(y_test_resampled, y_pred_resampled)\n",
    "    auc_scores.append(auc_resampled)\n",
    "alpha = 0.95\n",
    "lower2 = np.percentile(auc_scores, (1 - alpha) / 2 * 100)\n",
    "upper2 = np.percentile(auc_scores, (1 + alpha) / 2 * 100)\n",
    "print(f\"AUC: {auc_RF:.3f} ({lower2:.3f}-{upper2:.3f})\")"
   ]
  },
  {
   "cell_type": "code",
   "execution_count": 15,
   "id": "6b249364",
   "metadata": {},
   "outputs": [
    {
     "data": {
      "text/plain": [
       "['RF-生活方式+检验学指标-5年心因死亡.joblib']"
      ]
     },
     "execution_count": 15,
     "metadata": {},
     "output_type": "execute_result"
    }
   ],
   "source": [
    "import joblib\n",
    "joblib.dump(estimator, 'RF-生活方式+检验学指标-5年心因死亡.joblib')"
   ]
  },
  {
   "cell_type": "code",
   "execution_count": 16,
   "id": "f136225a",
   "metadata": {},
   "outputs": [
    {
     "name": "stdout",
     "output_type": "stream",
     "text": [
      "AUC: 0.868 (0.836-0.898)\n"
     ]
    }
   ],
   "source": [
    "from sklearn.svm import SVC\n",
    "estimator = SVC(probability=True)\n",
    "estimator.fit(x_train, y_train)\n",
    "probs3 = estimator.predict_proba(x_test)[:, 1]\n",
    "auc_SVM = roc_auc_score(y_true, probs3)\n",
    "n_iterations = 1000\n",
    "auc_scores = []\n",
    "\n",
    "for i in range(n_iterations):\n",
    "    x_test_resampled, y_test_resampled = resample(x_test, y_test, replace=True)\n",
    "    y_pred_resampled = estimator.predict_proba(x_test_resampled)[:, 1]\n",
    "    auc_resampled = roc_auc_score(y_test_resampled, y_pred_resampled)\n",
    "    auc_scores.append(auc_resampled)\n",
    "alpha = 0.95\n",
    "lower3 = np.percentile(auc_scores, (1 - alpha) / 2 * 100)\n",
    "upper3 = np.percentile(auc_scores, (1 + alpha) / 2 * 100)\n",
    "print(f\"AUC: {auc_SVM:.3f} ({lower3:.3f}-{upper3:.3f})\")"
   ]
  },
  {
   "cell_type": "code",
   "execution_count": 17,
   "id": "04f7aaec",
   "metadata": {},
   "outputs": [
    {
     "data": {
      "text/plain": [
       "['SVM-生活方式+检验学指标-5年心因死亡.joblib']"
      ]
     },
     "execution_count": 17,
     "metadata": {},
     "output_type": "execute_result"
    }
   ],
   "source": [
    "import joblib\n",
    "joblib.dump(estimator, 'SVM-生活方式+检验学指标-5年心因死亡.joblib')"
   ]
  },
  {
   "cell_type": "code",
   "execution_count": 18,
   "id": "1ea04377",
   "metadata": {},
   "outputs": [
    {
     "name": "stdout",
     "output_type": "stream",
     "text": [
      "AUC: 0.910 (0.886-0.933)\n"
     ]
    }
   ],
   "source": [
    "import xgboost as xgb\n",
    "estimator = xgb.XGBClassifier()\n",
    "estimator.fit(x_train, y_train)\n",
    "probs4 = estimator.predict_proba(x_test)[:, 1]\n",
    "auc_XGBoost = roc_auc_score(y_true, probs4)\n",
    "n_iterations = 1000\n",
    "auc_scores = []\n",
    "\n",
    "for i in range(n_iterations):\n",
    "    x_test_resampled, y_test_resampled = resample(x_test, y_test, replace=True)\n",
    "    y_pred_resampled = estimator.predict_proba(x_test_resampled)[:, 1]\n",
    "    auc_resampled = roc_auc_score(y_test_resampled, y_pred_resampled)\n",
    "    auc_scores.append(auc_resampled)\n",
    "alpha = 0.95\n",
    "lower4 = np.percentile(auc_scores, (1 - alpha) / 2 * 100)\n",
    "upper4 = np.percentile(auc_scores, (1 + alpha) / 2 * 100)\n",
    "print(f\"AUC: {auc_XGBoost:.3f} ({lower4:.3f}-{upper4:.3f})\")"
   ]
  },
  {
   "cell_type": "code",
   "execution_count": 19,
   "id": "61e46fbc",
   "metadata": {},
   "outputs": [
    {
     "data": {
      "text/plain": [
       "['XGBoost-生活方式+检验学指标-5年心因死亡.joblib']"
      ]
     },
     "execution_count": 19,
     "metadata": {},
     "output_type": "execute_result"
    }
   ],
   "source": [
    "import joblib\n",
    "joblib.dump(estimator, 'XGBoost-生活方式+检验学指标-5年心因死亡.joblib')"
   ]
  },
  {
   "cell_type": "code",
   "execution_count": 20,
   "id": "883d7057",
   "metadata": {},
   "outputs": [
    {
     "name": "stdout",
     "output_type": "stream",
     "text": [
      "当前字体设置：\n",
      "字体系列： ['Arial']\n",
      "字体名称： DejaVu Sans\n"
     ]
    },
    {
     "data": {
      "text/plain": [
       "<matplotlib.legend.Legend at 0x201d128cd90>"
      ]
     },
     "execution_count": 20,
     "metadata": {},
     "output_type": "execute_result"
    },
    {
     "data": {
      "image/png": "[encoded data removed]",
      "text/plain": [
       "<Figure size 640x480 with 1 Axes>"
      ]
     },
     "metadata": {},
     "output_type": "display_data"
    }
   ],
   "source": [
    "import matplotlib.pyplot as plt\n",
    "from sklearn.metrics import roc_curve\n",
    "fpr1, tpr1, thresholds = roc_curve(y_true, probs1)\n",
    "fpr2, tpr2, thresholds = roc_curve(y_true, probs2)\n",
    "fpr3, tpr3, thresholds = roc_curve(y_true, probs3)\n",
    "fpr4, tpr4, thresholds = roc_curve(y_true, probs4)\n",
    "plt.rcParams['font.family'] = 'Arial'\n",
    "params = plt.rcParams\n",
    "font_family = params['font.family']\n",
    "font_name = params['font.sans-serif'][0]\n",
    "print(\"当前字体设置：\")\n",
    "print(\"字体系列：\", font_family)\n",
    "print(\"字体名称：\", font_name)\n",
    "from sklearn.metrics import roc_curve, auc\n",
    "roc_auc1 = auc(fpr1, tpr1)\n",
    "roc_auc2 = auc(fpr2, tpr2)\n",
    "roc_auc3 = auc(fpr3, tpr3)\n",
    "roc_auc4 = auc(fpr4, tpr4)\n",
    "fig1 = plt.figure()\n",
    "plt.plot([0, 1], [0, 1], 'k--')\n",
    "plt.plot(fpr1, tpr1, label='LR (AUC = %0.3f, 95%% CI: %0.3f-%0.3f)' % (roc_auc1, lower1, upper1))\n",
    "plt.plot(fpr2, tpr2, label='RF (AUC = %0.3f, 95%% CI: %0.3f-%0.3f)' % (roc_auc2, lower2, upper2))\n",
    "plt.plot(fpr3, tpr3, label='SVM (AUC = %0.3f, 95%% CI: %0.3f-%0.3f)' % (roc_auc3, lower3, upper3))\n",
    "plt.plot(fpr4, tpr4, label='XGBoost (AUC = %0.3f, 95%% CI: %0.3f-%0.3f)' % (roc_auc4, lower4, upper4))\n",
    "plt.xlim([-0.05, 1.05])\n",
    "plt.ylim([-0.05, 1.05])\n",
    "plt.xlabel('False positive rate')\n",
    "plt.ylabel('True positive rate')\n",
    "plt.title('Receiver operating characteristic curve')\n",
    "plt.legend(loc=\"lower right\")"
   ]
  },
  {
   "cell_type": "code",
   "execution_count": 21,
   "id": "a22dbb37",
   "metadata": {},
   "outputs": [],
   "source": [
    "from matplotlib.backends.backend_pdf import PdfPages\n",
    "with PdfPages('roc_curve-生活方式+检验学指标-5年心因死亡.pdf') as pdf:\n",
    "    pdf.savefig(fig1)\n",
    "    plt.close()"
   ]
  },
  {
   "cell_type": "code",
   "execution_count": 22,
   "id": "bb9c335d",
   "metadata": {},
   "outputs": [],
   "source": [
    "x = df3.iloc[:, 1:31]\n",
    "y = df3['5 year heart death']"
   ]
  },
  {
   "cell_type": "code",
   "execution_count": 24,
   "id": "083fcf8c",
   "metadata": {},
   "outputs": [
    {
     "name": "stdout",
     "output_type": "stream",
     "text": [
      "AUC: 0.905 (0.873-0.930)\n"
     ]
    }
   ],
   "source": [
    "from sklearn.model_selection import train_test_split\n",
    "x_train, x_test, y_train, y_test = train_test_split(x, y, test_size=0.3, random_state=42)\n",
    "from sklearn.linear_model import LogisticRegression\n",
    "estimator = LogisticRegression(max_iter=200)\n",
    "estimator.fit(x_train, y_train)\n",
    "from sklearn.metrics import roc_auc_score\n",
    "y_true = y_test\n",
    "probs1 = estimator.predict_proba(x_test)[:, 1]\n",
    "auc_LR = roc_auc_score(y_true, probs1)\n",
    "from sklearn.utils import resample\n",
    "import numpy as np\n",
    "n_iterations = 1000\n",
    "auc_scores = []\n",
    "\n",
    "for i in range(n_iterations):\n",
    "    x_test_resampled, y_test_resampled = resample(x_test, y_test, replace=True)\n",
    "    y_pred_resampled = estimator.predict_proba(x_test_resampled)[:, 1]\n",
    "    auc_resampled = roc_auc_score(y_test_resampled, y_pred_resampled)\n",
    "    auc_scores.append(auc_resampled)\n",
    "alpha = 0.95\n",
    "lower1 = np.percentile(auc_scores, (1 - alpha) / 2 * 100)\n",
    "upper1 = np.percentile(auc_scores, (1 + alpha) / 2 * 100)\n",
    "print(f\"AUC: {auc_LR:.3f} ({lower1:.3f}-{upper1:.3f})\")"
   ]
  },
  {
   "cell_type": "code",
   "execution_count": 25,
   "id": "1f6cee2f",
   "metadata": {},
   "outputs": [
    {
     "data": {
      "text/plain": [
       "['LR-生活方式-5年心因死亡.joblib']"
      ]
     },
     "execution_count": 25,
     "metadata": {},
     "output_type": "execute_result"
    }
   ],
   "source": [
    "import joblib\n",
    "joblib.dump(estimator, 'LR-生活方式-5年心因死亡.joblib')"
   ]
  },
  {
   "cell_type": "code",
   "execution_count": 26,
   "id": "cb415dba",
   "metadata": {},
   "outputs": [
    {
     "name": "stdout",
     "output_type": "stream",
     "text": [
      "AUC: 0.893 (0.860-0.921)\n"
     ]
    }
   ],
   "source": [
    "from sklearn.ensemble import RandomForestClassifier\n",
    "estimator = RandomForestClassifier()\n",
    "estimator.fit(x_train, y_train)\n",
    "probs2 = estimator.predict_proba(x_test)[:, 1]\n",
    "auc_RF = roc_auc_score(y_true, probs2)\n",
    "n_iterations = 1000\n",
    "auc_scores = []\n",
    "\n",
    "for i in range(n_iterations):\n",
    "    x_test_resampled, y_test_resampled = resample(x_test, y_test, replace=True)\n",
    "    y_pred_resampled = estimator.predict_proba(x_test_resampled)[:, 1]\n",
    "    auc_resampled = roc_auc_score(y_test_resampled, y_pred_resampled)\n",
    "    auc_scores.append(auc_resampled)\n",
    "alpha = 0.95\n",
    "lower2 = np.percentile(auc_scores, (1 - alpha) / 2 * 100)\n",
    "upper2 = np.percentile(auc_scores, (1 + alpha) / 2 * 100)\n",
    "print(f\"AUC: {auc_RF:.3f} ({lower2:.3f}-{upper2:.3f})\")"
   ]
  },
  {
   "cell_type": "code",
   "execution_count": 27,
   "id": "bec7548f",
   "metadata": {},
   "outputs": [
    {
     "data": {
      "text/plain": [
       "['RF-生活方式-5年心因死亡.joblib']"
      ]
     },
     "execution_count": 27,
     "metadata": {},
     "output_type": "execute_result"
    }
   ],
   "source": [
    "import joblib\n",
    "joblib.dump(estimator, 'RF-生活方式-5年心因死亡.joblib')"
   ]
  },
  {
   "cell_type": "code",
   "execution_count": 28,
   "id": "4732418f",
   "metadata": {},
   "outputs": [
    {
     "name": "stdout",
     "output_type": "stream",
     "text": [
      "AUC: 0.808 (0.768-0.846)\n"
     ]
    }
   ],
   "source": [
    "from sklearn.svm import SVC\n",
    "estimator = SVC(probability=True)\n",
    "estimator.fit(x_train, y_train)\n",
    "probs3 = estimator.predict_proba(x_test)[:, 1]\n",
    "auc_SVM = roc_auc_score(y_true, probs3)\n",
    "n_iterations = 1000\n",
    "auc_scores = []\n",
    "\n",
    "for i in range(n_iterations):\n",
    "    x_test_resampled, y_test_resampled = resample(x_test, y_test, replace=True)\n",
    "    y_pred_resampled = estimator.predict_proba(x_test_resampled)[:, 1]\n",
    "    auc_resampled = roc_auc_score(y_test_resampled, y_pred_resampled)\n",
    "    auc_scores.append(auc_resampled)\n",
    "alpha = 0.95\n",
    "lower3 = np.percentile(auc_scores, (1 - alpha) / 2 * 100)\n",
    "upper3 = np.percentile(auc_scores, (1 + alpha) / 2 * 100)\n",
    "print(f\"AUC: {auc_SVM:.3f} ({lower3:.3f}-{upper3:.3f})\")"
   ]
  },
  {
   "cell_type": "code",
   "execution_count": 29,
   "id": "f4b57a3e",
   "metadata": {},
   "outputs": [
    {
     "data": {
      "text/plain": [
       "['SVN-生活方式-5年心因死亡.joblib']"
      ]
     },
     "execution_count": 29,
     "metadata": {},
     "output_type": "execute_result"
    }
   ],
   "source": [
    "import joblib\n",
    "joblib.dump(estimator, 'SVN-生活方式-5年心因死亡.joblib')"
   ]
  },
  {
   "cell_type": "code",
   "execution_count": 30,
   "id": "ebc461bd",
   "metadata": {},
   "outputs": [
    {
     "name": "stdout",
     "output_type": "stream",
     "text": [
      "AUC: 0.897 (0.875-0.917)\n"
     ]
    }
   ],
   "source": [
    "import xgboost as xgb\n",
    "estimator = xgb.XGBClassifier()\n",
    "estimator.fit(x_train, y_train)\n",
    "probs4 = estimator.predict_proba(x_test)[:, 1]\n",
    "auc_XGBoost = roc_auc_score(y_true, probs4)\n",
    "n_iterations = 1000\n",
    "auc_scores = []\n",
    "\n",
    "for i in range(n_iterations):\n",
    "    x_test_resampled, y_test_resampled = resample(x_test, y_test, replace=True)\n",
    "    y_pred_resampled = estimator.predict_proba(x_test_resampled)[:, 1]\n",
    "    auc_resampled = roc_auc_score(y_test_resampled, y_pred_resampled)\n",
    "    auc_scores.append(auc_resampled)\n",
    "alpha = 0.95\n",
    "lower4 = np.percentile(auc_scores, (1 - alpha) / 2 * 100)\n",
    "upper4 = np.percentile(auc_scores, (1 + alpha) / 2 * 100)\n",
    "print(f\"AUC: {auc_XGBoost:.3f} ({lower4:.3f}-{upper4:.3f})\")"
   ]
  },
  {
   "cell_type": "code",
   "execution_count": 31,
   "id": "9cd07b49",
   "metadata": {},
   "outputs": [
    {
     "data": {
      "text/plain": [
       "['XGBoost-生活方式-5年心因死亡.joblib']"
      ]
     },
     "execution_count": 31,
     "metadata": {},
     "output_type": "execute_result"
    }
   ],
   "source": [
    "import joblib\n",
    "joblib.dump(estimator, 'XGBoost-生活方式-5年心因死亡.joblib')"
   ]
  },
  {
   "cell_type": "code",
   "execution_count": 32,
   "id": "b63f40d9",
   "metadata": {},
   "outputs": [
    {
     "name": "stdout",
     "output_type": "stream",
     "text": [
      "当前字体设置：\n",
      "字体系列： ['Arial']\n",
      "字体名称： DejaVu Sans\n"
     ]
    },
    {
     "data": {
      "text/plain": [
       "<matplotlib.legend.Legend at 0x201df072cd0>"
      ]
     },
     "execution_count": 32,
     "metadata": {},
     "output_type": "execute_result"
    },
    {
     "data": {
      "image/png": "[encoded data removed]",
      "text/plain": [
       "<Figure size 640x480 with 1 Axes>"
      ]
     },
     "metadata": {},
     "output_type": "display_data"
    }
   ],
   "source": [
    "import matplotlib.pyplot as plt\n",
    "from sklearn.metrics import roc_curve\n",
    "fpr1, tpr1, thresholds = roc_curve(y_true, probs1)\n",
    "fpr2, tpr2, thresholds = roc_curve(y_true, probs2)\n",
    "fpr3, tpr3, thresholds = roc_curve(y_true, probs3)\n",
    "fpr4, tpr4, thresholds = roc_curve(y_true, probs4)\n",
    "plt.rcParams['font.family'] = 'Arial'\n",
    "params = plt.rcParams\n",
    "font_family = params['font.family']\n",
    "font_name = params['font.sans-serif'][0]\n",
    "print(\"当前字体设置：\")\n",
    "print(\"字体系列：\", font_family)\n",
    "print(\"字体名称：\", font_name)\n",
    "from sklearn.metrics import roc_curve, auc\n",
    "roc_auc1 = auc(fpr1, tpr1)\n",
    "roc_auc2 = auc(fpr2, tpr2)\n",
    "roc_auc3 = auc(fpr3, tpr3)\n",
    "roc_auc4 = auc(fpr4, tpr4)\n",
    "fig1 = plt.figure()\n",
    "plt.plot([0, 1], [0, 1], 'k--')\n",
    "plt.plot(fpr1, tpr1, label='LR (AUC = %0.3f, 95%% CI: %0.3f-%0.3f)' % (roc_auc1, lower1, upper1))\n",
    "plt.plot(fpr2, tpr2, label='RF (AUC = %0.3f, 95%% CI: %0.3f-%0.3f)' % (roc_auc2, lower2, upper2))\n",
    "plt.plot(fpr3, tpr3, label='SVM (AUC = %0.3f, 95%% CI: %0.3f-%0.3f)' % (roc_auc3, lower3, upper3))\n",
    "plt.plot(fpr4, tpr4, label='XGBoost (AUC = %0.3f, 95%% CI: %0.3f-%0.3f)' % (roc_auc4, lower4, upper4))\n",
    "plt.xlim([-0.05, 1.05])\n",
    "plt.ylim([-0.05, 1.05])\n",
    "plt.xlabel('False positive rate')\n",
    "plt.ylabel('True positive rate')\n",
    "plt.title('Receiver operating characteristic curve')\n",
    "plt.legend(loc=\"lower right\")"
   ]
  },
  {
   "cell_type": "code",
   "execution_count": 33,
   "id": "bda319b1",
   "metadata": {},
   "outputs": [],
   "source": [
    "from matplotlib.backends.backend_pdf import PdfPages\n",
    "with PdfPages('roc_curve-生活方式-5年心因死亡.pdf') as pdf:\n",
    "    pdf.savefig(fig1)\n",
    "    plt.close()"
   ]
  },
  {
   "cell_type": "code",
   "execution_count": 34,
   "id": "c7e4f5b7",
   "metadata": {},
   "outputs": [],
   "source": [
    "x = df3.iloc[:, 31:71]\n",
    "y = df3['5 year heart death']"
   ]
  },
  {
   "cell_type": "code",
   "execution_count": 36,
   "id": "85d9da02",
   "metadata": {},
   "outputs": [
    {
     "name": "stdout",
     "output_type": "stream",
     "text": [
      "AUC: 0.861 (0.821-0.895)\n"
     ]
    }
   ],
   "source": [
    "from sklearn.model_selection import train_test_split\n",
    "x_train, x_test, y_train, y_test = train_test_split(x, y, test_size=0.3, random_state=42)\n",
    "from sklearn.linear_model import LogisticRegression\n",
    "estimator = LogisticRegression(max_iter=200)\n",
    "estimator.fit(x_train, y_train)\n",
    "from sklearn.metrics import roc_auc_score\n",
    "y_true = y_test\n",
    "probs1 = estimator.predict_proba(x_test)[:, 1]\n",
    "auc_LR = roc_auc_score(y_true, probs1)\n",
    "from sklearn.utils import resample\n",
    "import numpy as np\n",
    "n_iterations = 1000\n",
    "auc_scores = []\n",
    "\n",
    "for i in range(n_iterations):\n",
    "    x_test_resampled, y_test_resampled = resample(x_test, y_test, replace=True)\n",
    "    y_pred_resampled = estimator.predict_proba(x_test_resampled)[:, 1]\n",
    "    auc_resampled = roc_auc_score(y_test_resampled, y_pred_resampled)\n",
    "    auc_scores.append(auc_resampled)\n",
    "alpha = 0.95\n",
    "lower1 = np.percentile(auc_scores, (1 - alpha) / 2 * 100)\n",
    "upper1 = np.percentile(auc_scores, (1 + alpha) / 2 * 100)\n",
    "print(f\"AUC: {auc_LR:.3f} ({lower1:.3f}-{upper1:.3f})\")"
   ]
  },
  {
   "cell_type": "code",
   "execution_count": 37,
   "id": "e397fd7c",
   "metadata": {},
   "outputs": [
    {
     "data": {
      "text/plain": [
       "['LR-检验学指标-5年心因死亡.joblib']"
      ]
     },
     "execution_count": 37,
     "metadata": {},
     "output_type": "execute_result"
    }
   ],
   "source": [
    "import joblib\n",
    "joblib.dump(estimator, 'LR-检验学指标-5年心因死亡.joblib')"
   ]
  },
  {
   "cell_type": "code",
   "execution_count": 38,
   "id": "f78467b9",
   "metadata": {},
   "outputs": [
    {
     "name": "stdout",
     "output_type": "stream",
     "text": [
      "AUC: 0.831 (0.788-0.870)\n"
     ]
    }
   ],
   "source": [
    "from sklearn.ensemble import RandomForestClassifier\n",
    "estimator = RandomForestClassifier()\n",
    "estimator.fit(x_train, y_train)\n",
    "probs2 = estimator.predict_proba(x_test)[:, 1]\n",
    "auc_RF = roc_auc_score(y_true, probs2)\n",
    "n_iterations = 1000\n",
    "auc_scores = []\n",
    "\n",
    "for i in range(n_iterations):\n",
    "    x_test_resampled, y_test_resampled = resample(x_test, y_test, replace=True)\n",
    "    y_pred_resampled = estimator.predict_proba(x_test_resampled)[:, 1]\n",
    "    auc_resampled = roc_auc_score(y_test_resampled, y_pred_resampled)\n",
    "    auc_scores.append(auc_resampled)\n",
    "alpha = 0.95\n",
    "lower2 = np.percentile(auc_scores, (1 - alpha) / 2 * 100)\n",
    "upper2 = np.percentile(auc_scores, (1 + alpha) / 2 * 100)\n",
    "print(f\"AUC: {auc_RF:.3f} ({lower2:.3f}-{upper2:.3f})\")"
   ]
  },
  {
   "cell_type": "code",
   "execution_count": 39,
   "id": "d4e2865e",
   "metadata": {},
   "outputs": [
    {
     "data": {
      "text/plain": [
       "['RF-检验学指标-5年心因死亡.joblib']"
      ]
     },
     "execution_count": 39,
     "metadata": {},
     "output_type": "execute_result"
    }
   ],
   "source": [
    "import joblib\n",
    "joblib.dump(estimator, 'RF-检验学指标-5年心因死亡.joblib')"
   ]
  },
  {
   "cell_type": "code",
   "execution_count": 40,
   "id": "c87a745d",
   "metadata": {},
   "outputs": [
    {
     "name": "stdout",
     "output_type": "stream",
     "text": [
      "AUC: 0.775 (0.728-0.825)\n"
     ]
    }
   ],
   "source": [
    "from sklearn.svm import SVC\n",
    "estimator = SVC(probability=True)\n",
    "estimator.fit(x_train, y_train)\n",
    "probs3 = estimator.predict_proba(x_test)[:, 1]\n",
    "auc_SVM = roc_auc_score(y_true, probs3)\n",
    "n_iterations = 1000\n",
    "auc_scores = []\n",
    "\n",
    "for i in range(n_iterations):\n",
    "    x_test_resampled, y_test_resampled = resample(x_test, y_test, replace=True)\n",
    "    y_pred_resampled = estimator.predict_proba(x_test_resampled)[:, 1]\n",
    "    auc_resampled = roc_auc_score(y_test_resampled, y_pred_resampled)\n",
    "    auc_scores.append(auc_resampled)\n",
    "alpha = 0.95\n",
    "lower3 = np.percentile(auc_scores, (1 - alpha) / 2 * 100)\n",
    "upper3 = np.percentile(auc_scores, (1 + alpha) / 2 * 100)\n",
    "print(f\"AUC: {auc_SVM:.3f} ({lower3:.3f}-{upper3:.3f})\")"
   ]
  },
  {
   "cell_type": "code",
   "execution_count": 41,
   "id": "93049636",
   "metadata": {},
   "outputs": [
    {
     "data": {
      "text/plain": [
       "['SVM-检验学指标-5年心因死亡.joblib']"
      ]
     },
     "execution_count": 41,
     "metadata": {},
     "output_type": "execute_result"
    }
   ],
   "source": [
    "import joblib\n",
    "joblib.dump(estimator, 'SVM-检验学指标-5年心因死亡.joblib')"
   ]
  },
  {
   "cell_type": "code",
   "execution_count": 42,
   "id": "78cd19da",
   "metadata": {},
   "outputs": [
    {
     "name": "stdout",
     "output_type": "stream",
     "text": [
      "AUC: 0.848 (0.811-0.879)\n"
     ]
    }
   ],
   "source": [
    "import xgboost as xgb\n",
    "estimator = xgb.XGBClassifier()\n",
    "estimator.fit(x_train, y_train)\n",
    "probs4 = estimator.predict_proba(x_test)[:, 1]\n",
    "auc_XGBoost = roc_auc_score(y_true, probs4)\n",
    "n_iterations = 1000\n",
    "auc_scores = []\n",
    "\n",
    "for i in range(n_iterations):\n",
    "    x_test_resampled, y_test_resampled = resample(x_test, y_test, replace=True)\n",
    "    y_pred_resampled = estimator.predict_proba(x_test_resampled)[:, 1]\n",
    "    auc_resampled = roc_auc_score(y_test_resampled, y_pred_resampled)\n",
    "    auc_scores.append(auc_resampled)\n",
    "alpha = 0.95\n",
    "lower4 = np.percentile(auc_scores, (1 - alpha) / 2 * 100)\n",
    "upper4 = np.percentile(auc_scores, (1 + alpha) / 2 * 100)\n",
    "print(f\"AUC: {auc_XGBoost:.3f} ({lower4:.3f}-{upper4:.3f})\")"
   ]
  },
  {
   "cell_type": "code",
   "execution_count": 43,
   "id": "1473a687",
   "metadata": {},
   "outputs": [
    {
     "data": {
      "text/plain": [
       "['XGBoost-检验学指标-5年心因死亡.joblib']"
      ]
     },
     "execution_count": 43,
     "metadata": {},
     "output_type": "execute_result"
    }
   ],
   "source": [
    "import joblib\n",
    "joblib.dump(estimator, 'XGBoost-检验学指标-5年心因死亡.joblib')"
   ]
  },
  {
   "cell_type": "code",
   "execution_count": 16,
   "id": "d812c4a6",
   "metadata": {},
   "outputs": [
    {
     "ename": "NameError",
     "evalue": "name 'y_true' is not defined",
     "output_type": "error",
     "traceback": [
      "\u001b[1;31m---------------------------------------------------------------------------\u001b[0m",
      "\u001b[1;31mNameError\u001b[0m                                 Traceback (most recent call last)",
      "Cell \u001b[1;32mIn[16], line 3\u001b[0m\n\u001b[0;32m      1\u001b[0m \u001b[38;5;28;01mimport\u001b[39;00m \u001b[38;5;21;01mmatplotlib\u001b[39;00m\u001b[38;5;21;01m.\u001b[39;00m\u001b[38;5;21;01mpyplot\u001b[39;00m \u001b[38;5;28;01mas\u001b[39;00m \u001b[38;5;21;01mplt\u001b[39;00m\n\u001b[0;32m      2\u001b[0m \u001b[38;5;28;01mfrom\u001b[39;00m \u001b[38;5;21;01msklearn\u001b[39;00m\u001b[38;5;21;01m.\u001b[39;00m\u001b[38;5;21;01mmetrics\u001b[39;00m \u001b[38;5;28;01mimport\u001b[39;00m roc_curve\n\u001b[1;32m----> 3\u001b[0m fpr1, tpr1, thresholds \u001b[38;5;241m=\u001b[39m roc_curve(y_true, probs1)\n\u001b[0;32m      4\u001b[0m fpr2, tpr2, thresholds \u001b[38;5;241m=\u001b[39m roc_curve(y_true, probs2)\n\u001b[0;32m      5\u001b[0m fpr3, tpr3, thresholds \u001b[38;5;241m=\u001b[39m roc_curve(y_true, probs3)\n",
      "\u001b[1;31mNameError\u001b[0m: name 'y_true' is not defined"
     ]
    }
   ],
   "source": [
    "import matplotlib.pyplot as plt\n",
    "from sklearn.metrics import roc_curve\n",
    "fpr1, tpr1, thresholds = roc_curve(y_true, probs1)\n",
    "fpr2, tpr2, thresholds = roc_curve(y_true, probs2)\n",
    "fpr3, tpr3, thresholds = roc_curve(y_true, probs3)\n",
    "fpr4, tpr4, thresholds = roc_curve(y_true, probs4)\n",
    "plt.rcParams['font.family'] = 'Arial'\n",
    "params = plt.rcParams\n",
    "font_family = params['font.family']\n",
    "font_name = params['font.sans-serif'][0]\n",
    "print(\"当前字体设置：\")\n",
    "print(\"字体系列：\", font_family)\n",
    "print(\"字体名称：\", font_name)\n",
    "from sklearn.metrics import roc_curve, auc\n",
    "roc_auc1 = auc(fpr1, tpr1)\n",
    "roc_auc2 = auc(fpr2, tpr2)\n",
    "roc_auc3 = auc(fpr3, tpr3)\n",
    "roc_auc4 = auc(fpr4, tpr4)\n",
    "fig1 = plt.figure()\n",
    "plt.plot([0, 1], [0, 1], 'k--')\n",
    "plt.plot(fpr1, tpr1, label='LR (AUC = %0.3f, 95%% CI: %0.3f-%0.3f)' % (roc_auc1, lower1, upper1))\n",
    "plt.plot(fpr2, tpr2, label='RF (AUC = %0.3f, 95%% CI: %0.3f-%0.3f)' % (roc_auc2, lower2, upper2))\n",
    "plt.plot(fpr3, tpr3, label='SVM (AUC = %0.3f, 95%% CI: %0.3f-%0.3f)' % (roc_auc3, lower3, upper3))\n",
    "plt.plot(fpr4, tpr4, label='XGBoost (AUC = %0.3f, 95%% CI: %0.3f-%0.3f)' % (roc_auc4, lower4, upper4))\n",
    "plt.xlim([-0.05, 1.05])\n",
    "plt.ylim([-0.05, 1.05])\n",
    "plt.xlabel('False positive rate')\n",
    "plt.ylabel('True positive rate')\n",
    "plt.title('Receiver operating characteristic curve')\n",
    "plt.legend(loc=\"lower right\")"
   ]
  },
  {
   "cell_type": "code",
   "execution_count": 45,
   "id": "a571ba71",
   "metadata": {},
   "outputs": [],
   "source": [
    "from matplotlib.backends.backend_pdf import PdfPages\n",
    "with PdfPages('roc_curve-检验学指标-5年心因死亡.pdf') as pdf:\n",
    "    pdf.savefig(fig1)\n",
    "    plt.close()"
   ]
  },
  {
   "cell_type": "code",
   "execution_count": 10,
   "id": "87160f04",
   "metadata": {},
   "outputs": [],
   "source": [
    "df1 = pd.read_csv(r\"D:\\临床数据\\NHANES数据清洗\\10年心因死亡数据.csv\", low_memory=False)"
   ]
  },
  {
   "cell_type": "code",
   "execution_count": 11,
   "id": "c38a47bf",
   "metadata": {},
   "outputs": [],
   "source": [
    "selected_columns = [\n",
    "    \"SEQN\",\"Gender\",\"Doctor told you have diabetes\", \"Education Level - Adults 20+\", \"Ever told you had a stroke\",\n",
    "    \"Ever told you had coronary heart disease\", \"Ever told you had high blood pressure\",\n",
    "    \"Had at least 12 alcohol drinks/1 yr?\", \"Marital Status\", \"Moderate recreational activities\",\n",
    "    \"Moderate work activity\", \"Race\", \"Smoked at least 100 cigarettes in life\", \n",
    "    \"Vigorous recreational activities\", \"Vigorous work activity\", \"Walk or bicycle\", \"Age\", \n",
    "    \"Minutes sedentary activity\", \"Ratio of family income to poverty\", \"Waist Circumference (cm)\", \n",
    "    \"Alanine Aminotransferase (ALT) (U/L)\", \"Albumin (g/L)\", \"Albumin_urine (mg/L)\", \n",
    "    \"Alkaline Phosphatase (ALP) (IU/L)\", \"Bicarbonate (mmol/L)\", \"Blood urea nitrogen (mmol/L)\", \n",
    "    \"Chloride (mmol/L)\", \"Cholesterol (mmol/L)\", \"Creatinine (umol/L)\", \"Creatinine_urine (umol/L)\", \n",
    "    \"Direct HDL-Cholesterol (mmol/L)\", \"Gamma Glutamyl Transferase (GGT) (U/L)\", \"Globulin (g/L)\", \n",
    "    \"Glucose_serum (mmol/L)\", \"Glycohemoglobin (%)\", \"Hematocrit (%)\", \"Hemoglobin (g/dL)\", \n",
    "    \"Iron_refigerated (umol/L)\", \"Lactate Dehydrogenase (LDH) (U/L)\", \"Lymphocyte number (1000 cells/uL)\", \n",
    "    \"Lymphocyte percent (%)\", \"Mean cell hemoglobin (pg)\", \"Mean cell hemoglobin concentration (g/dL)\", \n",
    "    \"Mean cell volume (fL)\", \"Monocyte number (1000 cells/uL)\", \"Monocyte percent (%)\", \n",
    "    \"Osmolality (mmol/Kg)\", \"Phosphorus (mmol/L)\", \"Platelet count (1000 cells/uL)\", \n",
    "    \"Potassium (mmol/L)\", \"Red blood cell count (million cells/uL)\", \"Red cell distribution width (%)\", \n",
    "    \"Segmented neutrophils num (1000 cell/uL)\", \"Segmented neutrophils percent (%)\", \n",
    "    \"Total protein (g/L)\", \"Uric acid (umol/L)\",\"Sodium (mmol/L)\",\"Total bilirubin (umol/L)\",\"Total calcium (mmol/L)\",\"Triglycerides (mmol/L)\",\n",
    "    \"White blood cell count (1000 cells/uL)\",\"Mean platelet volume (fL)\", \"10 year heart death\"\n",
    "]\n",
    "df2 = df1[selected_columns]"
   ]
  },
  {
   "cell_type": "code",
   "execution_count": 12,
   "id": "667ff50a",
   "metadata": {},
   "outputs": [
    {
     "name": "stderr",
     "output_type": "stream",
     "text": [
      "C:\\Users\\wzc\\AppData\\Local\\Temp\\ipykernel_13812\\1245546008.py:7: SettingWithCopyWarning: \n",
      "A value is trying to be set on a copy of a slice from a DataFrame.\n",
      "Try using .loc[row_indexer,col_indexer] = value instead\n",
      "\n",
      "See the caveats in the documentation: https://pandas.pydata.org/pandas-docs/stable/user_guide/indexing.html#returning-a-view-versus-a-copy\n",
      "  df2[col] = df2[col].astype('category')\n"
     ]
    }
   ],
   "source": [
    "first_col = df2.iloc[:, 0]\n",
    "last_col = df2.iloc[:, -1]\n",
    "for col in df2.columns[1:16]:\n",
    "    df2[col] = df2[col].astype('category')\n",
    "df_encoded = pd.get_dummies(df2.iloc[:, 1:16], drop_first=True)\n",
    "scaler = StandardScaler()\n",
    "df_standardized = pd.DataFrame(scaler.fit_transform(df2.iloc[:, 16:-1]), columns=df2.columns[16:-1])\n",
    "df3 = pd.concat([first_col, df_encoded, df_standardized, last_col], axis=1)"
   ]
  },
  {
   "cell_type": "code",
   "execution_count": 13,
   "id": "9093f8a0",
   "metadata": {},
   "outputs": [],
   "source": [
    "x = df3.iloc[:, 1:73]\n",
    "y = df3['10 year heart death']"
   ]
  },
  {
   "cell_type": "code",
   "execution_count": 142,
   "id": "1d047961",
   "metadata": {},
   "outputs": [
    {
     "name": "stdout",
     "output_type": "stream",
     "text": [
      "AUC: 0.908 (0.886-0.929)\n"
     ]
    }
   ],
   "source": [
    "from sklearn.model_selection import train_test_split\n",
    "x_train, x_test, y_train, y_test = train_test_split(x, y, test_size=0.3, random_state=42)\n",
    "from sklearn.linear_model import LogisticRegression\n",
    "estimator = LogisticRegression(max_iter=200)\n",
    "estimator.fit(x_train, y_train)\n",
    "from sklearn.metrics import roc_auc_score\n",
    "y_true = y_test\n",
    "probs1 = estimator.predict_proba(x_test)[:, 1]\n",
    "auc_LR = roc_auc_score(y_true, probs1)\n",
    "from sklearn.utils import resample\n",
    "import numpy as np\n",
    "n_iterations = 1000\n",
    "auc_scores = []\n",
    "\n",
    "for i in range(n_iterations):\n",
    "    x_test_resampled, y_test_resampled = resample(x_test, y_test, replace=True)\n",
    "    y_pred_resampled = estimator.predict_proba(x_test_resampled)[:, 1]\n",
    "    auc_resampled = roc_auc_score(y_test_resampled, y_pred_resampled)\n",
    "    auc_scores.append(auc_resampled)\n",
    "alpha = 0.95\n",
    "lower1 = np.percentile(auc_scores, (1 - alpha) / 2 * 100)\n",
    "upper1 = np.percentile(auc_scores, (1 + alpha) / 2 * 100)\n",
    "print(f\"AUC: {auc_LR:.3f} ({lower1:.3f}-{upper1:.3f})\")"
   ]
  },
  {
   "cell_type": "code",
   "execution_count": 143,
   "id": "497d0fae",
   "metadata": {},
   "outputs": [
    {
     "data": {
      "text/plain": [
       "['LR-生活方式+检验学指标-10年心因死亡.joblib']"
      ]
     },
     "execution_count": 143,
     "metadata": {},
     "output_type": "execute_result"
    }
   ],
   "source": [
    "import joblib\n",
    "joblib.dump(estimator, 'LR-生活方式+检验学指标-10年心因死亡.joblib')"
   ]
  },
  {
   "cell_type": "code",
   "execution_count": 144,
   "id": "1e3d0b9a",
   "metadata": {},
   "outputs": [
    {
     "name": "stdout",
     "output_type": "stream",
     "text": [
      "AUC: 0.893 (0.867-0.915)\n"
     ]
    }
   ],
   "source": [
    "from sklearn.ensemble import RandomForestClassifier\n",
    "estimator = RandomForestClassifier()\n",
    "estimator.fit(x_train, y_train)\n",
    "probs2 = estimator.predict_proba(x_test)[:, 1]\n",
    "auc_RF = roc_auc_score(y_true, probs2)\n",
    "n_iterations = 1000\n",
    "auc_scores = []\n",
    "\n",
    "for i in range(n_iterations):\n",
    "    x_test_resampled, y_test_resampled = resample(x_test, y_test, replace=True)\n",
    "    y_pred_resampled = estimator.predict_proba(x_test_resampled)[:, 1]\n",
    "    auc_resampled = roc_auc_score(y_test_resampled, y_pred_resampled)\n",
    "    auc_scores.append(auc_resampled)\n",
    "\n",
    "alpha = 0.95\n",
    "lower2 = np.percentile(auc_scores, (1 - alpha) / 2 * 100)\n",
    "upper2 = np.percentile(auc_scores, (1 + alpha) / 2 * 100)\n",
    "print(f\"AUC: {auc_RF:.3f} ({lower2:.3f}-{upper2:.3f})\")"
   ]
  },
  {
   "cell_type": "code",
   "execution_count": 145,
   "id": "f5e77711",
   "metadata": {},
   "outputs": [
    {
     "data": {
      "text/plain": [
       "['RF-生活方式+检验学指标-10年心因死亡.joblib']"
      ]
     },
     "execution_count": 145,
     "metadata": {},
     "output_type": "execute_result"
    }
   ],
   "source": [
    "import joblib\n",
    "joblib.dump(estimator, 'RF-生活方式+检验学指标-10年心因死亡.joblib')"
   ]
  },
  {
   "cell_type": "code",
   "execution_count": 146,
   "id": "0c4dca9a",
   "metadata": {},
   "outputs": [
    {
     "name": "stdout",
     "output_type": "stream",
     "text": [
      "AUC: 0.872 (0.846-0.894)\n"
     ]
    }
   ],
   "source": [
    "from sklearn.svm import SVC\n",
    "estimator = SVC(probability=True)\n",
    "estimator.fit(x_train, y_train)\n",
    "probs3 = estimator.predict_proba(x_test)[:, 1]\n",
    "auc_SVM = roc_auc_score(y_true, probs3)\n",
    "n_iterations = 1000\n",
    "auc_scores = []\n",
    "\n",
    "for i in range(n_iterations):\n",
    "    x_test_resampled, y_test_resampled = resample(x_test, y_test, replace=True)\n",
    "    y_pred_resampled = estimator.predict_proba(x_test_resampled)[:, 1]\n",
    "    auc_resampled = roc_auc_score(y_test_resampled, y_pred_resampled)\n",
    "    auc_scores.append(auc_resampled)\n",
    "alpha = 0.95\n",
    "lower3 = np.percentile(auc_scores, (1 - alpha) / 2 * 100)\n",
    "upper3 = np.percentile(auc_scores, (1 + alpha) / 2 * 100)\n",
    "print(f\"AUC: {auc_SVM:.3f} ({lower3:.3f}-{upper3:.3f})\")"
   ]
  },
  {
   "cell_type": "code",
   "execution_count": 147,
   "id": "a3000831",
   "metadata": {},
   "outputs": [
    {
     "data": {
      "text/plain": [
       "['SVM-生活方式+检验学指标-10年心因死亡.joblib']"
      ]
     },
     "execution_count": 147,
     "metadata": {},
     "output_type": "execute_result"
    }
   ],
   "source": [
    "import joblib\n",
    "joblib.dump(estimator, 'SVM-生活方式+检验学指标-10年心因死亡.joblib')"
   ]
  },
  {
   "cell_type": "code",
   "execution_count": 148,
   "id": "c88110ac",
   "metadata": {},
   "outputs": [
    {
     "name": "stdout",
     "output_type": "stream",
     "text": [
      "AUC: 0.893 (0.869-0.916)\n"
     ]
    }
   ],
   "source": [
    "import xgboost as xgb\n",
    "estimator = xgb.XGBClassifier()\n",
    "estimator.fit(x_train, y_train)\n",
    "probs4 = estimator.predict_proba(x_test)[:, 1]\n",
    "auc_XGBoost = roc_auc_score(y_true, probs4)\n",
    "n_iterations = 1000\n",
    "auc_scores = []\n",
    "\n",
    "for i in range(n_iterations):\n",
    "    x_test_resampled, y_test_resampled = resample(x_test, y_test, replace=True)\n",
    "    y_pred_resampled = estimator.predict_proba(x_test_resampled)[:, 1]\n",
    "    auc_resampled = roc_auc_score(y_test_resampled, y_pred_resampled)\n",
    "    auc_scores.append(auc_resampled)\n",
    "alpha = 0.95\n",
    "lower4 = np.percentile(auc_scores, (1 - alpha) / 2 * 100)\n",
    "upper4 = np.percentile(auc_scores, (1 + alpha) / 2 * 100)\n",
    "print(f\"AUC: {auc_XGBoost:.3f} ({lower4:.3f}-{upper4:.3f})\")"
   ]
  },
  {
   "cell_type": "code",
   "execution_count": 149,
   "id": "08fd8ef1",
   "metadata": {},
   "outputs": [
    {
     "data": {
      "text/plain": [
       "['XGBoost-生活方式+检验学指标-10年心因死亡.joblib']"
      ]
     },
     "execution_count": 149,
     "metadata": {},
     "output_type": "execute_result"
    }
   ],
   "source": [
    "import joblib\n",
    "joblib.dump(estimator, 'XGBoost-生活方式+检验学指标-10年心因死亡.joblib')"
   ]
  },
  {
   "cell_type": "code",
   "execution_count": 150,
   "id": "7cd79dd8",
   "metadata": {},
   "outputs": [
    {
     "name": "stdout",
     "output_type": "stream",
     "text": [
      "当前字体设置：\n",
      "字体系列： ['Arial']\n",
      "字体名称： DejaVu Sans\n"
     ]
    },
    {
     "data": {
      "text/plain": [
       "<matplotlib.legend.Legend at 0x22a4d076e10>"
      ]
     },
     "execution_count": 150,
     "metadata": {},
     "output_type": "execute_result"
    },
    {
     "data": {
      "image/png": "[encoded data removed]",
      "text/plain": [
       "<Figure size 640x480 with 1 Axes>"
      ]
     },
     "metadata": {},
     "output_type": "display_data"
    }
   ],
   "source": [
    "import matplotlib.pyplot as plt\n",
    "from sklearn.metrics import roc_curve\n",
    "fpr1, tpr1, thresholds = roc_curve(y_true, probs1)\n",
    "fpr2, tpr2, thresholds = roc_curve(y_true, probs2)\n",
    "fpr3, tpr3, thresholds = roc_curve(y_true, probs3)\n",
    "fpr4, tpr4, thresholds = roc_curve(y_true, probs4)\n",
    "plt.rcParams['font.family'] = 'Arial'\n",
    "params = plt.rcParams\n",
    "font_family = params['font.family']\n",
    "font_name = params['font.sans-serif'][0]\n",
    "print(\"当前字体设置：\")\n",
    "print(\"字体系列：\", font_family)\n",
    "print(\"字体名称：\", font_name)\n",
    "from sklearn.metrics import roc_curve, auc\n",
    "roc_auc1 = auc(fpr1, tpr1)\n",
    "roc_auc2 = auc(fpr2, tpr2)\n",
    "roc_auc3 = auc(fpr3, tpr3)\n",
    "roc_auc4 = auc(fpr4, tpr4)\n",
    "fig1 = plt.figure()\n",
    "plt.plot([0, 1], [0, 1], 'k--')\n",
    "plt.plot(fpr1, tpr1, label='LR (AUC = %0.3f, 95%% CI: %0.3f-%0.3f)' % (roc_auc1, lower1, upper1))\n",
    "plt.plot(fpr2, tpr2, label='RF (AUC = %0.3f, 95%% CI: %0.3f-%0.3f)' % (roc_auc2, lower2, upper2))\n",
    "plt.plot(fpr3, tpr3, label='SVM (AUC = %0.3f, 95%% CI: %0.3f-%0.3f)' % (roc_auc3, lower3, upper3))\n",
    "plt.plot(fpr4, tpr4, label='XGBoost (AUC = %0.3f, 95%% CI: %0.3f-%0.3f)' % (roc_auc4, lower4, upper4))\n",
    "plt.xlim([-0.05, 1.05])\n",
    "plt.ylim([-0.05, 1.05])\n",
    "plt.xlabel('False positive rate')\n",
    "plt.ylabel('True positive rate')\n",
    "plt.title('Receiver operating characteristic curve')\n",
    "plt.legend(loc=\"lower right\")"
   ]
  },
  {
   "cell_type": "code",
   "execution_count": 151,
   "id": "8a0e7a01",
   "metadata": {},
   "outputs": [],
   "source": [
    "from matplotlib.backends.backend_pdf import PdfPages\n",
    "with PdfPages('roc_curve-生活方式+检验学指标-10年心因死亡.pdf') as pdf:\n",
    "    pdf.savefig(fig1)\n",
    "    plt.close()"
   ]
  },
  {
   "cell_type": "code",
   "execution_count": 154,
   "id": "04c624a5",
   "metadata": {},
   "outputs": [],
   "source": [
    "x = df3.iloc[:, 1:31]\n",
    "y = df3['10 year heart death']"
   ]
  },
  {
   "cell_type": "code",
   "execution_count": 159,
   "id": "2e053b1d",
   "metadata": {},
   "outputs": [
    {
     "name": "stdout",
     "output_type": "stream",
     "text": [
      "AUC: 0.893 (0.870-0.916)\n"
     ]
    }
   ],
   "source": [
    "from sklearn.model_selection import train_test_split\n",
    "x_train, x_test, y_train, y_test = train_test_split(x, y, test_size=0.3, random_state=42)\n",
    "from sklearn.linear_model import LogisticRegression\n",
    "estimator = LogisticRegression(max_iter=200)\n",
    "estimator.fit(x_train, y_train)\n",
    "from sklearn.metrics import roc_auc_score\n",
    "y_true = y_test\n",
    "probs1 = estimator.predict_proba(x_test)[:, 1]\n",
    "auc_LR = roc_auc_score(y_true, probs1)\n",
    "from sklearn.utils import resample\n",
    "import numpy as np\n",
    "n_iterations = 1000\n",
    "auc_scores = []\n",
    "\n",
    "for i in range(n_iterations):\n",
    "    x_test_resampled, y_test_resampled = resample(x_test, y_test, replace=True)\n",
    "    y_pred_resampled = estimator.predict_proba(x_test_resampled)[:, 1]\n",
    "    auc_resampled = roc_auc_score(y_test_resampled, y_pred_resampled)\n",
    "    auc_scores.append(auc_resampled)\n",
    "alpha = 0.95\n",
    "lower1 = np.percentile(auc_scores, (1 - alpha) / 2 * 100)\n",
    "upper1 = np.percentile(auc_scores, (1 + alpha) / 2 * 100)\n",
    "print(f\"AUC: {auc_LR:.3f} ({lower1:.3f}-{upper1:.3f})\")"
   ]
  },
  {
   "cell_type": "code",
   "execution_count": 160,
   "id": "a018c39b",
   "metadata": {},
   "outputs": [
    {
     "data": {
      "text/plain": [
       "['LR-生活方式-10年心因死亡.joblib']"
      ]
     },
     "execution_count": 160,
     "metadata": {},
     "output_type": "execute_result"
    }
   ],
   "source": [
    "import joblib\n",
    "joblib.dump(estimator, 'LR-生活方式-10年心因死亡.joblib')"
   ]
  },
  {
   "cell_type": "code",
   "execution_count": 157,
   "id": "79b609d5",
   "metadata": {},
   "outputs": [
    {
     "name": "stdout",
     "output_type": "stream",
     "text": [
      "AUC: 0.881 (0.856-0.904)\n"
     ]
    }
   ],
   "source": [
    "from sklearn.ensemble import RandomForestClassifier\n",
    "estimator = RandomForestClassifier()\n",
    "estimator.fit(x_train, y_train)\n",
    "probs2 = estimator.predict_proba(x_test)[:, 1]\n",
    "auc_RF = roc_auc_score(y_true, probs2)\n",
    "n_iterations = 1000\n",
    "auc_scores = []\n",
    "\n",
    "for i in range(n_iterations):\n",
    "    x_test_resampled, y_test_resampled = resample(x_test, y_test, replace=True)\n",
    "    y_pred_resampled = estimator.predict_proba(x_test_resampled)[:, 1]\n",
    "    auc_resampled = roc_auc_score(y_test_resampled, y_pred_resampled)\n",
    "    auc_scores.append(auc_resampled)\n",
    "alpha = 0.95\n",
    "lower2 = np.percentile(auc_scores, (1 - alpha) / 2 * 100)\n",
    "upper2 = np.percentile(auc_scores, (1 + alpha) / 2 * 100)\n",
    "print(f\"AUC: {auc_RF:.3f} ({lower2:.3f}-{upper2:.3f})\")"
   ]
  },
  {
   "cell_type": "code",
   "execution_count": 158,
   "id": "9277fdea",
   "metadata": {},
   "outputs": [
    {
     "data": {
      "text/plain": [
       "['RF-生活方式-10年心因死亡.joblib']"
      ]
     },
     "execution_count": 158,
     "metadata": {},
     "output_type": "execute_result"
    }
   ],
   "source": [
    "import joblib\n",
    "joblib.dump(estimator, 'RF-生活方式-10年心因死亡.joblib')"
   ]
  },
  {
   "cell_type": "code",
   "execution_count": 161,
   "id": "3226433b",
   "metadata": {},
   "outputs": [
    {
     "name": "stdout",
     "output_type": "stream",
     "text": [
      "AUC: 0.814 (0.778-0.845)\n"
     ]
    }
   ],
   "source": [
    "from sklearn.svm import SVC\n",
    "estimator = SVC(probability=True)\n",
    "estimator.fit(x_train, y_train)\n",
    "probs3 = estimator.predict_proba(x_test)[:, 1]\n",
    "auc_SVM = roc_auc_score(y_true, probs3)\n",
    "n_iterations = 1000\n",
    "auc_scores = []\n",
    "\n",
    "for i in range(n_iterations):\n",
    "    x_test_resampled, y_test_resampled = resample(x_test, y_test, replace=True)\n",
    "    y_pred_resampled = estimator.predict_proba(x_test_resampled)[:, 1]\n",
    "    auc_resampled = roc_auc_score(y_test_resampled, y_pred_resampled)\n",
    "    auc_scores.append(auc_resampled)\n",
    "alpha = 0.95\n",
    "lower3 = np.percentile(auc_scores, (1 - alpha) / 2 * 100)\n",
    "upper3 = np.percentile(auc_scores, (1 + alpha) / 2 * 100)\n",
    "print(f\"AUC: {auc_SVM:.3f} ({lower3:.3f}-{upper3:.3f})\")"
   ]
  },
  {
   "cell_type": "code",
   "execution_count": 162,
   "id": "7ec53635",
   "metadata": {},
   "outputs": [
    {
     "data": {
      "text/plain": [
       "['SVM-生活方式-10年心因死亡.joblib']"
      ]
     },
     "execution_count": 162,
     "metadata": {},
     "output_type": "execute_result"
    }
   ],
   "source": [
    "import joblib\n",
    "joblib.dump(estimator, 'SVM-生活方式-10年心因死亡.joblib')"
   ]
  },
  {
   "cell_type": "code",
   "execution_count": 163,
   "id": "b2481b91",
   "metadata": {},
   "outputs": [
    {
     "name": "stdout",
     "output_type": "stream",
     "text": [
      "AUC: 0.874 (0.847-0.897)\n"
     ]
    }
   ],
   "source": [
    "import xgboost as xgb\n",
    "estimator = xgb.XGBClassifier()\n",
    "estimator.fit(x_train, y_train)\n",
    "probs4 = estimator.predict_proba(x_test)[:, 1]\n",
    "auc_XGBoost = roc_auc_score(y_true, probs4)\n",
    "n_iterations = 1000\n",
    "auc_scores = []\n",
    "\n",
    "for i in range(n_iterations):\n",
    "    x_test_resampled, y_test_resampled = resample(x_test, y_test, replace=True)\n",
    "    y_pred_resampled = estimator.predict_proba(x_test_resampled)[:, 1]\n",
    "    auc_resampled = roc_auc_score(y_test_resampled, y_pred_resampled)\n",
    "    auc_scores.append(auc_resampled)\n",
    "alpha = 0.95\n",
    "lower4 = np.percentile(auc_scores, (1 - alpha) / 2 * 100)\n",
    "upper4 = np.percentile(auc_scores, (1 + alpha) / 2 * 100)\n",
    "print(f\"AUC: {auc_XGBoost:.3f} ({lower4:.3f}-{upper4:.3f})\")"
   ]
  },
  {
   "cell_type": "code",
   "execution_count": 164,
   "id": "d03ac7df",
   "metadata": {},
   "outputs": [
    {
     "data": {
      "text/plain": [
       "['XGBoost-生活方式-10年心因死亡.joblib']"
      ]
     },
     "execution_count": 164,
     "metadata": {},
     "output_type": "execute_result"
    }
   ],
   "source": [
    "joblib.dump(estimator, 'XGBoost-生活方式-10年心因死亡.joblib')"
   ]
  },
  {
   "cell_type": "code",
   "execution_count": 165,
   "id": "097a30f4",
   "metadata": {},
   "outputs": [
    {
     "name": "stdout",
     "output_type": "stream",
     "text": [
      "当前字体设置：\n",
      "字体系列： ['Arial']\n",
      "字体名称： DejaVu Sans\n"
     ]
    },
    {
     "data": {
      "text/plain": [
       "<matplotlib.legend.Legend at 0x22a4d001fd0>"
      ]
     },
     "execution_count": 165,
     "metadata": {},
     "output_type": "execute_result"
    },
    {
     "data": {
      "image/png": "[encoded data removed]",
      "text/plain": [
       "<Figure size 640x480 with 1 Axes>"
      ]
     },
     "metadata": {},
     "output_type": "display_data"
    }
   ],
   "source": [
    "import matplotlib.pyplot as plt\n",
    "from sklearn.metrics import roc_curve\n",
    "fpr1, tpr1, thresholds = roc_curve(y_true, probs1)\n",
    "fpr2, tpr2, thresholds = roc_curve(y_true, probs2)\n",
    "fpr3, tpr3, thresholds = roc_curve(y_true, probs3)\n",
    "fpr4, tpr4, thresholds = roc_curve(y_true, probs4)\n",
    "plt.rcParams['font.family'] = 'Arial'\n",
    "params = plt.rcParams\n",
    "font_family = params['font.family']\n",
    "font_name = params['font.sans-serif'][0]\n",
    "print(\"当前字体设置：\")\n",
    "print(\"字体系列：\", font_family)\n",
    "print(\"字体名称：\", font_name)\n",
    "from sklearn.metrics import roc_curve, auc\n",
    "roc_auc1 = auc(fpr1, tpr1)\n",
    "roc_auc2 = auc(fpr2, tpr2)\n",
    "roc_auc3 = auc(fpr3, tpr3)\n",
    "roc_auc4 = auc(fpr4, tpr4)\n",
    "fig1 = plt.figure()\n",
    "plt.plot([0, 1], [0, 1], 'k--')\n",
    "plt.plot(fpr1, tpr1, label='LR (AUC = %0.3f, 95%% CI: %0.3f-%0.3f)' % (roc_auc1, lower1, upper1))\n",
    "plt.plot(fpr2, tpr2, label='RF (AUC = %0.3f, 95%% CI: %0.3f-%0.3f)' % (roc_auc2, lower2, upper2))\n",
    "plt.plot(fpr3, tpr3, label='SVM (AUC = %0.3f, 95%% CI: %0.3f-%0.3f)' % (roc_auc3, lower3, upper3))\n",
    "plt.plot(fpr4, tpr4, label='XGBoost (AUC = %0.3f, 95%% CI: %0.3f-%0.3f)' % (roc_auc4, lower4, upper4))\n",
    "plt.xlim([-0.05, 1.05])\n",
    "plt.ylim([-0.05, 1.05])\n",
    "plt.xlabel('False positive rate')\n",
    "plt.ylabel('True positive rate')\n",
    "plt.title('Receiver operating characteristic curve')\n",
    "plt.legend(loc=\"lower right\")"
   ]
  },
  {
   "cell_type": "code",
   "execution_count": 166,
   "id": "089bcfd4",
   "metadata": {},
   "outputs": [],
   "source": [
    "from matplotlib.backends.backend_pdf import PdfPages\n",
    "with PdfPages('roc_curve-生活方式-10年心因死亡.pdf') as pdf:\n",
    "    pdf.savefig(fig1)\n",
    "    plt.close()"
   ]
  },
  {
   "cell_type": "code",
   "execution_count": 167,
   "id": "bcf3d03d",
   "metadata": {},
   "outputs": [],
   "source": [
    "x = df3.iloc[:, 31:73]\n",
    "y = df3['10 year heart death']"
   ]
  },
  {
   "cell_type": "code",
   "execution_count": 169,
   "id": "1c0f0f2d",
   "metadata": {},
   "outputs": [
    {
     "name": "stdout",
     "output_type": "stream",
     "text": [
      "AUC: 0.847 (0.816-0.872)\n"
     ]
    }
   ],
   "source": [
    "from sklearn.model_selection import train_test_split\n",
    "x_train, x_test, y_train, y_test = train_test_split(x, y, test_size=0.3, random_state=42)\n",
    "from sklearn.linear_model import LogisticRegression\n",
    "estimator = LogisticRegression(max_iter=200)\n",
    "estimator.fit(x_train, y_train)\n",
    "from sklearn.metrics import roc_auc_score\n",
    "y_true = y_test\n",
    "probs1 = estimator.predict_proba(x_test)[:, 1]\n",
    "auc_LR = roc_auc_score(y_true, probs1)\n",
    "from sklearn.utils import resample\n",
    "import numpy as np\n",
    "n_iterations = 1000\n",
    "auc_scores = []\n",
    "\n",
    "for i in range(n_iterations):\n",
    "    x_test_resampled, y_test_resampled = resample(x_test, y_test, replace=True)\n",
    "    y_pred_resampled = estimator.predict_proba(x_test_resampled)[:, 1]\n",
    "    auc_resampled = roc_auc_score(y_test_resampled, y_pred_resampled)\n",
    "    auc_scores.append(auc_resampled)\n",
    "alpha = 0.95\n",
    "lower1 = np.percentile(auc_scores, (1 - alpha) / 2 * 100)\n",
    "upper1 = np.percentile(auc_scores, (1 + alpha) / 2 * 100)\n",
    "print(f\"AUC: {auc_LR:.3f} ({lower1:.3f}-{upper1:.3f})\")"
   ]
  },
  {
   "cell_type": "code",
   "execution_count": 170,
   "id": "77952a94",
   "metadata": {},
   "outputs": [
    {
     "data": {
      "text/plain": [
       "['LR-检验学指标-10年心因死亡.joblib']"
      ]
     },
     "execution_count": 170,
     "metadata": {},
     "output_type": "execute_result"
    }
   ],
   "source": [
    "import joblib\n",
    "joblib.dump(estimator, 'LR-检验学指标-10年心因死亡.joblib')"
   ]
  },
  {
   "cell_type": "code",
   "execution_count": 171,
   "id": "3e94ab06",
   "metadata": {},
   "outputs": [
    {
     "name": "stdout",
     "output_type": "stream",
     "text": [
      "AUC: 0.826 (0.794-0.856)\n"
     ]
    }
   ],
   "source": [
    "from sklearn.ensemble import RandomForestClassifier\n",
    "estimator = RandomForestClassifier()\n",
    "estimator.fit(x_train, y_train)\n",
    "probs2 = estimator.predict_proba(x_test)[:, 1]\n",
    "auc_RF = roc_auc_score(y_true, probs2)\n",
    "n_iterations = 1000\n",
    "auc_scores = []\n",
    "\n",
    "for i in range(n_iterations):\n",
    "    x_test_resampled, y_test_resampled = resample(x_test, y_test, replace=True)\n",
    "    y_pred_resampled = estimator.predict_proba(x_test_resampled)[:, 1]\n",
    "    auc_resampled = roc_auc_score(y_test_resampled, y_pred_resampled)\n",
    "    auc_scores.append(auc_resampled)\n",
    "alpha = 0.95\n",
    "lower2 = np.percentile(auc_scores, (1 - alpha) / 2 * 100)\n",
    "upper2 = np.percentile(auc_scores, (1 + alpha) / 2 * 100)\n",
    "print(f\"AUC: {auc_RF:.3f} ({lower2:.3f}-{upper2:.3f})\")"
   ]
  },
  {
   "cell_type": "code",
   "execution_count": 172,
   "id": "b3754136",
   "metadata": {},
   "outputs": [
    {
     "data": {
      "text/plain": [
       "['RF-检验学指标-10年心因死亡.joblib']"
      ]
     },
     "execution_count": 172,
     "metadata": {},
     "output_type": "execute_result"
    }
   ],
   "source": [
    "import joblib\n",
    "joblib.dump(estimator, 'RF-检验学指标-10年心因死亡.joblib')"
   ]
  },
  {
   "cell_type": "code",
   "execution_count": 173,
   "id": "ffbc6584",
   "metadata": {},
   "outputs": [
    {
     "name": "stdout",
     "output_type": "stream",
     "text": [
      "AUC: 0.766 (0.729-0.800)\n"
     ]
    }
   ],
   "source": [
    "from sklearn.svm import SVC\n",
    "estimator = SVC(probability=True)\n",
    "estimator.fit(x_train, y_train)\n",
    "probs3 = estimator.predict_proba(x_test)[:, 1]\n",
    "auc_SVM = roc_auc_score(y_true, probs3)\n",
    "n_iterations = 1000\n",
    "auc_scores = []\n",
    "\n",
    "for i in range(n_iterations):\n",
    "    x_test_resampled, y_test_resampled = resample(x_test, y_test, replace=True)\n",
    "    y_pred_resampled = estimator.predict_proba(x_test_resampled)[:, 1]\n",
    "    auc_resampled = roc_auc_score(y_test_resampled, y_pred_resampled)\n",
    "    auc_scores.append(auc_resampled)\n",
    "alpha = 0.95\n",
    "lower3 = np.percentile(auc_scores, (1 - alpha) / 2 * 100)\n",
    "upper3 = np.percentile(auc_scores, (1 + alpha) / 2 * 100)\n",
    "print(f\"AUC: {auc_SVM:.3f} ({lower3:.3f}-{upper3:.3f})\")"
   ]
  },
  {
   "cell_type": "code",
   "execution_count": 174,
   "id": "5fc4d333",
   "metadata": {},
   "outputs": [
    {
     "data": {
      "text/plain": [
       "['SVM-检验学指标-10年心因死亡.joblib']"
      ]
     },
     "execution_count": 174,
     "metadata": {},
     "output_type": "execute_result"
    }
   ],
   "source": [
    "import joblib\n",
    "joblib.dump(estimator, 'SVM-检验学指标-10年心因死亡.joblib')"
   ]
  },
  {
   "cell_type": "code",
   "execution_count": 175,
   "id": "5657a907",
   "metadata": {},
   "outputs": [
    {
     "name": "stdout",
     "output_type": "stream",
     "text": [
      "AUC: 0.835 (0.805-0.863)\n"
     ]
    }
   ],
   "source": [
    "import xgboost as xgb\n",
    "estimator = xgb.XGBClassifier()\n",
    "estimator.fit(x_train, y_train)\n",
    "probs4 = estimator.predict_proba(x_test)[:, 1]\n",
    "auc_XGBoost = roc_auc_score(y_true, probs4)\n",
    "n_iterations = 1000\n",
    "auc_scores = []\n",
    "\n",
    "for i in range(n_iterations):\n",
    "    x_test_resampled, y_test_resampled = resample(x_test, y_test, replace=True)\n",
    "    y_pred_resampled = estimator.predict_proba(x_test_resampled)[:, 1]\n",
    "    auc_resampled = roc_auc_score(y_test_resampled, y_pred_resampled)\n",
    "    auc_scores.append(auc_resampled)\n",
    "alpha = 0.95\n",
    "lower4 = np.percentile(auc_scores, (1 - alpha) / 2 * 100)\n",
    "upper4 = np.percentile(auc_scores, (1 + alpha) / 2 * 100)\n",
    "print(f\"AUC: {auc_XGBoost:.3f} ({lower4:.3f}-{upper4:.3f})\")"
   ]
  },
  {
   "cell_type": "code",
   "execution_count": 176,
   "id": "26e2a7c3",
   "metadata": {},
   "outputs": [
    {
     "data": {
      "text/plain": [
       "['XGBoost-检验学指标-10年心因死亡.joblib']"
      ]
     },
     "execution_count": 176,
     "metadata": {},
     "output_type": "execute_result"
    }
   ],
   "source": [
    "import joblib\n",
    "joblib.dump(estimator, 'XGBoost-检验学指标-10年心因死亡.joblib')"
   ]
  },
  {
   "cell_type": "code",
   "execution_count": 17,
   "id": "9a9ef70c",
   "metadata": {},
   "outputs": [
    {
     "ename": "NameError",
     "evalue": "name 'y_true' is not defined",
     "output_type": "error",
     "traceback": [
      "\u001b[1;31m---------------------------------------------------------------------------\u001b[0m",
      "\u001b[1;31mNameError\u001b[0m                                 Traceback (most recent call last)",
      "Cell \u001b[1;32mIn[17], line 3\u001b[0m\n\u001b[0;32m      1\u001b[0m \u001b[38;5;28;01mimport\u001b[39;00m \u001b[38;5;21;01mmatplotlib\u001b[39;00m\u001b[38;5;21;01m.\u001b[39;00m\u001b[38;5;21;01mpyplot\u001b[39;00m \u001b[38;5;28;01mas\u001b[39;00m \u001b[38;5;21;01mplt\u001b[39;00m\n\u001b[0;32m      2\u001b[0m \u001b[38;5;28;01mfrom\u001b[39;00m \u001b[38;5;21;01msklearn\u001b[39;00m\u001b[38;5;21;01m.\u001b[39;00m\u001b[38;5;21;01mmetrics\u001b[39;00m \u001b[38;5;28;01mimport\u001b[39;00m roc_curve\n\u001b[1;32m----> 3\u001b[0m fpr1, tpr1, thresholds \u001b[38;5;241m=\u001b[39m roc_curve(y_true, probs1)\n\u001b[0;32m      4\u001b[0m fpr2, tpr2, thresholds \u001b[38;5;241m=\u001b[39m roc_curve(y_true, probs2)\n\u001b[0;32m      5\u001b[0m fpr3, tpr3, thresholds \u001b[38;5;241m=\u001b[39m roc_curve(y_true, probs3)\n",
      "\u001b[1;31mNameError\u001b[0m: name 'y_true' is not defined"
     ]
    }
   ],
   "source": [
    "import matplotlib.pyplot as plt\n",
    "from sklearn.metrics import roc_curve\n",
    "fpr1, tpr1, thresholds = roc_curve(y_true, probs1)\n",
    "fpr2, tpr2, thresholds = roc_curve(y_true, probs2)\n",
    "fpr3, tpr3, thresholds = roc_curve(y_true, probs3)\n",
    "fpr4, tpr4, thresholds = roc_curve(y_true, probs4)\n",
    "plt.rcParams['font.family'] = 'Arial'\n",
    "params = plt.rcParams\n",
    "font_family = params['font.family']\n",
    "font_name = params['font.sans-serif'][0]\n",
    "print(\"当前字体设置：\")\n",
    "print(\"字体系列：\", font_family)\n",
    "print(\"字体名称：\", font_name)\n",
    "from sklearn.metrics import roc_curve, auc\n",
    "roc_auc1 = auc(fpr1, tpr1)\n",
    "roc_auc2 = auc(fpr2, tpr2)\n",
    "roc_auc3 = auc(fpr3, tpr3)\n",
    "roc_auc4 = auc(fpr4, tpr4)\n",
    "fig1 = plt.figure()\n",
    "plt.plot([0, 1], [0, 1], 'k--')\n",
    "plt.plot(fpr1, tpr1, label='LR (AUC = %0.3f, 95%% CI: %0.3f-%0.3f)' % (roc_auc1, lower1, upper1))\n",
    "plt.plot(fpr2, tpr2, label='RF (AUC = %0.3f, 95%% CI: %0.3f-%0.3f)' % (roc_auc2, lower2, upper2))\n",
    "plt.plot(fpr3, tpr3, label='SVM (AUC = %0.3f, 95%% CI: %0.3f-%0.3f)' % (roc_auc3, lower3, upper3))\n",
    "plt.plot(fpr4, tpr4, label='XGBoost (AUC = %0.3f, 95%% CI: %0.3f-%0.3f)' % (roc_auc4, lower4, upper4))\n",
    "plt.xlim([-0.05, 1.05])\n",
    "plt.ylim([-0.05, 1.05])\n",
    "plt.xlabel('False positive rate')\n",
    "plt.ylabel('True positive rate')\n",
    "plt.title('Receiver operating characteristic curve')\n",
    "plt.legend(loc=\"lower right\")"
   ]
  },
  {
   "cell_type": "code",
   "execution_count": 178,
   "id": "93446508",
   "metadata": {},
   "outputs": [],
   "source": [
    "from matplotlib.backends.backend_pdf import PdfPages\n",
    "with PdfPages('roc_curve-检验学指标-10年心因死亡.pdf') as pdf:\n",
    "    pdf.savefig(fig1)\n",
    "    plt.close()"
   ]
  },
  {
   "cell_type": "code",
   "execution_count": null,
   "id": "9697a91d",
   "metadata": {},
   "outputs": [],
   "source": []
  }
 ],
 "metadata": {
  "kernelspec": {
   "display_name": "Python 3 (ipykernel)",
   "language": "python",
   "name": "python3"
  },
  "language_info": {
   "codemirror_mode": {
    "name": "ipython",
    "version": 3
   },
   "file_extension": ".py",
   "mimetype": "text/x-python",
   "name": "python",
   "nbconvert_exporter": "python",
   "pygments_lexer": "ipython3",
   "version": "3.11.5"
  }
 },
 "nbformat": 4,
 "nbformat_minor": 5
}
