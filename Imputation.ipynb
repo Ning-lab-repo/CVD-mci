{
 "cells": [
  {
   "cell_type": "code",
   "execution_count": null,
   "id": "b7a254d8-fd3b-4419-b48c-0ffe341a15f6",
   "metadata": {},
   "outputs": [],
   "source": [
    "import pandas as pd\n",
    "from sklearn.impute import KNNImputer\n",
    "from sklearn.model_selection import train_test_split\n",
    "\n",
    "file_path = r'D:\\临床数据\\NHANES数据清洗\\df1.csv'\n",
    "\n",
    "df1 = pd.read_csv(file_path, low_memory=False)\n",
    "\n",
    "cols_to_impute = df1.iloc[:, 1:68]\n",
    "\n",
    "categorical_cols = cols_to_impute.columns[6:21]  \n",
    "numeric_cols = cols_to_impute.columns.drop(categorical_cols)\n",
    "\n",
    "train_df, val_df = train_test_split(df1, test_size=0.3, random_state=42)\n",
    "\n",
    "train_impute_part = train_df.iloc[:, 1:68]\n",
    "val_impute_part = val_df.iloc[:, 1:68]\n",
    "\n",
    "imputer = KNNImputer(n_neighbors=5)\n",
    "imputer.fit(train_impute_part) \n",
    "\n",
    "train_imputed = imputer.transform(train_impute_part)\n",
    "val_imputed = imputer.transform(val_impute_part)\n",
    "\n",
    "train_imputed_df = pd.DataFrame(train_imputed, columns=train_impute_part.columns, index=train_df.index)\n",
    "val_imputed_df = pd.DataFrame(val_imputed, columns=val_impute_part.columns, index=val_df.index)\n",
    "\n",
    "train_imputed_df[categorical_cols] = train_imputed_df[categorical_cols].round().astype(int)\n",
    "val_imputed_df[categorical_cols] = val_imputed_df[categorical_cols].round().astype(int)\n",
    "\n",
    "train_df.iloc[:, 1:68] = train_imputed_df\n",
    "val_df.iloc[:, 1:68] = val_imputed_df\n",
    "\n",
    "train_output = r\"D:\\临床数据\\NHANES数据清洗\\train_imputed.csv\"\n",
    "val_output = r\"D:\\临床数据\\NHANES数据清洗\\val_imputed.csv\"\n",
    "\n",
    "train_df.to_csv(train_output, index=False)\n",
    "val_df.to_csv(val_output, index=False)"
   ]
  }
 ],
 "metadata": {
  "kernelspec": {
   "display_name": "Python 3 (ipykernel)",
   "language": "python",
   "name": "python3"
  },
  "language_info": {
   "codemirror_mode": {
    "name": "ipython",
    "version": 3
   },
   "file_extension": ".py",
   "mimetype": "text/x-python",
   "name": "python",
   "nbconvert_exporter": "python",
   "pygments_lexer": "ipython3",
   "version": "3.11.5"
  }
 },
 "nbformat": 4,
 "nbformat_minor": 5
}
